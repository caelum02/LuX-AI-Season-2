{
 "cells": [
  {
   "cell_type": "code",
   "execution_count": 3,
   "metadata": {},
   "outputs": [],
   "source": [
    "from jux.env import JuxEnv, JuxEnvBatch\n",
    "from jax.tree_util import tree_map\n",
    "\n",
    "from jux.config import JuxBufferConfig"
   ]
  },
  {
   "cell_type": "code",
   "execution_count": 2,
   "metadata": {},
   "outputs": [],
   "source": [
    "env = JuxEnv(buf_cfg=JuxBufferConfig(MAX_N_UNITS=1000))\n",
    "state = env.reset(42)"
   ]
  },
  {
   "cell_type": "code",
   "execution_count": null,
   "metadata": {},
   "outputs": [
    {
     "ename": "AttributeError",
     "evalue": "'JuxEnv' object has no attribute 'state'",
     "output_type": "error",
     "traceback": [
      "\u001b[0;31m---------------------------------------------------------------------------\u001b[0m",
      "\u001b[0;31mAttributeError\u001b[0m                            Traceback (most recent call last)",
      "\u001b[1;32m/workspaces/LuX-AI-Season-2/src/env_size.ipynb 셀 3\u001b[0m line \u001b[0;36m1\n\u001b[0;32m----> <a href='vscode-notebook-cell://codespaces%2Bcrispy-disco-xv756jrr6wc66gw/workspaces/LuX-AI-Season-2/src/env_size.ipynb#W2sdnNjb2RlLXJlbW90ZQ%3D%3D?line=0'>1</a>\u001b[0m tree_map(env, \u001b[39mlambda\u001b[39;00m x: x\u001b[39m.\u001b[39mnbytes, env\u001b[39m.\u001b[39;49mstate)\n",
      "\u001b[0;31mAttributeError\u001b[0m: 'JuxEnv' object has no attribute 'state'"
     ]
    }
   ],
   "source": [
    "tree_map(env, lambda x: x.nbytes, env.state)"
   ]
  },
  {
   "cell_type": "code",
   "execution_count": null,
   "metadata": {},
   "outputs": [],
   "source": [
    "from preprocess import get_feature\n",
    "get_feature(s)"
   ]
  }
 ],
 "metadata": {
  "kernelspec": {
   "display_name": ".venv",
   "language": "python",
   "name": "python3"
  },
  "language_info": {
   "codemirror_mode": {
    "name": "ipython",
    "version": 3
   },
   "file_extension": ".py",
   "mimetype": "text/x-python",
   "name": "python",
   "nbconvert_exporter": "python",
   "pygments_lexer": "ipython3",
   "version": "3.10.13"
  }
 },
 "nbformat": 4,
 "nbformat_minor": 2
}
