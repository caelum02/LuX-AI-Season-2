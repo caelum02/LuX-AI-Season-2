{
 "cells": [
  {
   "cell_type": "code",
   "execution_count": 19,
   "metadata": {},
   "outputs": [],
   "source": [
    "from jux.env import JuxEnv, JuxEnvBatch\n",
    "from jax.tree_util import tree_map, tree_reduce\n",
    "\n",
    "from jux.config import JuxBufferConfig\n",
    "from rich import print as rprint"
   ]
  },
  {
   "cell_type": "code",
   "execution_count": 2,
   "metadata": {},
   "outputs": [],
   "source": [
    "env = JuxEnv(buf_cfg=JuxBufferConfig(MAX_N_UNITS=1000))\n",
    "state = env.reset(42)"
   ]
  },
  {
   "cell_type": "code",
   "execution_count": 16,
   "metadata": {},
   "outputs": [
    {
     "data": {
      "text/html": [
       "<pre style=\"white-space:pre;overflow-x:auto;line-height:normal;font-family:Menlo,'DejaVu Sans Mono',consolas,'Courier New',monospace\"><span style=\"color: #800080; text-decoration-color: #800080; font-weight: bold\">State</span><span style=\"font-weight: bold\">(</span>\n",
       "    <span style=\"color: #808000; text-decoration-color: #808000\">env_cfg</span>=<span style=\"color: #800080; text-decoration-color: #800080; font-weight: bold\">EnvConfig</span><span style=\"font-weight: bold\">(</span>\n",
       "        <span style=\"color: #808000; text-decoration-color: #808000\">max_episode_length</span>=<span style=\"color: #008080; text-decoration-color: #008080; font-weight: bold\">4</span>,\n",
       "        <span style=\"color: #808000; text-decoration-color: #808000\">map_size</span>=<span style=\"color: #008080; text-decoration-color: #008080; font-weight: bold\">4</span>,\n",
       "        <span style=\"color: #808000; text-decoration-color: #808000\">verbose</span>=<span style=\"color: #008080; text-decoration-color: #008080; font-weight: bold\">4</span>,\n",
       "        <span style=\"color: #808000; text-decoration-color: #808000\">validate_action_space</span>=<span style=\"color: #008080; text-decoration-color: #008080; font-weight: bold\">1</span>,\n",
       "        <span style=\"color: #808000; text-decoration-color: #808000\">max_transfer_amount</span>=<span style=\"color: #008080; text-decoration-color: #008080; font-weight: bold\">4</span>,\n",
       "        <span style=\"color: #808000; text-decoration-color: #808000\">MIN_FACTORIES</span>=<span style=\"color: #008080; text-decoration-color: #008080; font-weight: bold\">4</span>,\n",
       "        <span style=\"color: #808000; text-decoration-color: #808000\">MAX_FACTORIES</span>=<span style=\"color: #008080; text-decoration-color: #008080; font-weight: bold\">4</span>,\n",
       "        <span style=\"color: #808000; text-decoration-color: #808000\">CYCLE_LENGTH</span>=<span style=\"color: #008080; text-decoration-color: #008080; font-weight: bold\">4</span>,\n",
       "        <span style=\"color: #808000; text-decoration-color: #808000\">DAY_LENGTH</span>=<span style=\"color: #008080; text-decoration-color: #008080; font-weight: bold\">4</span>,\n",
       "        <span style=\"color: #808000; text-decoration-color: #808000\">UNIT_ACTION_QUEUE_SIZE</span>=<span style=\"color: #008080; text-decoration-color: #008080; font-weight: bold\">4</span>,\n",
       "        <span style=\"color: #808000; text-decoration-color: #808000\">MAX_RUBBLE</span>=<span style=\"color: #008080; text-decoration-color: #008080; font-weight: bold\">4</span>,\n",
       "        <span style=\"color: #808000; text-decoration-color: #808000\">FACTORY_RUBBLE_AFTER_DESTRUCTION</span>=<span style=\"color: #008080; text-decoration-color: #008080; font-weight: bold\">4</span>,\n",
       "        <span style=\"color: #808000; text-decoration-color: #808000\">INIT_WATER_METAL_PER_FACTORY</span>=<span style=\"color: #008080; text-decoration-color: #008080; font-weight: bold\">4</span>,\n",
       "        <span style=\"color: #808000; text-decoration-color: #808000\">INIT_POWER_PER_FACTORY</span>=<span style=\"color: #008080; text-decoration-color: #008080; font-weight: bold\">4</span>,\n",
       "        <span style=\"color: #808000; text-decoration-color: #808000\">MIN_LICHEN_TO_SPREAD</span>=<span style=\"color: #008080; text-decoration-color: #008080; font-weight: bold\">4</span>,\n",
       "        <span style=\"color: #808000; text-decoration-color: #808000\">LICHEN_LOST_WITHOUT_WATER</span>=<span style=\"color: #008080; text-decoration-color: #008080; font-weight: bold\">4</span>,\n",
       "        <span style=\"color: #808000; text-decoration-color: #808000\">LICHEN_GAINED_WITH_WATER</span>=<span style=\"color: #008080; text-decoration-color: #008080; font-weight: bold\">4</span>,\n",
       "        <span style=\"color: #808000; text-decoration-color: #808000\">MAX_LICHEN_PER_TILE</span>=<span style=\"color: #008080; text-decoration-color: #008080; font-weight: bold\">4</span>,\n",
       "        <span style=\"color: #808000; text-decoration-color: #808000\">POWER_PER_CONNECTED_LICHEN_TILE</span>=<span style=\"color: #008080; text-decoration-color: #008080; font-weight: bold\">4</span>,\n",
       "        <span style=\"color: #808000; text-decoration-color: #808000\">LICHEN_WATERING_COST_FACTOR</span>=<span style=\"color: #008080; text-decoration-color: #008080; font-weight: bold\">4</span>,\n",
       "        <span style=\"color: #808000; text-decoration-color: #808000\">BIDDING_SYSTEM</span>=<span style=\"color: #008080; text-decoration-color: #008080; font-weight: bold\">1</span>,\n",
       "        <span style=\"color: #808000; text-decoration-color: #808000\">FACTORY_PROCESSING_RATE_WATER</span>=<span style=\"color: #008080; text-decoration-color: #008080; font-weight: bold\">4</span>,\n",
       "        <span style=\"color: #808000; text-decoration-color: #808000\">ICE_WATER_RATIO</span>=<span style=\"color: #008080; text-decoration-color: #008080; font-weight: bold\">4</span>,\n",
       "        <span style=\"color: #808000; text-decoration-color: #808000\">FACTORY_PROCESSING_RATE_METAL</span>=<span style=\"color: #008080; text-decoration-color: #008080; font-weight: bold\">4</span>,\n",
       "        <span style=\"color: #808000; text-decoration-color: #808000\">ORE_METAL_RATIO</span>=<span style=\"color: #008080; text-decoration-color: #008080; font-weight: bold\">4</span>,\n",
       "        <span style=\"color: #808000; text-decoration-color: #808000\">FACTORY_CHARGE</span>=<span style=\"color: #008080; text-decoration-color: #008080; font-weight: bold\">4</span>,\n",
       "        <span style=\"color: #808000; text-decoration-color: #808000\">FACTORY_WATER_CONSUMPTION</span>=<span style=\"color: #008080; text-decoration-color: #008080; font-weight: bold\">4</span>,\n",
       "        <span style=\"color: #808000; text-decoration-color: #808000\">POWER_LOSS_FACTOR</span>=<span style=\"color: #008080; text-decoration-color: #008080; font-weight: bold\">4</span>,\n",
       "        <span style=\"color: #808000; text-decoration-color: #808000\">ROBOTS</span>=<span style=\"font-weight: bold\">(</span>\n",
       "            <span style=\"color: #800080; text-decoration-color: #800080; font-weight: bold\">UnitConfig</span><span style=\"font-weight: bold\">(</span>\n",
       "                <span style=\"color: #808000; text-decoration-color: #808000\">METAL_COST</span>=<span style=\"color: #008080; text-decoration-color: #008080; font-weight: bold\">4</span>,\n",
       "                <span style=\"color: #808000; text-decoration-color: #808000\">POWER_COST</span>=<span style=\"color: #008080; text-decoration-color: #008080; font-weight: bold\">4</span>,\n",
       "                <span style=\"color: #808000; text-decoration-color: #808000\">CARGO_SPACE</span>=<span style=\"color: #008080; text-decoration-color: #008080; font-weight: bold\">4</span>,\n",
       "                <span style=\"color: #808000; text-decoration-color: #808000\">BATTERY_CAPACITY</span>=<span style=\"color: #008080; text-decoration-color: #008080; font-weight: bold\">4</span>,\n",
       "                <span style=\"color: #808000; text-decoration-color: #808000\">CHARGE</span>=<span style=\"color: #008080; text-decoration-color: #008080; font-weight: bold\">4</span>,\n",
       "                <span style=\"color: #808000; text-decoration-color: #808000\">INIT_POWER</span>=<span style=\"color: #008080; text-decoration-color: #008080; font-weight: bold\">4</span>,\n",
       "                <span style=\"color: #808000; text-decoration-color: #808000\">MOVE_COST</span>=<span style=\"color: #008080; text-decoration-color: #008080; font-weight: bold\">4</span>,\n",
       "                <span style=\"color: #808000; text-decoration-color: #808000\">RUBBLE_MOVEMENT_COST</span>=<span style=\"color: #008080; text-decoration-color: #008080; font-weight: bold\">4</span>,\n",
       "                <span style=\"color: #808000; text-decoration-color: #808000\">DIG_COST</span>=<span style=\"color: #008080; text-decoration-color: #008080; font-weight: bold\">4</span>,\n",
       "                <span style=\"color: #808000; text-decoration-color: #808000\">DIG_RUBBLE_REMOVED</span>=<span style=\"color: #008080; text-decoration-color: #008080; font-weight: bold\">4</span>,\n",
       "                <span style=\"color: #808000; text-decoration-color: #808000\">DIG_RESOURCE_GAIN</span>=<span style=\"color: #008080; text-decoration-color: #008080; font-weight: bold\">4</span>,\n",
       "                <span style=\"color: #808000; text-decoration-color: #808000\">DIG_LICHEN_REMOVED</span>=<span style=\"color: #008080; text-decoration-color: #008080; font-weight: bold\">4</span>,\n",
       "                <span style=\"color: #808000; text-decoration-color: #808000\">SELF_DESTRUCT_COST</span>=<span style=\"color: #008080; text-decoration-color: #008080; font-weight: bold\">4</span>,\n",
       "                <span style=\"color: #808000; text-decoration-color: #808000\">RUBBLE_AFTER_DESTRUCTION</span>=<span style=\"color: #008080; text-decoration-color: #008080; font-weight: bold\">4</span>,\n",
       "                <span style=\"color: #808000; text-decoration-color: #808000\">ACTION_QUEUE_POWER_COST</span>=<span style=\"color: #008080; text-decoration-color: #008080; font-weight: bold\">4</span>\n",
       "            <span style=\"font-weight: bold\">)</span>,\n",
       "            <span style=\"color: #800080; text-decoration-color: #800080; font-weight: bold\">UnitConfig</span><span style=\"font-weight: bold\">(</span>\n",
       "                <span style=\"color: #808000; text-decoration-color: #808000\">METAL_COST</span>=<span style=\"color: #008080; text-decoration-color: #008080; font-weight: bold\">4</span>,\n",
       "                <span style=\"color: #808000; text-decoration-color: #808000\">POWER_COST</span>=<span style=\"color: #008080; text-decoration-color: #008080; font-weight: bold\">4</span>,\n",
       "                <span style=\"color: #808000; text-decoration-color: #808000\">CARGO_SPACE</span>=<span style=\"color: #008080; text-decoration-color: #008080; font-weight: bold\">4</span>,\n",
       "                <span style=\"color: #808000; text-decoration-color: #808000\">BATTERY_CAPACITY</span>=<span style=\"color: #008080; text-decoration-color: #008080; font-weight: bold\">4</span>,\n",
       "                <span style=\"color: #808000; text-decoration-color: #808000\">CHARGE</span>=<span style=\"color: #008080; text-decoration-color: #008080; font-weight: bold\">4</span>,\n",
       "                <span style=\"color: #808000; text-decoration-color: #808000\">INIT_POWER</span>=<span style=\"color: #008080; text-decoration-color: #008080; font-weight: bold\">4</span>,\n",
       "                <span style=\"color: #808000; text-decoration-color: #808000\">MOVE_COST</span>=<span style=\"color: #008080; text-decoration-color: #008080; font-weight: bold\">4</span>,\n",
       "                <span style=\"color: #808000; text-decoration-color: #808000\">RUBBLE_MOVEMENT_COST</span>=<span style=\"color: #008080; text-decoration-color: #008080; font-weight: bold\">4</span>,\n",
       "                <span style=\"color: #808000; text-decoration-color: #808000\">DIG_COST</span>=<span style=\"color: #008080; text-decoration-color: #008080; font-weight: bold\">4</span>,\n",
       "                <span style=\"color: #808000; text-decoration-color: #808000\">DIG_RUBBLE_REMOVED</span>=<span style=\"color: #008080; text-decoration-color: #008080; font-weight: bold\">4</span>,\n",
       "                <span style=\"color: #808000; text-decoration-color: #808000\">DIG_RESOURCE_GAIN</span>=<span style=\"color: #008080; text-decoration-color: #008080; font-weight: bold\">4</span>,\n",
       "                <span style=\"color: #808000; text-decoration-color: #808000\">DIG_LICHEN_REMOVED</span>=<span style=\"color: #008080; text-decoration-color: #008080; font-weight: bold\">4</span>,\n",
       "                <span style=\"color: #808000; text-decoration-color: #808000\">SELF_DESTRUCT_COST</span>=<span style=\"color: #008080; text-decoration-color: #008080; font-weight: bold\">4</span>,\n",
       "                <span style=\"color: #808000; text-decoration-color: #808000\">RUBBLE_AFTER_DESTRUCTION</span>=<span style=\"color: #008080; text-decoration-color: #008080; font-weight: bold\">4</span>,\n",
       "                <span style=\"color: #808000; text-decoration-color: #808000\">ACTION_QUEUE_POWER_COST</span>=<span style=\"color: #008080; text-decoration-color: #008080; font-weight: bold\">4</span>\n",
       "            <span style=\"font-weight: bold\">)</span>\n",
       "        <span style=\"font-weight: bold\">)</span>\n",
       "    <span style=\"font-weight: bold\">)</span>,\n",
       "    <span style=\"color: #808000; text-decoration-color: #808000\">seed</span>=<span style=\"color: #008080; text-decoration-color: #008080; font-weight: bold\">4</span>,\n",
       "    <span style=\"color: #808000; text-decoration-color: #808000\">rng_state</span>=<span style=\"color: #008080; text-decoration-color: #008080; font-weight: bold\">8</span>,\n",
       "    <span style=\"color: #808000; text-decoration-color: #808000\">env_steps</span>=<span style=\"color: #008080; text-decoration-color: #008080; font-weight: bold\">2</span>,\n",
       "    <span style=\"color: #808000; text-decoration-color: #808000\">board</span>=<span style=\"color: #800080; text-decoration-color: #800080; font-weight: bold\">Board</span><span style=\"font-weight: bold\">(</span>\n",
       "        <span style=\"color: #808000; text-decoration-color: #808000\">seed</span>=<span style=\"color: #008080; text-decoration-color: #008080; font-weight: bold\">4</span>,\n",
       "        <span style=\"color: #808000; text-decoration-color: #808000\">factories_per_team</span>=<span style=\"color: #008080; text-decoration-color: #008080; font-weight: bold\">1</span>,\n",
       "        <span style=\"color: #808000; text-decoration-color: #808000\">map</span>=<span style=\"color: #800080; text-decoration-color: #800080; font-weight: bold\">GameMap</span><span style=\"font-weight: bold\">(</span><span style=\"color: #808000; text-decoration-color: #808000\">rubble</span>=<span style=\"color: #008080; text-decoration-color: #008080; font-weight: bold\">4096</span>, <span style=\"color: #808000; text-decoration-color: #808000\">ice</span>=<span style=\"color: #008080; text-decoration-color: #008080; font-weight: bold\">4096</span>, <span style=\"color: #808000; text-decoration-color: #808000\">ore</span>=<span style=\"color: #008080; text-decoration-color: #008080; font-weight: bold\">4096</span>, <span style=\"color: #808000; text-decoration-color: #808000\">symmetry</span>=<span style=\"color: #008080; text-decoration-color: #008080; font-weight: bold\">1</span><span style=\"font-weight: bold\">)</span>,\n",
       "        <span style=\"color: #808000; text-decoration-color: #808000\">lichen</span>=<span style=\"color: #008080; text-decoration-color: #008080; font-weight: bold\">16384</span>,\n",
       "        <span style=\"color: #808000; text-decoration-color: #808000\">lichen_strains</span>=<span style=\"color: #008080; text-decoration-color: #008080; font-weight: bold\">4096</span>,\n",
       "        <span style=\"color: #808000; text-decoration-color: #808000\">units_map</span>=<span style=\"color: #008080; text-decoration-color: #008080; font-weight: bold\">8192</span>,\n",
       "        <span style=\"color: #808000; text-decoration-color: #808000\">factory_map</span>=<span style=\"color: #008080; text-decoration-color: #008080; font-weight: bold\">4096</span>,\n",
       "        <span style=\"color: #808000; text-decoration-color: #808000\">factory_occupancy_map</span>=<span style=\"color: #008080; text-decoration-color: #008080; font-weight: bold\">4096</span>,\n",
       "        <span style=\"color: #808000; text-decoration-color: #808000\">factory_pos</span>=<span style=\"color: #008080; text-decoration-color: #008080; font-weight: bold\">44</span>\n",
       "    <span style=\"font-weight: bold\">)</span>,\n",
       "    <span style=\"color: #808000; text-decoration-color: #808000\">units</span>=<span style=\"color: #800080; text-decoration-color: #800080; font-weight: bold\">Unit</span><span style=\"font-weight: bold\">(</span>\n",
       "        <span style=\"color: #808000; text-decoration-color: #808000\">unit_type</span>=<span style=\"color: #008080; text-decoration-color: #008080; font-weight: bold\">2000</span>,\n",
       "        <span style=\"color: #808000; text-decoration-color: #808000\">action_queue</span>=<span style=\"color: #800080; text-decoration-color: #800080; font-weight: bold\">ActionQueue</span><span style=\"font-weight: bold\">(</span>\n",
       "            <span style=\"color: #808000; text-decoration-color: #808000\">data</span>=<span style=\"color: #800080; text-decoration-color: #800080; font-weight: bold\">UnitAction</span><span style=\"font-weight: bold\">(</span>\n",
       "                <span style=\"color: #808000; text-decoration-color: #808000\">action_type</span>=<span style=\"color: #008080; text-decoration-color: #008080; font-weight: bold\">40000</span>,\n",
       "                <span style=\"color: #808000; text-decoration-color: #808000\">direction</span>=<span style=\"color: #008080; text-decoration-color: #008080; font-weight: bold\">40000</span>,\n",
       "                <span style=\"color: #808000; text-decoration-color: #808000\">resource_type</span>=<span style=\"color: #008080; text-decoration-color: #008080; font-weight: bold\">40000</span>,\n",
       "                <span style=\"color: #808000; text-decoration-color: #808000\">amount</span>=<span style=\"color: #008080; text-decoration-color: #008080; font-weight: bold\">80000</span>,\n",
       "                <span style=\"color: #808000; text-decoration-color: #808000\">repeat</span>=<span style=\"color: #008080; text-decoration-color: #008080; font-weight: bold\">80000</span>,\n",
       "                <span style=\"color: #808000; text-decoration-color: #808000\">n</span>=<span style=\"color: #008080; text-decoration-color: #008080; font-weight: bold\">80000</span>\n",
       "            <span style=\"font-weight: bold\">)</span>,\n",
       "            <span style=\"color: #808000; text-decoration-color: #808000\">front</span>=<span style=\"color: #008080; text-decoration-color: #008080; font-weight: bold\">2000</span>,\n",
       "            <span style=\"color: #808000; text-decoration-color: #808000\">rear</span>=<span style=\"color: #008080; text-decoration-color: #008080; font-weight: bold\">2000</span>,\n",
       "            <span style=\"color: #808000; text-decoration-color: #808000\">count</span>=<span style=\"color: #008080; text-decoration-color: #008080; font-weight: bold\">2000</span>\n",
       "        <span style=\"font-weight: bold\">)</span>,\n",
       "        <span style=\"color: #808000; text-decoration-color: #808000\">team_id</span>=<span style=\"color: #008080; text-decoration-color: #008080; font-weight: bold\">2000</span>,\n",
       "        <span style=\"color: #808000; text-decoration-color: #808000\">unit_id</span>=<span style=\"color: #008080; text-decoration-color: #008080; font-weight: bold\">4000</span>,\n",
       "        <span style=\"color: #808000; text-decoration-color: #808000\">pos</span>=<span style=\"color: #800080; text-decoration-color: #800080; font-weight: bold\">Position</span><span style=\"font-weight: bold\">(</span><span style=\"color: #808000; text-decoration-color: #808000\">pos</span>=<span style=\"color: #008080; text-decoration-color: #008080; font-weight: bold\">4000</span><span style=\"font-weight: bold\">)</span>,\n",
       "        <span style=\"color: #808000; text-decoration-color: #808000\">cargo</span>=<span style=\"color: #800080; text-decoration-color: #800080; font-weight: bold\">UnitCargo</span><span style=\"font-weight: bold\">(</span><span style=\"color: #808000; text-decoration-color: #808000\">stock</span>=<span style=\"color: #008080; text-decoration-color: #008080; font-weight: bold\">32000</span><span style=\"font-weight: bold\">)</span>,\n",
       "        <span style=\"color: #808000; text-decoration-color: #808000\">power</span>=<span style=\"color: #008080; text-decoration-color: #008080; font-weight: bold\">8000</span>\n",
       "    <span style=\"font-weight: bold\">)</span>,\n",
       "    <span style=\"color: #808000; text-decoration-color: #808000\">unit_id2idx</span>=<span style=\"color: #008080; text-decoration-color: #008080; font-weight: bold\">8000</span>,\n",
       "    <span style=\"color: #808000; text-decoration-color: #808000\">n_units</span>=<span style=\"color: #008080; text-decoration-color: #008080; font-weight: bold\">4</span>,\n",
       "    <span style=\"color: #808000; text-decoration-color: #808000\">factories</span>=<span style=\"color: #800080; text-decoration-color: #800080; font-weight: bold\">Factory</span><span style=\"font-weight: bold\">(</span><span style=\"color: #808000; text-decoration-color: #808000\">team_id</span>=<span style=\"color: #008080; text-decoration-color: #008080; font-weight: bold\">22</span>, <span style=\"color: #808000; text-decoration-color: #808000\">unit_id</span>=<span style=\"color: #008080; text-decoration-color: #008080; font-weight: bold\">22</span>, <span style=\"color: #808000; text-decoration-color: #808000\">pos</span>=<span style=\"color: #800080; text-decoration-color: #800080; font-weight: bold\">Position</span><span style=\"font-weight: bold\">(</span><span style=\"color: #808000; text-decoration-color: #808000\">pos</span>=<span style=\"color: #008080; text-decoration-color: #008080; font-weight: bold\">44</span><span style=\"font-weight: bold\">)</span>, <span style=\"color: #808000; text-decoration-color: #808000\">power</span>=<span style=\"color: #008080; text-decoration-color: #008080; font-weight: bold\">88</span>, <span style=\"color: #808000; text-decoration-color: #808000\">cargo</span>=<span style=\"color: #800080; text-decoration-color: #800080; font-weight: bold\">UnitCargo</span><span style=\"font-weight: bold\">(</span><span style=\"color: #808000; text-decoration-color: #808000\">stock</span>=<span style=\"color: #008080; text-decoration-color: #008080; font-weight: bold\">352</span><span style=\"font-weight: bold\">))</span>,\n",
       "    <span style=\"color: #808000; text-decoration-color: #808000\">factory_id2idx</span>=<span style=\"color: #008080; text-decoration-color: #008080; font-weight: bold\">44</span>,\n",
       "    <span style=\"color: #808000; text-decoration-color: #808000\">n_factories</span>=<span style=\"color: #008080; text-decoration-color: #008080; font-weight: bold\">2</span>,\n",
       "    <span style=\"color: #808000; text-decoration-color: #808000\">teams</span>=<span style=\"color: #800080; text-decoration-color: #800080; font-weight: bold\">Team</span><span style=\"font-weight: bold\">(</span>\n",
       "        <span style=\"color: #808000; text-decoration-color: #808000\">team_id</span>=<span style=\"color: #008080; text-decoration-color: #008080; font-weight: bold\">2</span>,\n",
       "        <span style=\"color: #808000; text-decoration-color: #808000\">faction</span>=<span style=\"color: #008080; text-decoration-color: #008080; font-weight: bold\">2</span>,\n",
       "        <span style=\"color: #808000; text-decoration-color: #808000\">init_water</span>=<span style=\"color: #008080; text-decoration-color: #008080; font-weight: bold\">8</span>,\n",
       "        <span style=\"color: #808000; text-decoration-color: #808000\">init_metal</span>=<span style=\"color: #008080; text-decoration-color: #008080; font-weight: bold\">8</span>,\n",
       "        <span style=\"color: #808000; text-decoration-color: #808000\">factories_to_place</span>=<span style=\"color: #008080; text-decoration-color: #008080; font-weight: bold\">8</span>,\n",
       "        <span style=\"color: #808000; text-decoration-color: #808000\">factory_strains</span>=<span style=\"color: #008080; text-decoration-color: #008080; font-weight: bold\">22</span>,\n",
       "        <span style=\"color: #808000; text-decoration-color: #808000\">n_factory</span>=<span style=\"color: #008080; text-decoration-color: #008080; font-weight: bold\">2</span>,\n",
       "        <span style=\"color: #808000; text-decoration-color: #808000\">bid</span>=<span style=\"color: #008080; text-decoration-color: #008080; font-weight: bold\">8</span>\n",
       "    <span style=\"font-weight: bold\">)</span>,\n",
       "    <span style=\"color: #808000; text-decoration-color: #808000\">global_id</span>=<span style=\"color: #008080; text-decoration-color: #008080; font-weight: bold\">2</span>,\n",
       "    <span style=\"color: #808000; text-decoration-color: #808000\">place_first</span>=<span style=\"color: #008080; text-decoration-color: #008080; font-weight: bold\">1</span>\n",
       "<span style=\"font-weight: bold\">)</span>\n",
       "</pre>\n"
      ],
      "text/plain": [
       "\u001b[1;35mState\u001b[0m\u001b[1m(\u001b[0m\n",
       "    \u001b[33menv_cfg\u001b[0m=\u001b[1;35mEnvConfig\u001b[0m\u001b[1m(\u001b[0m\n",
       "        \u001b[33mmax_episode_length\u001b[0m=\u001b[1;36m4\u001b[0m,\n",
       "        \u001b[33mmap_size\u001b[0m=\u001b[1;36m4\u001b[0m,\n",
       "        \u001b[33mverbose\u001b[0m=\u001b[1;36m4\u001b[0m,\n",
       "        \u001b[33mvalidate_action_space\u001b[0m=\u001b[1;36m1\u001b[0m,\n",
       "        \u001b[33mmax_transfer_amount\u001b[0m=\u001b[1;36m4\u001b[0m,\n",
       "        \u001b[33mMIN_FACTORIES\u001b[0m=\u001b[1;36m4\u001b[0m,\n",
       "        \u001b[33mMAX_FACTORIES\u001b[0m=\u001b[1;36m4\u001b[0m,\n",
       "        \u001b[33mCYCLE_LENGTH\u001b[0m=\u001b[1;36m4\u001b[0m,\n",
       "        \u001b[33mDAY_LENGTH\u001b[0m=\u001b[1;36m4\u001b[0m,\n",
       "        \u001b[33mUNIT_ACTION_QUEUE_SIZE\u001b[0m=\u001b[1;36m4\u001b[0m,\n",
       "        \u001b[33mMAX_RUBBLE\u001b[0m=\u001b[1;36m4\u001b[0m,\n",
       "        \u001b[33mFACTORY_RUBBLE_AFTER_DESTRUCTION\u001b[0m=\u001b[1;36m4\u001b[0m,\n",
       "        \u001b[33mINIT_WATER_METAL_PER_FACTORY\u001b[0m=\u001b[1;36m4\u001b[0m,\n",
       "        \u001b[33mINIT_POWER_PER_FACTORY\u001b[0m=\u001b[1;36m4\u001b[0m,\n",
       "        \u001b[33mMIN_LICHEN_TO_SPREAD\u001b[0m=\u001b[1;36m4\u001b[0m,\n",
       "        \u001b[33mLICHEN_LOST_WITHOUT_WATER\u001b[0m=\u001b[1;36m4\u001b[0m,\n",
       "        \u001b[33mLICHEN_GAINED_WITH_WATER\u001b[0m=\u001b[1;36m4\u001b[0m,\n",
       "        \u001b[33mMAX_LICHEN_PER_TILE\u001b[0m=\u001b[1;36m4\u001b[0m,\n",
       "        \u001b[33mPOWER_PER_CONNECTED_LICHEN_TILE\u001b[0m=\u001b[1;36m4\u001b[0m,\n",
       "        \u001b[33mLICHEN_WATERING_COST_FACTOR\u001b[0m=\u001b[1;36m4\u001b[0m,\n",
       "        \u001b[33mBIDDING_SYSTEM\u001b[0m=\u001b[1;36m1\u001b[0m,\n",
       "        \u001b[33mFACTORY_PROCESSING_RATE_WATER\u001b[0m=\u001b[1;36m4\u001b[0m,\n",
       "        \u001b[33mICE_WATER_RATIO\u001b[0m=\u001b[1;36m4\u001b[0m,\n",
       "        \u001b[33mFACTORY_PROCESSING_RATE_METAL\u001b[0m=\u001b[1;36m4\u001b[0m,\n",
       "        \u001b[33mORE_METAL_RATIO\u001b[0m=\u001b[1;36m4\u001b[0m,\n",
       "        \u001b[33mFACTORY_CHARGE\u001b[0m=\u001b[1;36m4\u001b[0m,\n",
       "        \u001b[33mFACTORY_WATER_CONSUMPTION\u001b[0m=\u001b[1;36m4\u001b[0m,\n",
       "        \u001b[33mPOWER_LOSS_FACTOR\u001b[0m=\u001b[1;36m4\u001b[0m,\n",
       "        \u001b[33mROBOTS\u001b[0m=\u001b[1m(\u001b[0m\n",
       "            \u001b[1;35mUnitConfig\u001b[0m\u001b[1m(\u001b[0m\n",
       "                \u001b[33mMETAL_COST\u001b[0m=\u001b[1;36m4\u001b[0m,\n",
       "                \u001b[33mPOWER_COST\u001b[0m=\u001b[1;36m4\u001b[0m,\n",
       "                \u001b[33mCARGO_SPACE\u001b[0m=\u001b[1;36m4\u001b[0m,\n",
       "                \u001b[33mBATTERY_CAPACITY\u001b[0m=\u001b[1;36m4\u001b[0m,\n",
       "                \u001b[33mCHARGE\u001b[0m=\u001b[1;36m4\u001b[0m,\n",
       "                \u001b[33mINIT_POWER\u001b[0m=\u001b[1;36m4\u001b[0m,\n",
       "                \u001b[33mMOVE_COST\u001b[0m=\u001b[1;36m4\u001b[0m,\n",
       "                \u001b[33mRUBBLE_MOVEMENT_COST\u001b[0m=\u001b[1;36m4\u001b[0m,\n",
       "                \u001b[33mDIG_COST\u001b[0m=\u001b[1;36m4\u001b[0m,\n",
       "                \u001b[33mDIG_RUBBLE_REMOVED\u001b[0m=\u001b[1;36m4\u001b[0m,\n",
       "                \u001b[33mDIG_RESOURCE_GAIN\u001b[0m=\u001b[1;36m4\u001b[0m,\n",
       "                \u001b[33mDIG_LICHEN_REMOVED\u001b[0m=\u001b[1;36m4\u001b[0m,\n",
       "                \u001b[33mSELF_DESTRUCT_COST\u001b[0m=\u001b[1;36m4\u001b[0m,\n",
       "                \u001b[33mRUBBLE_AFTER_DESTRUCTION\u001b[0m=\u001b[1;36m4\u001b[0m,\n",
       "                \u001b[33mACTION_QUEUE_POWER_COST\u001b[0m=\u001b[1;36m4\u001b[0m\n",
       "            \u001b[1m)\u001b[0m,\n",
       "            \u001b[1;35mUnitConfig\u001b[0m\u001b[1m(\u001b[0m\n",
       "                \u001b[33mMETAL_COST\u001b[0m=\u001b[1;36m4\u001b[0m,\n",
       "                \u001b[33mPOWER_COST\u001b[0m=\u001b[1;36m4\u001b[0m,\n",
       "                \u001b[33mCARGO_SPACE\u001b[0m=\u001b[1;36m4\u001b[0m,\n",
       "                \u001b[33mBATTERY_CAPACITY\u001b[0m=\u001b[1;36m4\u001b[0m,\n",
       "                \u001b[33mCHARGE\u001b[0m=\u001b[1;36m4\u001b[0m,\n",
       "                \u001b[33mINIT_POWER\u001b[0m=\u001b[1;36m4\u001b[0m,\n",
       "                \u001b[33mMOVE_COST\u001b[0m=\u001b[1;36m4\u001b[0m,\n",
       "                \u001b[33mRUBBLE_MOVEMENT_COST\u001b[0m=\u001b[1;36m4\u001b[0m,\n",
       "                \u001b[33mDIG_COST\u001b[0m=\u001b[1;36m4\u001b[0m,\n",
       "                \u001b[33mDIG_RUBBLE_REMOVED\u001b[0m=\u001b[1;36m4\u001b[0m,\n",
       "                \u001b[33mDIG_RESOURCE_GAIN\u001b[0m=\u001b[1;36m4\u001b[0m,\n",
       "                \u001b[33mDIG_LICHEN_REMOVED\u001b[0m=\u001b[1;36m4\u001b[0m,\n",
       "                \u001b[33mSELF_DESTRUCT_COST\u001b[0m=\u001b[1;36m4\u001b[0m,\n",
       "                \u001b[33mRUBBLE_AFTER_DESTRUCTION\u001b[0m=\u001b[1;36m4\u001b[0m,\n",
       "                \u001b[33mACTION_QUEUE_POWER_COST\u001b[0m=\u001b[1;36m4\u001b[0m\n",
       "            \u001b[1m)\u001b[0m\n",
       "        \u001b[1m)\u001b[0m\n",
       "    \u001b[1m)\u001b[0m,\n",
       "    \u001b[33mseed\u001b[0m=\u001b[1;36m4\u001b[0m,\n",
       "    \u001b[33mrng_state\u001b[0m=\u001b[1;36m8\u001b[0m,\n",
       "    \u001b[33menv_steps\u001b[0m=\u001b[1;36m2\u001b[0m,\n",
       "    \u001b[33mboard\u001b[0m=\u001b[1;35mBoard\u001b[0m\u001b[1m(\u001b[0m\n",
       "        \u001b[33mseed\u001b[0m=\u001b[1;36m4\u001b[0m,\n",
       "        \u001b[33mfactories_per_team\u001b[0m=\u001b[1;36m1\u001b[0m,\n",
       "        \u001b[33mmap\u001b[0m=\u001b[1;35mGameMap\u001b[0m\u001b[1m(\u001b[0m\u001b[33mrubble\u001b[0m=\u001b[1;36m4096\u001b[0m, \u001b[33mice\u001b[0m=\u001b[1;36m4096\u001b[0m, \u001b[33more\u001b[0m=\u001b[1;36m4096\u001b[0m, \u001b[33msymmetry\u001b[0m=\u001b[1;36m1\u001b[0m\u001b[1m)\u001b[0m,\n",
       "        \u001b[33mlichen\u001b[0m=\u001b[1;36m16384\u001b[0m,\n",
       "        \u001b[33mlichen_strains\u001b[0m=\u001b[1;36m4096\u001b[0m,\n",
       "        \u001b[33munits_map\u001b[0m=\u001b[1;36m8192\u001b[0m,\n",
       "        \u001b[33mfactory_map\u001b[0m=\u001b[1;36m4096\u001b[0m,\n",
       "        \u001b[33mfactory_occupancy_map\u001b[0m=\u001b[1;36m4096\u001b[0m,\n",
       "        \u001b[33mfactory_pos\u001b[0m=\u001b[1;36m44\u001b[0m\n",
       "    \u001b[1m)\u001b[0m,\n",
       "    \u001b[33munits\u001b[0m=\u001b[1;35mUnit\u001b[0m\u001b[1m(\u001b[0m\n",
       "        \u001b[33munit_type\u001b[0m=\u001b[1;36m2000\u001b[0m,\n",
       "        \u001b[33maction_queue\u001b[0m=\u001b[1;35mActionQueue\u001b[0m\u001b[1m(\u001b[0m\n",
       "            \u001b[33mdata\u001b[0m=\u001b[1;35mUnitAction\u001b[0m\u001b[1m(\u001b[0m\n",
       "                \u001b[33maction_type\u001b[0m=\u001b[1;36m40000\u001b[0m,\n",
       "                \u001b[33mdirection\u001b[0m=\u001b[1;36m40000\u001b[0m,\n",
       "                \u001b[33mresource_type\u001b[0m=\u001b[1;36m40000\u001b[0m,\n",
       "                \u001b[33mamount\u001b[0m=\u001b[1;36m80000\u001b[0m,\n",
       "                \u001b[33mrepeat\u001b[0m=\u001b[1;36m80000\u001b[0m,\n",
       "                \u001b[33mn\u001b[0m=\u001b[1;36m80000\u001b[0m\n",
       "            \u001b[1m)\u001b[0m,\n",
       "            \u001b[33mfront\u001b[0m=\u001b[1;36m2000\u001b[0m,\n",
       "            \u001b[33mrear\u001b[0m=\u001b[1;36m2000\u001b[0m,\n",
       "            \u001b[33mcount\u001b[0m=\u001b[1;36m2000\u001b[0m\n",
       "        \u001b[1m)\u001b[0m,\n",
       "        \u001b[33mteam_id\u001b[0m=\u001b[1;36m2000\u001b[0m,\n",
       "        \u001b[33munit_id\u001b[0m=\u001b[1;36m4000\u001b[0m,\n",
       "        \u001b[33mpos\u001b[0m=\u001b[1;35mPosition\u001b[0m\u001b[1m(\u001b[0m\u001b[33mpos\u001b[0m=\u001b[1;36m4000\u001b[0m\u001b[1m)\u001b[0m,\n",
       "        \u001b[33mcargo\u001b[0m=\u001b[1;35mUnitCargo\u001b[0m\u001b[1m(\u001b[0m\u001b[33mstock\u001b[0m=\u001b[1;36m32000\u001b[0m\u001b[1m)\u001b[0m,\n",
       "        \u001b[33mpower\u001b[0m=\u001b[1;36m8000\u001b[0m\n",
       "    \u001b[1m)\u001b[0m,\n",
       "    \u001b[33munit_id2idx\u001b[0m=\u001b[1;36m8000\u001b[0m,\n",
       "    \u001b[33mn_units\u001b[0m=\u001b[1;36m4\u001b[0m,\n",
       "    \u001b[33mfactories\u001b[0m=\u001b[1;35mFactory\u001b[0m\u001b[1m(\u001b[0m\u001b[33mteam_id\u001b[0m=\u001b[1;36m22\u001b[0m, \u001b[33munit_id\u001b[0m=\u001b[1;36m22\u001b[0m, \u001b[33mpos\u001b[0m=\u001b[1;35mPosition\u001b[0m\u001b[1m(\u001b[0m\u001b[33mpos\u001b[0m=\u001b[1;36m44\u001b[0m\u001b[1m)\u001b[0m, \u001b[33mpower\u001b[0m=\u001b[1;36m88\u001b[0m, \u001b[33mcargo\u001b[0m=\u001b[1;35mUnitCargo\u001b[0m\u001b[1m(\u001b[0m\u001b[33mstock\u001b[0m=\u001b[1;36m352\u001b[0m\u001b[1m)\u001b[0m\u001b[1m)\u001b[0m,\n",
       "    \u001b[33mfactory_id2idx\u001b[0m=\u001b[1;36m44\u001b[0m,\n",
       "    \u001b[33mn_factories\u001b[0m=\u001b[1;36m2\u001b[0m,\n",
       "    \u001b[33mteams\u001b[0m=\u001b[1;35mTeam\u001b[0m\u001b[1m(\u001b[0m\n",
       "        \u001b[33mteam_id\u001b[0m=\u001b[1;36m2\u001b[0m,\n",
       "        \u001b[33mfaction\u001b[0m=\u001b[1;36m2\u001b[0m,\n",
       "        \u001b[33minit_water\u001b[0m=\u001b[1;36m8\u001b[0m,\n",
       "        \u001b[33minit_metal\u001b[0m=\u001b[1;36m8\u001b[0m,\n",
       "        \u001b[33mfactories_to_place\u001b[0m=\u001b[1;36m8\u001b[0m,\n",
       "        \u001b[33mfactory_strains\u001b[0m=\u001b[1;36m22\u001b[0m,\n",
       "        \u001b[33mn_factory\u001b[0m=\u001b[1;36m2\u001b[0m,\n",
       "        \u001b[33mbid\u001b[0m=\u001b[1;36m8\u001b[0m\n",
       "    \u001b[1m)\u001b[0m,\n",
       "    \u001b[33mglobal_id\u001b[0m=\u001b[1;36m2\u001b[0m,\n",
       "    \u001b[33mplace_first\u001b[0m=\u001b[1;36m1\u001b[0m\n",
       "\u001b[1m)\u001b[0m\n"
      ]
     },
     "metadata": {},
     "output_type": "display_data"
    }
   ],
   "source": [
    "rprint(tree_map(lambda x: x.nbytes, state))"
   ]
  },
  {
   "cell_type": "code",
   "execution_count": 20,
   "metadata": {},
   "outputs": [
    {
     "data": {
      "text/plain": [
       "476083"
      ]
     },
     "execution_count": 20,
     "metadata": {},
     "output_type": "execute_result"
    }
   ],
   "source": [
    "tree_reduce(lambda x, y: x + y, tree_map(lambda x: x.nbytes, state))"
   ]
  },
  {
   "cell_type": "code",
   "execution_count": 29,
   "metadata": {},
   "outputs": [
    {
     "data": {
      "text/plain": [
       "226"
      ]
     },
     "execution_count": 29,
     "metadata": {},
     "output_type": "execute_result"
    }
   ],
   "source": [
    "tree_reduce(lambda x, y: x + y, tree_map(lambda x: x.nbytes, state.env_cfg))"
   ]
  },
  {
   "cell_type": "code",
   "execution_count": 41,
   "metadata": {},
   "outputs": [
    {
     "data": {
      "text/plain": [
       "721188"
      ]
     },
     "execution_count": 41,
     "metadata": {},
     "output_type": "execute_result"
    }
   ],
   "source": [
    "import preprocess as pp\n",
    "feature = pp.get_feature(state)\n",
    "tree_reduce(lambda x, y: x + y, tree_map(lambda x: x.nbytes, feature))"
   ]
  },
  {
   "cell_type": "code",
   "execution_count": 42,
   "metadata": {},
   "outputs": [
    {
     "data": {
      "text/html": [
       "<pre style=\"white-space:pre;overflow-x:auto;line-height:normal;font-family:Menlo,'DejaVu Sans Mono',consolas,'Courier New',monospace\"><span style=\"color: #800080; text-decoration-color: #800080; font-weight: bold\">Feature</span><span style=\"font-weight: bold\">(</span><span style=\"color: #808000; text-decoration-color: #808000\">local_feature</span>=<span style=\"color: #008080; text-decoration-color: #008080; font-weight: bold\">720896</span>, <span style=\"color: #808000; text-decoration-color: #808000\">global_feature</span>=<span style=\"color: #008080; text-decoration-color: #008080; font-weight: bold\">292</span><span style=\"font-weight: bold\">)</span>\n",
       "</pre>\n"
      ],
      "text/plain": [
       "\u001b[1;35mFeature\u001b[0m\u001b[1m(\u001b[0m\u001b[33mlocal_feature\u001b[0m=\u001b[1;36m720896\u001b[0m, \u001b[33mglobal_feature\u001b[0m=\u001b[1;36m292\u001b[0m\u001b[1m)\u001b[0m\n"
      ]
     },
     "metadata": {},
     "output_type": "display_data"
    }
   ],
   "source": [
    "rprint(tree_map(lambda x: x.nbytes, feature))"
   ]
  },
  {
   "cell_type": "code",
   "execution_count": 43,
   "metadata": {},
   "outputs": [
    {
     "data": {
      "text/plain": [
       "1916928"
      ]
     },
     "execution_count": 43,
     "metadata": {},
     "output_type": "execute_result"
    }
   ],
   "source": [
    "feature.to_whole_feature().nbytes"
   ]
  },
  {
   "cell_type": "code",
   "execution_count": 44,
   "metadata": {},
   "outputs": [],
   "source": [
    "import numpy as np\n",
    "nbytes = np.array([\n",
    "    tree_reduce(lambda x, y: x + y, tree_map(lambda x: x.nbytes, state)),\n",
    "    tree_reduce(lambda x, y: x + y, tree_map(lambda x: x.nbytes, feature)),\n",
    "    feature.to_whole_feature().nbytes\n",
    "])\n"
   ]
  },
  {
   "cell_type": "code",
   "execution_count": 47,
   "metadata": {},
   "outputs": [
    {
     "data": {
      "text/plain": [
       "[<matplotlib.lines.Line2D at 0x7f119c5a4280>]"
      ]
     },
     "execution_count": 47,
     "metadata": {},
     "output_type": "execute_result"
    },
    {
     "data": {
      "image/png": "[encoded data removed]",
      "text/plain": [
       "<Figure size 640x480 with 1 Axes>"
      ]
     },
     "metadata": {},
     "output_type": "display_data"
    }
   ],
   "source": [
    "import matplotlib.pyplot as plt\n",
    "plt.plot(nbytes / nbytes.min())\n"
   ]
  },
  {
   "cell_type": "code",
   "execution_count": 48,
   "metadata": {},
   "outputs": [
    {
     "data": {
      "text/plain": [
       "array([1.        , 1.5148367 , 4.02645757])"
      ]
     },
     "execution_count": 48,
     "metadata": {},
     "output_type": "execute_result"
    }
   ],
   "source": [
    "nbytes / nbytes.min()"
   ]
  },
  {
   "cell_type": "code",
   "execution_count": null,
   "metadata": {},
   "outputs": [],
   "source": []
  }
 ],
 "metadata": {
  "kernelspec": {
   "display_name": ".venv",
   "language": "python",
   "name": "python3"
  },
  "language_info": {
   "codemirror_mode": {
    "name": "ipython",
    "version": 3
   },
   "file_extension": ".py",
   "mimetype": "text/x-python",
   "name": "python",
   "nbconvert_exporter": "python",
   "pygments_lexer": "ipython3",
   "version": "3.10.13"
  }
 },
 "nbformat": 4,
 "nbformat_minor": 2
}
