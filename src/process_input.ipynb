{
 "cells": [
  {
   "cell_type": "markdown",
   "metadata": {},
   "source": [
    "# TODO\n",
    "[#2](https://github.com/caelum02/LuX-AI-Season-2/issues/2)\n",
    "Observation to Input"
   ]
  },
  {
   "cell_type": "code",
   "execution_count": 4,
   "metadata": {},
   "outputs": [],
   "source": [
    "import jux\n",
    "from jux.env import JuxEnv\n",
    "from jux.config import JuxBufferConfig\n",
    "from jux.state import State\n",
    "from jux.actions import JuxAction\n",
    "\n",
    "import jax\n",
    "import jax.numpy as jnp\n",
    "from jax import jit, vmap, pmap, grad, random, lax\n",
    "from jax.tree_util import tree_flatten, tree_unflatten, tree_map\n",
    "from jax import random\n",
    "\n",
    "from flax import linen as nn\n",
    "\n",
    "import rich\n",
    "import matplotlib.pyplot as plt\n",
    "\n",
    "import utils as ut\n",
    "import preprocess as pp\n",
    "\n",
    "from importlib import reload\n",
    "\n",
    "MAP_SIZE=64"
   ]
  },
  {
   "cell_type": "code",
   "execution_count": 2,
   "metadata": {},
   "outputs": [
    {
     "name": "stdout",
     "output_type": "stream",
     "text": [
      "[Replay Util] Replaying early steps\n",
      "[Replay Util] Replaying early steps - Done\n",
      "[Replay Util] Replaying 1/100 steps\n",
      "[Replay Util] Replaying 2/100 steps\n",
      "[Replay Util] Replaying 3/100 steps\n",
      "[Replay Util] Replaying 4/100 steps\n",
      "[Replay Util] Replaying 5/100 steps\n",
      "[Replay Util] Replaying 6/100 steps\n",
      "[Replay Util] Replaying 7/100 steps\n",
      "[Replay Util] Replaying 8/100 steps\n",
      "[Replay Util] Replaying 9/100 steps\n",
      "[Replay Util] Replaying 10/100 steps\n",
      "[Replay Util] Replaying 11/100 steps\n",
      "[Replay Util] Replaying 12/100 steps\n",
      "[Replay Util] Replaying 13/100 steps\n",
      "[Replay Util] Replaying 14/100 steps\n",
      "[Replay Util] Replaying 15/100 steps\n",
      "[Replay Util] Replaying 16/100 steps\n",
      "[Replay Util] Replaying 17/100 steps\n",
      "[Replay Util] Replaying 18/100 steps\n",
      "[Replay Util] Replaying 19/100 steps\n",
      "[Replay Util] Replaying 20/100 steps\n",
      "[Replay Util] Replaying 21/100 steps\n",
      "[Replay Util] Replaying 22/100 steps\n",
      "[Replay Util] Replaying 23/100 steps\n",
      "[Replay Util] Replaying 24/100 steps\n",
      "[Replay Util] Replaying 25/100 steps\n",
      "[Replay Util] Replaying 26/100 steps\n",
      "[Replay Util] Replaying 27/100 steps\n",
      "[Replay Util] Replaying 28/100 steps\n",
      "[Replay Util] Replaying 29/100 steps\n",
      "[Replay Util] Replaying 30/100 steps\n",
      "[Replay Util] Replaying 31/100 steps\n",
      "[Replay Util] Replaying 32/100 steps\n",
      "[Replay Util] Replaying 33/100 steps\n",
      "[Replay Util] Replaying 34/100 steps\n",
      "[Replay Util] Replaying 35/100 steps\n",
      "[Replay Util] Replaying 36/100 steps\n",
      "[Replay Util] Replaying 37/100 steps\n",
      "[Replay Util] Replaying 38/100 steps\n",
      "[Replay Util] Replaying 39/100 steps\n",
      "[Replay Util] Replaying 40/100 steps\n",
      "[Replay Util] Replaying 41/100 steps\n",
      "[Replay Util] Replaying 42/100 steps\n",
      "[Replay Util] Replaying 43/100 steps\n",
      "[Replay Util] Replaying 44/100 steps\n",
      "[Replay Util] Replaying 45/100 steps\n",
      "[Replay Util] Replaying 46/100 steps\n",
      "[Replay Util] Replaying 47/100 steps\n",
      "[Replay Util] Replaying 48/100 steps\n",
      "[Replay Util] Replaying 49/100 steps\n",
      "[Replay Util] Replaying 50/100 steps\n",
      "[Replay Util] Replaying 51/100 steps\n",
      "[Replay Util] Replaying 52/100 steps\n",
      "[Replay Util] Replaying 53/100 steps\n",
      "[Replay Util] Replaying 54/100 steps\n",
      "[Replay Util] Replaying 55/100 steps\n",
      "[Replay Util] Replaying 56/100 steps\n",
      "[Replay Util] Replaying 57/100 steps\n",
      "[Replay Util] Replaying 58/100 steps\n",
      "[Replay Util] Replaying 59/100 steps\n",
      "[Replay Util] Replaying 60/100 steps\n",
      "[Replay Util] Replaying 61/100 steps\n",
      "[Replay Util] Replaying 62/100 steps\n",
      "[Replay Util] Replaying 63/100 steps\n",
      "[Replay Util] Replaying 64/100 steps\n",
      "[Replay Util] Replaying 65/100 steps\n",
      "[Replay Util] Replaying 66/100 steps\n",
      "[Replay Util] Replaying 67/100 steps\n",
      "[Replay Util] Replaying 68/100 steps\n",
      "[Replay Util] Replaying 69/100 steps\n",
      "[Replay Util] Replaying 70/100 steps\n",
      "[Replay Util] Replaying 71/100 steps\n",
      "[Replay Util] Replaying 72/100 steps\n",
      "[Replay Util] Replaying 73/100 steps\n",
      "[Replay Util] Replaying 74/100 steps\n",
      "[Replay Util] Replaying 75/100 steps\n",
      "[Replay Util] Replaying 76/100 steps\n",
      "[Replay Util] Replaying 77/100 steps\n",
      "[Replay Util] Replaying 78/100 steps\n",
      "[Replay Util] Replaying 79/100 steps\n",
      "[Replay Util] Replaying 80/100 steps\n",
      "[Replay Util] Replaying 81/100 steps\n",
      "[Replay Util] Replaying 82/100 steps\n",
      "[Replay Util] Replaying 83/100 steps\n",
      "[Replay Util] Replaying 84/100 steps\n",
      "[Replay Util] Replaying 85/100 steps\n",
      "[Replay Util] Replaying 86/100 steps\n",
      "[Replay Util] Replaying 87/100 steps\n",
      "[Replay Util] Replaying 88/100 steps\n",
      "[Replay Util] Replaying 89/100 steps\n",
      "[Replay Util] Replaying 90/100 steps\n",
      "[Replay Util] Replaying 91/100 steps\n",
      "[Replay Util] Replaying 92/100 steps\n",
      "[Replay Util] Replaying 93/100 steps\n",
      "[Replay Util] Replaying 94/100 steps\n",
      "[Replay Util] Replaying 95/100 steps\n",
      "[Replay Util] Replaying 96/100 steps\n",
      "[Replay Util] Replaying 97/100 steps\n",
      "[Replay Util] Replaying 98/100 steps\n",
      "[Replay Util] Replaying 99/100 steps\n",
      "[Replay Util] Replaying 100/100 steps\n"
     ]
    }
   ],
   "source": [
    "reload(ut)\n",
    "lux_env, lux_actions = jux.utils.load_replay('../data/52958192.json')\n",
    "jux_env, state = JuxEnv.from_lux(lux_env, buf_cfg=JuxBufferConfig(MAX_N_UNITS=200))\n",
    "\n",
    "state, lux_actions = ut.replay_run_early_phase(jux_env, state, lux_actions)\n",
    "state, lux_actions = ut.replay_run_n_late_game_step(100, jux_env, state, lux_actions)"
   ]
  },
  {
   "cell_type": "code",
   "execution_count": 3,
   "metadata": {},
   "outputs": [
    {
     "name": "stdout",
     "output_type": "stream",
     "text": [
      "[Replay Util] Replaying early steps\n",
      "[Replay Util] Replaying early steps - Done\n",
      "[Replay Util] Replaying 1/750 steps\n",
      "[Replay Util] Replaying 2/750 steps\n",
      "[Replay Util] Replaying 3/750 steps\n",
      "[Replay Util] Replaying 4/750 steps\n",
      "[Replay Util] Replaying 5/750 steps\n",
      "[Replay Util] Replaying 6/750 steps\n",
      "[Replay Util] Replaying 7/750 steps\n",
      "[Replay Util] Replaying 8/750 steps\n",
      "[Replay Util] Replaying 9/750 steps\n",
      "[Replay Util] Replaying 10/750 steps\n",
      "[Replay Util] Replaying 11/750 steps\n",
      "[Replay Util] Replaying 12/750 steps\n",
      "[Replay Util] Replaying 13/750 steps\n",
      "[Replay Util] Replaying 14/750 steps\n",
      "[Replay Util] Replaying 15/750 steps\n",
      "[Replay Util] Replaying 16/750 steps\n",
      "[Replay Util] Replaying 17/750 steps\n",
      "[Replay Util] Replaying 18/750 steps\n",
      "[Replay Util] Replaying 19/750 steps\n",
      "[Replay Util] Replaying 20/750 steps\n",
      "[Replay Util] Replaying 21/750 steps\n",
      "[Replay Util] Replaying 22/750 steps\n",
      "[Replay Util] Replaying 23/750 steps\n",
      "[Replay Util] Replaying 24/750 steps\n",
      "[Replay Util] Replaying 25/750 steps\n",
      "[Replay Util] Replaying 26/750 steps\n",
      "[Replay Util] Replaying 27/750 steps\n",
      "[Replay Util] Replaying 28/750 steps\n",
      "[Replay Util] Replaying 29/750 steps\n",
      "[Replay Util] Replaying 30/750 steps\n",
      "[Replay Util] Replaying 31/750 steps\n",
      "[Replay Util] Replaying 32/750 steps\n",
      "[Replay Util] Replaying 33/750 steps\n",
      "[Replay Util] Replaying 34/750 steps\n",
      "[Replay Util] Replaying 35/750 steps\n",
      "[Replay Util] Replaying 36/750 steps\n",
      "[Replay Util] Replaying 37/750 steps\n",
      "[Replay Util] Replaying 38/750 steps\n",
      "[Replay Util] Replaying 39/750 steps\n",
      "[Replay Util] Replaying 40/750 steps\n",
      "[Replay Util] Replaying 41/750 steps\n",
      "[Replay Util] Replaying 42/750 steps\n",
      "[Replay Util] Replaying 43/750 steps\n",
      "[Replay Util] Replaying 44/750 steps\n",
      "[Replay Util] Replaying 45/750 steps\n",
      "[Replay Util] Replaying 46/750 steps\n",
      "[Replay Util] Replaying 47/750 steps\n",
      "[Replay Util] Replaying 48/750 steps\n",
      "[Replay Util] Replaying 49/750 steps\n",
      "[Replay Util] Replaying 50/750 steps\n",
      "[Replay Util] Replaying 51/750 steps\n",
      "[Replay Util] Replaying 52/750 steps\n",
      "[Replay Util] Replaying 53/750 steps\n",
      "[Replay Util] Replaying 54/750 steps\n",
      "[Replay Util] Replaying 55/750 steps\n",
      "[Replay Util] Replaying 56/750 steps\n",
      "[Replay Util] Replaying 57/750 steps\n",
      "[Replay Util] Replaying 58/750 steps\n",
      "[Replay Util] Replaying 59/750 steps\n",
      "[Replay Util] Replaying 60/750 steps\n",
      "[Replay Util] Replaying 61/750 steps\n",
      "[Replay Util] Replaying 62/750 steps\n",
      "[Replay Util] Replaying 63/750 steps\n",
      "[Replay Util] Replaying 64/750 steps\n",
      "[Replay Util] Replaying 65/750 steps\n",
      "[Replay Util] Replaying 66/750 steps\n",
      "[Replay Util] Replaying 67/750 steps\n",
      "[Replay Util] Replaying 68/750 steps\n",
      "[Replay Util] Replaying 69/750 steps\n",
      "[Replay Util] Replaying 70/750 steps\n",
      "[Replay Util] Replaying 71/750 steps\n",
      "[Replay Util] Replaying 72/750 steps\n",
      "[Replay Util] Replaying 73/750 steps\n",
      "[Replay Util] Replaying 74/750 steps\n",
      "[Replay Util] Replaying 75/750 steps\n",
      "[Replay Util] Replaying 76/750 steps\n",
      "[Replay Util] Replaying 77/750 steps\n",
      "[Replay Util] Replaying 78/750 steps\n",
      "[Replay Util] Replaying 79/750 steps\n",
      "[Replay Util] Replaying 80/750 steps\n",
      "[Replay Util] Replaying 81/750 steps\n",
      "[Replay Util] Replaying 82/750 steps\n",
      "[Replay Util] Replaying 83/750 steps\n",
      "[Replay Util] Replaying 84/750 steps\n",
      "[Replay Util] Replaying 85/750 steps\n",
      "[Replay Util] Replaying 86/750 steps\n",
      "[Replay Util] Replaying 87/750 steps\n",
      "[Replay Util] Replaying 88/750 steps\n",
      "[Replay Util] Replaying 89/750 steps\n",
      "[Replay Util] Replaying 90/750 steps\n",
      "[Replay Util] Replaying 91/750 steps\n",
      "[Replay Util] Replaying 92/750 steps\n",
      "[Replay Util] Replaying 93/750 steps\n",
      "[Replay Util] Replaying 94/750 steps\n",
      "[Replay Util] Replaying 95/750 steps\n",
      "[Replay Util] Replaying 96/750 steps\n",
      "[Replay Util] Replaying 97/750 steps\n",
      "[Replay Util] Replaying 98/750 steps\n",
      "[Replay Util] Replaying 99/750 steps\n",
      "[Replay Util] Replaying 100/750 steps\n",
      "[Replay Util] Replaying 101/750 steps\n",
      "[Replay Util] Replaying 102/750 steps\n",
      "[Replay Util] Replaying 103/750 steps\n",
      "[Replay Util] Replaying 104/750 steps\n",
      "[Replay Util] Replaying 105/750 steps\n",
      "[Replay Util] Replaying 106/750 steps\n",
      "[Replay Util] Replaying 107/750 steps\n",
      "[Replay Util] Replaying 108/750 steps\n",
      "[Replay Util] Replaying 109/750 steps\n",
      "[Replay Util] Replaying 110/750 steps\n",
      "[Replay Util] Replaying 111/750 steps\n",
      "[Replay Util] Replaying 112/750 steps\n",
      "[Replay Util] Replaying 113/750 steps\n",
      "[Replay Util] Replaying 114/750 steps\n",
      "[Replay Util] Replaying 115/750 steps\n",
      "[Replay Util] Replaying 116/750 steps\n",
      "[Replay Util] Replaying 117/750 steps\n",
      "[Replay Util] Replaying 118/750 steps\n",
      "[Replay Util] Replaying 119/750 steps\n",
      "[Replay Util] Replaying 120/750 steps\n",
      "[Replay Util] Replaying 121/750 steps\n",
      "[Replay Util] Replaying 122/750 steps\n",
      "[Replay Util] Replaying 123/750 steps\n",
      "[Replay Util] Replaying 124/750 steps\n",
      "[Replay Util] Replaying 125/750 steps\n",
      "[Replay Util] Replaying 126/750 steps\n",
      "[Replay Util] Replaying 127/750 steps\n",
      "[Replay Util] Replaying 128/750 steps\n",
      "[Replay Util] Replaying 129/750 steps\n",
      "[Replay Util] Replaying 130/750 steps\n",
      "[Replay Util] Replaying 131/750 steps\n",
      "[Replay Util] Replaying 132/750 steps\n",
      "[Replay Util] Replaying 133/750 steps\n",
      "[Replay Util] Replaying 134/750 steps\n",
      "[Replay Util] Replaying 135/750 steps\n",
      "[Replay Util] Replaying 136/750 steps\n",
      "[Replay Util] Replaying 137/750 steps\n",
      "[Replay Util] Replaying 138/750 steps\n",
      "[Replay Util] Replaying 139/750 steps\n",
      "[Replay Util] Replaying 140/750 steps\n",
      "[Replay Util] Replaying 141/750 steps\n",
      "[Replay Util] Replaying 142/750 steps\n",
      "[Replay Util] Replaying 143/750 steps\n",
      "[Replay Util] Replaying 144/750 steps\n",
      "[Replay Util] Replaying 145/750 steps\n",
      "[Replay Util] Replaying 146/750 steps\n",
      "[Replay Util] Replaying 147/750 steps\n",
      "[Replay Util] Replaying 148/750 steps\n",
      "[Replay Util] Replaying 149/750 steps\n",
      "[Replay Util] Replaying 150/750 steps\n",
      "[Replay Util] Replaying 151/750 steps\n",
      "[Replay Util] Replaying 152/750 steps\n",
      "[Replay Util] Replaying 153/750 steps\n",
      "[Replay Util] Replaying 154/750 steps\n",
      "[Replay Util] Replaying 155/750 steps\n",
      "[Replay Util] Replaying 156/750 steps\n",
      "[Replay Util] Replaying 157/750 steps\n",
      "[Replay Util] Replaying 158/750 steps\n",
      "[Replay Util] Replaying 159/750 steps\n",
      "[Replay Util] Replaying 160/750 steps\n",
      "[Replay Util] Replaying 161/750 steps\n",
      "[Replay Util] Replaying 162/750 steps\n",
      "[Replay Util] Replaying 163/750 steps\n",
      "[Replay Util] Replaying 164/750 steps\n",
      "[Replay Util] Replaying 165/750 steps\n",
      "[Replay Util] Replaying 166/750 steps\n",
      "[Replay Util] Replaying 167/750 steps\n",
      "[Replay Util] Replaying 168/750 steps\n",
      "[Replay Util] Replaying 169/750 steps\n",
      "[Replay Util] Replaying 170/750 steps\n",
      "[Replay Util] Replaying 171/750 steps\n",
      "[Replay Util] Replaying 172/750 steps\n",
      "[Replay Util] Replaying 173/750 steps\n",
      "[Replay Util] Replaying 174/750 steps\n",
      "[Replay Util] Replaying 175/750 steps\n",
      "[Replay Util] Replaying 176/750 steps\n",
      "[Replay Util] Replaying 177/750 steps\n",
      "[Replay Util] Replaying 178/750 steps\n",
      "[Replay Util] Replaying 179/750 steps\n",
      "[Replay Util] Replaying 180/750 steps\n",
      "[Replay Util] Replaying 181/750 steps\n",
      "[Replay Util] Replaying 182/750 steps\n",
      "[Replay Util] Replaying 183/750 steps\n",
      "[Replay Util] Replaying 184/750 steps\n",
      "[Replay Util] Replaying 185/750 steps\n",
      "[Replay Util] Replaying 186/750 steps\n",
      "[Replay Util] Replaying 187/750 steps\n",
      "[Replay Util] Replaying 188/750 steps\n",
      "[Replay Util] Replaying 189/750 steps\n",
      "[Replay Util] Replaying 190/750 steps\n",
      "[Replay Util] Replaying 191/750 steps\n",
      "[Replay Util] Replaying 192/750 steps\n",
      "[Replay Util] Replaying 193/750 steps\n",
      "[Replay Util] Replaying 194/750 steps\n",
      "[Replay Util] Replaying 195/750 steps\n",
      "[Replay Util] Replaying 196/750 steps\n",
      "[Replay Util] Replaying 197/750 steps\n",
      "[Replay Util] Replaying 198/750 steps\n",
      "[Replay Util] Replaying 199/750 steps\n",
      "[Replay Util] Replaying 200/750 steps\n",
      "[Replay Util] Replaying 201/750 steps\n",
      "[Replay Util] Replaying 202/750 steps\n",
      "[Replay Util] Replaying 203/750 steps\n",
      "[Replay Util] Replaying 204/750 steps\n",
      "[Replay Util] Replaying 205/750 steps\n",
      "[Replay Util] Replaying 206/750 steps\n",
      "[Replay Util] Replaying 207/750 steps\n",
      "[Replay Util] Replaying 208/750 steps\n",
      "[Replay Util] Replaying 209/750 steps\n",
      "[Replay Util] Replaying 210/750 steps\n",
      "[Replay Util] Replaying 211/750 steps\n",
      "[Replay Util] Replaying 212/750 steps\n",
      "[Replay Util] Replaying 213/750 steps\n",
      "[Replay Util] Replaying 214/750 steps\n",
      "[Replay Util] Replaying 215/750 steps\n",
      "[Replay Util] Replaying 216/750 steps\n",
      "[Replay Util] Replaying 217/750 steps\n",
      "[Replay Util] Replaying 218/750 steps\n",
      "[Replay Util] Replaying 219/750 steps\n",
      "[Replay Util] Replaying 220/750 steps\n",
      "[Replay Util] Replaying 221/750 steps\n",
      "[Replay Util] Replaying 222/750 steps\n",
      "[Replay Util] Replaying 223/750 steps\n",
      "[Replay Util] Replaying 224/750 steps\n",
      "[Replay Util] Replaying 225/750 steps\n",
      "[Replay Util] Replaying 226/750 steps\n",
      "[Replay Util] Replaying 227/750 steps\n",
      "[Replay Util] Replaying 228/750 steps\n",
      "[Replay Util] Replaying 229/750 steps\n",
      "[Replay Util] Replaying 230/750 steps\n",
      "[Replay Util] Replaying 231/750 steps\n",
      "[Replay Util] Replaying 232/750 steps\n",
      "[Replay Util] Replaying 233/750 steps\n",
      "[Replay Util] Replaying 234/750 steps\n",
      "[Replay Util] Replaying 235/750 steps\n",
      "[Replay Util] Replaying 236/750 steps\n",
      "[Replay Util] Replaying 237/750 steps\n",
      "[Replay Util] Replaying 238/750 steps\n",
      "[Replay Util] Replaying 239/750 steps\n",
      "[Replay Util] Replaying 240/750 steps\n",
      "[Replay Util] Replaying 241/750 steps\n",
      "[Replay Util] Replaying 242/750 steps\n",
      "[Replay Util] Replaying 243/750 steps\n",
      "[Replay Util] Replaying 244/750 steps\n",
      "[Replay Util] Replaying 245/750 steps\n",
      "[Replay Util] Replaying 246/750 steps\n",
      "[Replay Util] Replaying 247/750 steps\n",
      "[Replay Util] Replaying 248/750 steps\n",
      "[Replay Util] Replaying 249/750 steps\n",
      "[Replay Util] Replaying 250/750 steps\n",
      "[Replay Util] Replaying 251/750 steps\n",
      "[Replay Util] Replaying 252/750 steps\n",
      "[Replay Util] Replaying 253/750 steps\n",
      "[Replay Util] Replaying 254/750 steps\n",
      "[Replay Util] Replaying 255/750 steps\n",
      "[Replay Util] Replaying 256/750 steps\n",
      "[Replay Util] Replaying 257/750 steps\n",
      "[Replay Util] Replaying 258/750 steps\n",
      "[Replay Util] Replaying 259/750 steps\n",
      "[Replay Util] Replaying 260/750 steps\n",
      "[Replay Util] Replaying 261/750 steps\n",
      "[Replay Util] Replaying 262/750 steps\n",
      "[Replay Util] Replaying 263/750 steps\n",
      "[Replay Util] Replaying 264/750 steps\n",
      "[Replay Util] Replaying 265/750 steps\n",
      "[Replay Util] Replaying 266/750 steps\n",
      "[Replay Util] Replaying 267/750 steps\n",
      "[Replay Util] Replaying 268/750 steps\n",
      "[Replay Util] Replaying 269/750 steps\n",
      "[Replay Util] Replaying 270/750 steps\n",
      "[Replay Util] Replaying 271/750 steps\n",
      "[Replay Util] Replaying 272/750 steps\n",
      "[Replay Util] Replaying 273/750 steps\n",
      "[Replay Util] Replaying 274/750 steps\n",
      "[Replay Util] Replaying 275/750 steps\n",
      "[Replay Util] Replaying 276/750 steps\n",
      "[Replay Util] Replaying 277/750 steps\n",
      "[Replay Util] Replaying 278/750 steps\n",
      "[Replay Util] Replaying 279/750 steps\n",
      "[Replay Util] Replaying 280/750 steps\n",
      "[Replay Util] Replaying 281/750 steps\n",
      "[Replay Util] Replaying 282/750 steps\n",
      "[Replay Util] Replaying 283/750 steps\n",
      "[Replay Util] Replaying 284/750 steps\n",
      "[Replay Util] Replaying 285/750 steps\n",
      "[Replay Util] Replaying 286/750 steps\n",
      "[Replay Util] Replaying 287/750 steps\n",
      "[Replay Util] Replaying 288/750 steps\n",
      "[Replay Util] Replaying 289/750 steps\n",
      "[Replay Util] Replaying 290/750 steps\n",
      "[Replay Util] Replaying 291/750 steps\n",
      "[Replay Util] Replaying 292/750 steps\n",
      "[Replay Util] Replaying 293/750 steps\n",
      "[Replay Util] Replaying 294/750 steps\n",
      "[Replay Util] Replaying 295/750 steps\n",
      "[Replay Util] Replaying 296/750 steps\n",
      "[Replay Util] Replaying 297/750 steps\n",
      "[Replay Util] Replaying 298/750 steps\n",
      "[Replay Util] Replaying 299/750 steps\n",
      "[Replay Util] Replaying 300/750 steps\n",
      "[Replay Util] Replaying 301/750 steps\n",
      "[Replay Util] Replaying 302/750 steps\n",
      "[Replay Util] Replaying 303/750 steps\n",
      "[Replay Util] Replaying 304/750 steps\n",
      "[Replay Util] Replaying 305/750 steps\n",
      "[Replay Util] Replaying 306/750 steps\n",
      "[Replay Util] Replaying 307/750 steps\n",
      "[Replay Util] Replaying 308/750 steps\n",
      "[Replay Util] Replaying 309/750 steps\n",
      "[Replay Util] Replaying 310/750 steps\n",
      "[Replay Util] Replaying 311/750 steps\n",
      "[Replay Util] Replaying 312/750 steps\n",
      "[Replay Util] Replaying 313/750 steps\n",
      "[Replay Util] Replaying 314/750 steps\n",
      "[Replay Util] Replaying 315/750 steps\n",
      "[Replay Util] Replaying 316/750 steps\n",
      "[Replay Util] Replaying 317/750 steps\n",
      "[Replay Util] Replaying 318/750 steps\n",
      "[Replay Util] Replaying 319/750 steps\n",
      "[Replay Util] Replaying 320/750 steps\n",
      "[Replay Util] Replaying 321/750 steps\n",
      "[Replay Util] Replaying 322/750 steps\n",
      "[Replay Util] Replaying 323/750 steps\n",
      "[Replay Util] Replaying 324/750 steps\n",
      "[Replay Util] Replaying 325/750 steps\n",
      "[Replay Util] Replaying 326/750 steps\n",
      "[Replay Util] Replaying 327/750 steps\n",
      "[Replay Util] Replaying 328/750 steps\n",
      "[Replay Util] Replaying 329/750 steps\n",
      "[Replay Util] Replaying 330/750 steps\n",
      "[Replay Util] Replaying 331/750 steps\n",
      "[Replay Util] Replaying 332/750 steps\n",
      "[Replay Util] Replaying 333/750 steps\n",
      "[Replay Util] Replaying 334/750 steps\n",
      "[Replay Util] Replaying 335/750 steps\n",
      "[Replay Util] Replaying 336/750 steps\n",
      "[Replay Util] Replaying 337/750 steps\n",
      "[Replay Util] Replaying 338/750 steps\n",
      "[Replay Util] Replaying 339/750 steps\n",
      "[Replay Util] Replaying 340/750 steps\n",
      "[Replay Util] Replaying 341/750 steps\n",
      "[Replay Util] Replaying 342/750 steps\n",
      "[Replay Util] Replaying 343/750 steps\n",
      "[Replay Util] Replaying 344/750 steps\n",
      "[Replay Util] Replaying 345/750 steps\n",
      "[Replay Util] Replaying 346/750 steps\n",
      "[Replay Util] Replaying 347/750 steps\n",
      "[Replay Util] Replaying 348/750 steps\n",
      "[Replay Util] Replaying 349/750 steps\n",
      "[Replay Util] Replaying 350/750 steps\n",
      "[Replay Util] Replaying 351/750 steps\n",
      "[Replay Util] Replaying 352/750 steps\n",
      "[Replay Util] Replaying 353/750 steps\n",
      "[Replay Util] Replaying 354/750 steps\n",
      "[Replay Util] Replaying 355/750 steps\n",
      "[Replay Util] Replaying 356/750 steps\n",
      "[Replay Util] Replaying 357/750 steps\n",
      "[Replay Util] Replaying 358/750 steps\n",
      "[Replay Util] Replaying 359/750 steps\n",
      "[Replay Util] Replaying 360/750 steps\n",
      "[Replay Util] Replaying 361/750 steps\n",
      "[Replay Util] Replaying 362/750 steps\n",
      "[Replay Util] Replaying 363/750 steps\n",
      "[Replay Util] Replaying 364/750 steps\n",
      "[Replay Util] Replaying 365/750 steps\n",
      "[Replay Util] Replaying 366/750 steps\n",
      "[Replay Util] Replaying 367/750 steps\n",
      "[Replay Util] Replaying 368/750 steps\n",
      "[Replay Util] Replaying 369/750 steps\n",
      "[Replay Util] Replaying 370/750 steps\n",
      "[Replay Util] Replaying 371/750 steps\n",
      "[Replay Util] Replaying 372/750 steps\n",
      "[Replay Util] Replaying 373/750 steps\n",
      "[Replay Util] Replaying 374/750 steps\n",
      "[Replay Util] Replaying 375/750 steps\n",
      "[Replay Util] Replaying 376/750 steps\n",
      "[Replay Util] Replaying 377/750 steps\n",
      "[Replay Util] Replaying 378/750 steps\n",
      "[Replay Util] Replaying 379/750 steps\n",
      "[Replay Util] Replaying 380/750 steps\n",
      "[Replay Util] Replaying 381/750 steps\n",
      "[Replay Util] Replaying 382/750 steps\n",
      "[Replay Util] Replaying 383/750 steps\n",
      "[Replay Util] Replaying 384/750 steps\n",
      "[Replay Util] Replaying 385/750 steps\n",
      "[Replay Util] Replaying 386/750 steps\n",
      "[Replay Util] Replaying 387/750 steps\n",
      "[Replay Util] Replaying 388/750 steps\n",
      "[Replay Util] Replaying 389/750 steps\n",
      "[Replay Util] Replaying 390/750 steps\n",
      "[Replay Util] Replaying 391/750 steps\n",
      "[Replay Util] Replaying 392/750 steps\n",
      "[Replay Util] Replaying 393/750 steps\n",
      "[Replay Util] Replaying 394/750 steps\n",
      "[Replay Util] Replaying 395/750 steps\n",
      "[Replay Util] Replaying 396/750 steps\n",
      "[Replay Util] Replaying 397/750 steps\n",
      "[Replay Util] Replaying 398/750 steps\n",
      "[Replay Util] Replaying 399/750 steps\n",
      "[Replay Util] Replaying 400/750 steps\n",
      "[Replay Util] Replaying 401/750 steps\n",
      "[Replay Util] Replaying 402/750 steps\n",
      "[Replay Util] Replaying 403/750 steps\n",
      "[Replay Util] Replaying 404/750 steps\n",
      "[Replay Util] Replaying 405/750 steps\n",
      "[Replay Util] Replaying 406/750 steps\n",
      "[Replay Util] Replaying 407/750 steps\n",
      "[Replay Util] Replaying 408/750 steps\n",
      "[Replay Util] Replaying 409/750 steps\n",
      "[Replay Util] Replaying 410/750 steps\n",
      "[Replay Util] Replaying 411/750 steps\n",
      "[Replay Util] Replaying 412/750 steps\n",
      "[Replay Util] Replaying 413/750 steps\n",
      "[Replay Util] Replaying 414/750 steps\n",
      "[Replay Util] Replaying 415/750 steps\n",
      "[Replay Util] Replaying 416/750 steps\n",
      "[Replay Util] Replaying 417/750 steps\n",
      "[Replay Util] Replaying 418/750 steps\n",
      "[Replay Util] Replaying 419/750 steps\n",
      "[Replay Util] Replaying 420/750 steps\n",
      "[Replay Util] Replaying 421/750 steps\n",
      "[Replay Util] Replaying 422/750 steps\n",
      "[Replay Util] Replaying 423/750 steps\n",
      "[Replay Util] Replaying 424/750 steps\n",
      "[Replay Util] Replaying 425/750 steps\n",
      "[Replay Util] Replaying 426/750 steps\n",
      "[Replay Util] Replaying 427/750 steps\n",
      "[Replay Util] Replaying 428/750 steps\n",
      "[Replay Util] Replaying 429/750 steps\n",
      "[Replay Util] Replaying 430/750 steps\n",
      "[Replay Util] Replaying 431/750 steps\n",
      "[Replay Util] Replaying 432/750 steps\n",
      "[Replay Util] Replaying 433/750 steps\n",
      "[Replay Util] Replaying 434/750 steps\n",
      "[Replay Util] Replaying 435/750 steps\n",
      "[Replay Util] Replaying 436/750 steps\n",
      "[Replay Util] Replaying 437/750 steps\n",
      "[Replay Util] Replaying 438/750 steps\n",
      "[Replay Util] Replaying 439/750 steps\n",
      "[Replay Util] Replaying 440/750 steps\n",
      "[Replay Util] Replaying 441/750 steps\n",
      "[Replay Util] Replaying 442/750 steps\n",
      "[Replay Util] Replaying 443/750 steps\n",
      "[Replay Util] Replaying 444/750 steps\n",
      "[Replay Util] Replaying 445/750 steps\n",
      "[Replay Util] Replaying 446/750 steps\n",
      "[Replay Util] Replaying 447/750 steps\n",
      "[Replay Util] Replaying 448/750 steps\n",
      "[Replay Util] Replaying 449/750 steps\n",
      "[Replay Util] Replaying 450/750 steps\n",
      "[Replay Util] Replaying 451/750 steps\n",
      "[Replay Util] Replaying 452/750 steps\n",
      "[Replay Util] Replaying 453/750 steps\n",
      "[Replay Util] Replaying 454/750 steps\n",
      "[Replay Util] Replaying 455/750 steps\n",
      "[Replay Util] Replaying 456/750 steps\n",
      "[Replay Util] Replaying 457/750 steps\n",
      "[Replay Util] Replaying 458/750 steps\n",
      "[Replay Util] Replaying 459/750 steps\n",
      "[Replay Util] Replaying 460/750 steps\n",
      "[Replay Util] Replaying 461/750 steps\n",
      "[Replay Util] Replaying 462/750 steps\n",
      "[Replay Util] Replaying 463/750 steps\n",
      "[Replay Util] Replaying 464/750 steps\n",
      "[Replay Util] Replaying 465/750 steps\n",
      "[Replay Util] Replaying 466/750 steps\n",
      "[Replay Util] Replaying 467/750 steps\n",
      "[Replay Util] Replaying 468/750 steps\n",
      "[Replay Util] Replaying 469/750 steps\n",
      "[Replay Util] Replaying 470/750 steps\n",
      "[Replay Util] Replaying 471/750 steps\n",
      "[Replay Util] Replaying 472/750 steps\n",
      "[Replay Util] Replaying 473/750 steps\n",
      "[Replay Util] Replaying 474/750 steps\n",
      "[Replay Util] Replaying 475/750 steps\n",
      "[Replay Util] Replaying 476/750 steps\n",
      "[Replay Util] Replaying 477/750 steps\n",
      "[Replay Util] Replaying 478/750 steps\n",
      "[Replay Util] Replaying 479/750 steps\n",
      "[Replay Util] Replaying 480/750 steps\n",
      "[Replay Util] Replaying 481/750 steps\n",
      "[Replay Util] Replaying 482/750 steps\n",
      "[Replay Util] Replaying 483/750 steps\n",
      "[Replay Util] Replaying 484/750 steps\n",
      "[Replay Util] Replaying 485/750 steps\n",
      "[Replay Util] Replaying 486/750 steps\n",
      "[Replay Util] Replaying 487/750 steps\n",
      "[Replay Util] Replaying 488/750 steps\n",
      "[Replay Util] Replaying 489/750 steps\n",
      "[Replay Util] Replaying 490/750 steps\n",
      "[Replay Util] Replaying 491/750 steps\n",
      "[Replay Util] Replaying 492/750 steps\n",
      "[Replay Util] Replaying 493/750 steps\n",
      "[Replay Util] Replaying 494/750 steps\n",
      "[Replay Util] Replaying 495/750 steps\n",
      "[Replay Util] Replaying 496/750 steps\n",
      "[Replay Util] Replaying 497/750 steps\n",
      "[Replay Util] Replaying 498/750 steps\n",
      "[Replay Util] Replaying 499/750 steps\n",
      "[Replay Util] Replaying 500/750 steps\n",
      "[Replay Util] Replaying 501/750 steps\n",
      "[Replay Util] Replaying 502/750 steps\n",
      "[Replay Util] Replaying 503/750 steps\n",
      "[Replay Util] Replaying 504/750 steps\n",
      "[Replay Util] Replaying 505/750 steps\n",
      "[Replay Util] Replaying 506/750 steps\n",
      "[Replay Util] Replaying 507/750 steps\n",
      "[Replay Util] Replaying 508/750 steps\n",
      "[Replay Util] Replaying 509/750 steps\n",
      "[Replay Util] Replaying 510/750 steps\n",
      "[Replay Util] Replaying 511/750 steps\n",
      "[Replay Util] Replaying 512/750 steps\n",
      "[Replay Util] Replaying 513/750 steps\n",
      "[Replay Util] Replaying 514/750 steps\n",
      "[Replay Util] Replaying 515/750 steps\n",
      "[Replay Util] Replaying 516/750 steps\n",
      "[Replay Util] Replaying 517/750 steps\n",
      "[Replay Util] Replaying 518/750 steps\n",
      "[Replay Util] Replaying 519/750 steps\n",
      "[Replay Util] Replaying 520/750 steps\n",
      "[Replay Util] Replaying 521/750 steps\n",
      "[Replay Util] Replaying 522/750 steps\n",
      "[Replay Util] Replaying 523/750 steps\n",
      "[Replay Util] Replaying 524/750 steps\n",
      "[Replay Util] Replaying 525/750 steps\n",
      "[Replay Util] Replaying 526/750 steps\n",
      "[Replay Util] Replaying 527/750 steps\n",
      "[Replay Util] Replaying 528/750 steps\n",
      "[Replay Util] Replaying 529/750 steps\n",
      "[Replay Util] Replaying 530/750 steps\n",
      "[Replay Util] Replaying 531/750 steps\n",
      "[Replay Util] Replaying 532/750 steps\n",
      "[Replay Util] Replaying 533/750 steps\n",
      "[Replay Util] Replaying 534/750 steps\n",
      "[Replay Util] Replaying 535/750 steps\n",
      "[Replay Util] Replaying 536/750 steps\n",
      "[Replay Util] Replaying 537/750 steps\n",
      "[Replay Util] Replaying 538/750 steps\n",
      "[Replay Util] Replaying 539/750 steps\n",
      "[Replay Util] Replaying 540/750 steps\n",
      "[Replay Util] Replaying 541/750 steps\n",
      "[Replay Util] Replaying 542/750 steps\n",
      "[Replay Util] Replaying 543/750 steps\n",
      "[Replay Util] Replaying 544/750 steps\n",
      "[Replay Util] Replaying 545/750 steps\n",
      "[Replay Util] Replaying 546/750 steps\n",
      "[Replay Util] Replaying 547/750 steps\n",
      "[Replay Util] Replaying 548/750 steps\n",
      "[Replay Util] Replaying 549/750 steps\n",
      "[Replay Util] Replaying 550/750 steps\n",
      "[Replay Util] Replaying 551/750 steps\n",
      "[Replay Util] Replaying 552/750 steps\n",
      "[Replay Util] Replaying 553/750 steps\n",
      "[Replay Util] Replaying 554/750 steps\n",
      "[Replay Util] Replaying 555/750 steps\n",
      "[Replay Util] Replaying 556/750 steps\n",
      "[Replay Util] Replaying 557/750 steps\n",
      "[Replay Util] Replaying 558/750 steps\n",
      "[Replay Util] Replaying 559/750 steps\n",
      "[Replay Util] Replaying 560/750 steps\n",
      "[Replay Util] Replaying 561/750 steps\n",
      "[Replay Util] Replaying 562/750 steps\n",
      "[Replay Util] Replaying 563/750 steps\n",
      "[Replay Util] Replaying 564/750 steps\n",
      "[Replay Util] Replaying 565/750 steps\n",
      "[Replay Util] Replaying 566/750 steps\n",
      "[Replay Util] Replaying 567/750 steps\n",
      "[Replay Util] Replaying 568/750 steps\n",
      "[Replay Util] Replaying 569/750 steps\n",
      "[Replay Util] Replaying 570/750 steps\n",
      "[Replay Util] Replaying 571/750 steps\n",
      "[Replay Util] Replaying 572/750 steps\n",
      "[Replay Util] Replaying 573/750 steps\n",
      "[Replay Util] Replaying 574/750 steps\n",
      "[Replay Util] Replaying 575/750 steps\n",
      "[Replay Util] Replaying 576/750 steps\n",
      "[Replay Util] Replaying 577/750 steps\n",
      "[Replay Util] Replaying 578/750 steps\n",
      "[Replay Util] Replaying 579/750 steps\n",
      "[Replay Util] Replaying 580/750 steps\n",
      "[Replay Util] Replaying 581/750 steps\n",
      "[Replay Util] Replaying 582/750 steps\n",
      "[Replay Util] Replaying 583/750 steps\n",
      "[Replay Util] Replaying 584/750 steps\n",
      "[Replay Util] Replaying 585/750 steps\n",
      "[Replay Util] Replaying 586/750 steps\n",
      "[Replay Util] Replaying 587/750 steps\n",
      "[Replay Util] Replaying 588/750 steps\n",
      "[Replay Util] Replaying 589/750 steps\n",
      "[Replay Util] Replaying 590/750 steps\n",
      "[Replay Util] Replaying 591/750 steps\n",
      "[Replay Util] Replaying 592/750 steps\n",
      "[Replay Util] Replaying 593/750 steps\n",
      "[Replay Util] Replaying 594/750 steps\n",
      "[Replay Util] Replaying 595/750 steps\n",
      "[Replay Util] Replaying 596/750 steps\n",
      "[Replay Util] Replaying 597/750 steps\n",
      "[Replay Util] Replaying 598/750 steps\n",
      "[Replay Util] Replaying 599/750 steps\n",
      "[Replay Util] Replaying 600/750 steps\n",
      "[Replay Util] Replaying 601/750 steps\n",
      "[Replay Util] Replaying 602/750 steps\n",
      "[Replay Util] Replaying 603/750 steps\n",
      "[Replay Util] Replaying 604/750 steps\n",
      "[Replay Util] Replaying 605/750 steps\n",
      "[Replay Util] Replaying 606/750 steps\n",
      "[Replay Util] Replaying 607/750 steps\n",
      "[Replay Util] Replaying 608/750 steps\n",
      "[Replay Util] Replaying 609/750 steps\n",
      "[Replay Util] Replaying 610/750 steps\n",
      "[Replay Util] Replaying 611/750 steps\n",
      "[Replay Util] Replaying 612/750 steps\n",
      "[Replay Util] Replaying 613/750 steps\n",
      "[Replay Util] Replaying 614/750 steps\n",
      "[Replay Util] Replaying 615/750 steps\n",
      "[Replay Util] Replaying 616/750 steps\n",
      "[Replay Util] Replaying 617/750 steps\n",
      "[Replay Util] Replaying 618/750 steps\n",
      "[Replay Util] Replaying 619/750 steps\n",
      "[Replay Util] Replaying 620/750 steps\n",
      "[Replay Util] Replaying 621/750 steps\n",
      "[Replay Util] Replaying 622/750 steps\n",
      "[Replay Util] Replaying 623/750 steps\n",
      "[Replay Util] Replaying 624/750 steps\n",
      "[Replay Util] Replaying 625/750 steps\n",
      "[Replay Util] Replaying 626/750 steps\n",
      "[Replay Util] Replaying 627/750 steps\n",
      "[Replay Util] Replaying 628/750 steps\n",
      "[Replay Util] Replaying 629/750 steps\n",
      "[Replay Util] Replaying 630/750 steps\n",
      "[Replay Util] Replaying 631/750 steps\n",
      "[Replay Util] Replaying 632/750 steps\n",
      "[Replay Util] Replaying 633/750 steps\n",
      "[Replay Util] Replaying 634/750 steps\n",
      "[Replay Util] Replaying 635/750 steps\n",
      "[Replay Util] Replaying 636/750 steps\n",
      "[Replay Util] Replaying 637/750 steps\n",
      "[Replay Util] Replaying 638/750 steps\n",
      "[Replay Util] Replaying 639/750 steps\n",
      "[Replay Util] Replaying 640/750 steps\n",
      "[Replay Util] Replaying 641/750 steps\n",
      "[Replay Util] Replaying 642/750 steps\n",
      "[Replay Util] Replaying 643/750 steps\n",
      "[Replay Util] Replaying 644/750 steps\n",
      "[Replay Util] Replaying 645/750 steps\n",
      "[Replay Util] Replaying 646/750 steps\n",
      "[Replay Util] Replaying 647/750 steps\n",
      "[Replay Util] Replaying 648/750 steps\n",
      "[Replay Util] Replaying 649/750 steps\n",
      "[Replay Util] Replaying 650/750 steps\n",
      "[Replay Util] Replaying 651/750 steps\n",
      "[Replay Util] Replaying 652/750 steps\n",
      "[Replay Util] Replaying 653/750 steps\n",
      "[Replay Util] Replaying 654/750 steps\n",
      "[Replay Util] Replaying 655/750 steps\n",
      "[Replay Util] Replaying 656/750 steps\n",
      "[Replay Util] Replaying 657/750 steps\n",
      "[Replay Util] Replaying 658/750 steps\n",
      "[Replay Util] Replaying 659/750 steps\n",
      "[Replay Util] Replaying 660/750 steps\n",
      "[Replay Util] Replaying 661/750 steps\n",
      "[Replay Util] Replaying 662/750 steps\n",
      "[Replay Util] Replaying 663/750 steps\n",
      "[Replay Util] Replaying 664/750 steps\n",
      "[Replay Util] Replaying 665/750 steps\n",
      "[Replay Util] Replaying 666/750 steps\n",
      "[Replay Util] Replaying 667/750 steps\n",
      "[Replay Util] Replaying 668/750 steps\n",
      "[Replay Util] Replaying 669/750 steps\n",
      "[Replay Util] Replaying 670/750 steps\n",
      "[Replay Util] Replaying 671/750 steps\n",
      "[Replay Util] Replaying 672/750 steps\n",
      "[Replay Util] Replaying 673/750 steps\n",
      "[Replay Util] Replaying 674/750 steps\n",
      "[Replay Util] Replaying 675/750 steps\n",
      "[Replay Util] Replaying 676/750 steps\n",
      "[Replay Util] Replaying 677/750 steps\n",
      "[Replay Util] Replaying 678/750 steps\n",
      "[Replay Util] Replaying 679/750 steps\n",
      "[Replay Util] Replaying 680/750 steps\n",
      "[Replay Util] Replaying 681/750 steps\n",
      "[Replay Util] Replaying 682/750 steps\n",
      "[Replay Util] Replaying 683/750 steps\n",
      "[Replay Util] Replaying 684/750 steps\n",
      "[Replay Util] Replaying 685/750 steps\n",
      "[Replay Util] Replaying 686/750 steps\n",
      "[Replay Util] Replaying 687/750 steps\n",
      "[Replay Util] Replaying 688/750 steps\n",
      "[Replay Util] Replaying 689/750 steps\n",
      "[Replay Util] Replaying 690/750 steps\n",
      "[Replay Util] Replaying 691/750 steps\n",
      "[Replay Util] Replaying 692/750 steps\n",
      "[Replay Util] Replaying 693/750 steps\n",
      "[Replay Util] Replaying 694/750 steps\n",
      "[Replay Util] Replaying 695/750 steps\n",
      "[Replay Util] Replaying 696/750 steps\n",
      "[Replay Util] Replaying 697/750 steps\n",
      "[Replay Util] Replaying 698/750 steps\n",
      "[Replay Util] Replaying 699/750 steps\n",
      "[Replay Util] Replaying 700/750 steps\n",
      "[Replay Util] Replaying 701/750 steps\n",
      "[Replay Util] Replaying 702/750 steps\n",
      "[Replay Util] Replaying 703/750 steps\n",
      "[Replay Util] Replaying 704/750 steps\n",
      "[Replay Util] Replaying 705/750 steps\n",
      "[Replay Util] Replaying 706/750 steps\n",
      "[Replay Util] Replaying 707/750 steps\n",
      "[Replay Util] Replaying 708/750 steps\n",
      "[Replay Util] Replaying 709/750 steps\n",
      "[Replay Util] Replaying 710/750 steps\n",
      "[Replay Util] Replaying 711/750 steps\n",
      "[Replay Util] Replaying 712/750 steps\n",
      "[Replay Util] Replaying 713/750 steps\n",
      "[Replay Util] Replaying 714/750 steps\n",
      "[Replay Util] Replaying 715/750 steps\n",
      "[Replay Util] Replaying 716/750 steps\n",
      "[Replay Util] Replaying 717/750 steps\n",
      "[Replay Util] Replaying 718/750 steps\n",
      "[Replay Util] Replaying 719/750 steps\n",
      "[Replay Util] Replaying 720/750 steps\n",
      "[Replay Util] Replaying 721/750 steps\n",
      "[Replay Util] Replaying 722/750 steps\n",
      "[Replay Util] Replaying 723/750 steps\n",
      "[Replay Util] Replaying 724/750 steps\n",
      "[Replay Util] Replaying 725/750 steps\n",
      "[Replay Util] Replaying 726/750 steps\n",
      "[Replay Util] Replaying 727/750 steps\n",
      "[Replay Util] Replaying 728/750 steps\n",
      "[Replay Util] Replaying 729/750 steps\n",
      "[Replay Util] Replaying 730/750 steps\n",
      "[Replay Util] Replaying 731/750 steps\n",
      "[Replay Util] Replaying 732/750 steps\n",
      "[Replay Util] Replaying 733/750 steps\n",
      "[Replay Util] Replaying 734/750 steps\n",
      "[Replay Util] Replaying 735/750 steps\n",
      "[Replay Util] Replaying 736/750 steps\n",
      "[Replay Util] Replaying 737/750 steps\n",
      "[Replay Util] Replaying 738/750 steps\n",
      "[Replay Util] Replaying 739/750 steps\n",
      "[Replay Util] Replaying 740/750 steps\n",
      "[Replay Util] Replaying 741/750 steps\n",
      "[Replay Util] Replaying 742/750 steps\n",
      "[Replay Util] Replaying 743/750 steps\n",
      "[Replay Util] Replaying 744/750 steps\n",
      "[Replay Util] Replaying 745/750 steps\n",
      "[Replay Util] Replaying 746/750 steps\n",
      "[Replay Util] Replaying 747/750 steps\n",
      "[Replay Util] Replaying 748/750 steps\n",
      "[Replay Util] Replaying 749/750 steps\n",
      "[Replay Util] Replaying 750/750 steps\n"
     ]
    }
   ],
   "source": [
    "reload(ut)\n",
    "lux_env, lux_actions = jux.utils.load_replay('../data/52958192.json')\n",
    "jux_env, state = JuxEnv.from_lux(lux_env, buf_cfg=JuxBufferConfig(MAX_N_UNITS=1000))\n",
    "\n",
    "state, lux_actions = ut.replay_run_early_phase(jux_env, state, lux_actions)\n",
    "state, lux_actions = ut.replay_run_n_late_game_step(750, jux_env, state, lux_actions)"
   ]
  },
  {
   "cell_type": "code",
   "execution_count": 3,
   "metadata": {},
   "outputs": [
    {
     "ename": "AttributeError",
     "evalue": "module 'preprocess' has no attribute 'get_unit_existence'",
     "output_type": "error",
     "traceback": [
      "\u001b[0;31m---------------------------------------------------------------------------\u001b[0m",
      "\u001b[0;31mAttributeError\u001b[0m                            Traceback (most recent call last)",
      "\u001b[1;32m/workspaces/LuX-AI-Season-2/src/process_input.ipynb 셀 5\u001b[0m line \u001b[0;36m6\n\u001b[1;32m      <a href='vscode-notebook-cell://codespaces%2Bpotential-space-succotash-4jwgq44pqfq7wv/workspaces/LuX-AI-Season-2/src/process_input.ipynb#W4sdnNjb2RlLXJlbW90ZQ%3D%3D?line=2'>3</a>\u001b[0m \u001b[39mfrom\u001b[39;00m \u001b[39mfunctools\u001b[39;00m \u001b[39mimport\u001b[39;00m partial\n\u001b[1;32m      <a href='vscode-notebook-cell://codespaces%2Bpotential-space-succotash-4jwgq44pqfq7wv/workspaces/LuX-AI-Season-2/src/process_input.ipynb#W4sdnNjb2RlLXJlbW90ZQ%3D%3D?line=4'>5</a>\u001b[0m reload(pp)\n\u001b[0;32m----> <a href='vscode-notebook-cell://codespaces%2Bpotential-space-succotash-4jwgq44pqfq7wv/workspaces/LuX-AI-Season-2/src/process_input.ipynb#W4sdnNjb2RlLXJlbW90ZQ%3D%3D?line=5'>6</a>\u001b[0m unit_feature_map \u001b[39m=\u001b[39m pp\u001b[39m.\u001b[39;49mget_unit_existence(state\u001b[39m.\u001b[39munit_mask, state\u001b[39m.\u001b[39munits\u001b[39m.\u001b[39munit_type, state\u001b[39m.\u001b[39munits\u001b[39m.\u001b[39mpos)\n",
      "\u001b[0;31mAttributeError\u001b[0m: module 'preprocess' has no attribute 'get_unit_existence'"
     ]
    }
   ],
   "source": [
    "from jux.unit import UnitType \n",
    "from jax import vmap, jit\n",
    "from functools import partial\n",
    "\n",
    "reload(pp)\n",
    "unit_feature_map = pp.get_unit_existence(state.unit_mask, state.units.unit_type, state.units.pos)"
   ]
  },
  {
   "cell_type": "code",
   "execution_count": 22,
   "metadata": {},
   "outputs": [
    {
     "data": {
      "image/png": "[encoded data removed]",
      "text/plain": [
       "<Figure size 800x800 with 4 Axes>"
      ]
     },
     "metadata": {},
     "output_type": "display_data"
    }
   ],
   "source": [
    "fig, axes = plt.subplots(2, 2, figsize=(8, 8))\n",
    "unit_type = [\"light\", \"heavy\"]\n",
    "for i in range(2):\n",
    "    for j in range(2):\n",
    "        axes[i, j].imshow(unit_existence_map[i, :, :, j], cmap='gray')\n",
    "        axes[i, j].set_title(f\"Player {i}, Type {unit_type[j]}\")\n",
    "fig.suptitle(\"Unit Existence Map\")\n",
    "plt.show()"
   ]
  },
  {
   "cell_type": "code",
   "execution_count": 5,
   "metadata": {},
   "outputs": [],
   "source": [
    "lux_act = next(lux_actions)\n",
    "jux_act = JuxAction.from_lux(state, lux_act)\n",
    "state, (obs, rwd, dones, infos) = jux_env.step_late_game(state, jux_act)"
   ]
  },
  {
   "cell_type": "code",
   "execution_count": 29,
   "metadata": {},
   "outputs": [
    {
     "data": {
      "text/html": [
       "<pre style=\"white-space:pre;overflow-x:auto;line-height:normal;font-family:Menlo,'DejaVu Sans Mono',consolas,'Courier New',monospace\"><span style=\"color: #800080; text-decoration-color: #800080; font-weight: bold\">State</span><span style=\"font-weight: bold\">(</span>\n",
       "    <span style=\"color: #808000; text-decoration-color: #808000\">env_cfg</span>=<span style=\"color: #800080; text-decoration-color: #800080; font-weight: bold\">EnvConfig</span><span style=\"font-weight: bold\">(</span>\n",
       "        <span style=\"color: #808000; text-decoration-color: #808000\">max_episode_length</span>=<span style=\"color: #800080; text-decoration-color: #800080; font-weight: bold\">ShapedArray</span><span style=\"font-weight: bold\">(</span>int32<span style=\"font-weight: bold\">[</span><span style=\"color: #008080; text-decoration-color: #008080; font-weight: bold\">1</span><span style=\"font-weight: bold\">]</span>, <span style=\"color: #808000; text-decoration-color: #808000\">weak_type</span>=<span style=\"color: #00ff00; text-decoration-color: #00ff00; font-style: italic\">True</span><span style=\"font-weight: bold\">)</span>,\n",
       "        <span style=\"color: #808000; text-decoration-color: #808000\">map_size</span>=<span style=\"color: #800080; text-decoration-color: #800080; font-weight: bold\">ShapedArray</span><span style=\"font-weight: bold\">(</span>int32<span style=\"font-weight: bold\">[</span><span style=\"color: #008080; text-decoration-color: #008080; font-weight: bold\">1</span><span style=\"font-weight: bold\">]</span>, <span style=\"color: #808000; text-decoration-color: #808000\">weak_type</span>=<span style=\"color: #00ff00; text-decoration-color: #00ff00; font-style: italic\">True</span><span style=\"font-weight: bold\">)</span>,\n",
       "        <span style=\"color: #808000; text-decoration-color: #808000\">verbose</span>=<span style=\"color: #800080; text-decoration-color: #800080; font-weight: bold\">ShapedArray</span><span style=\"font-weight: bold\">(</span>int32<span style=\"font-weight: bold\">[</span><span style=\"color: #008080; text-decoration-color: #008080; font-weight: bold\">1</span><span style=\"font-weight: bold\">]</span>, <span style=\"color: #808000; text-decoration-color: #808000\">weak_type</span>=<span style=\"color: #00ff00; text-decoration-color: #00ff00; font-style: italic\">True</span><span style=\"font-weight: bold\">)</span>,\n",
       "        <span style=\"color: #808000; text-decoration-color: #808000\">validate_action_space</span>=<span style=\"color: #800080; text-decoration-color: #800080; font-weight: bold\">ShapedArray</span><span style=\"font-weight: bold\">(</span>bool<span style=\"font-weight: bold\">[</span><span style=\"color: #008080; text-decoration-color: #008080; font-weight: bold\">1</span><span style=\"font-weight: bold\">])</span>,\n",
       "        <span style=\"color: #808000; text-decoration-color: #808000\">max_transfer_amount</span>=<span style=\"color: #800080; text-decoration-color: #800080; font-weight: bold\">ShapedArray</span><span style=\"font-weight: bold\">(</span>int32<span style=\"font-weight: bold\">[</span><span style=\"color: #008080; text-decoration-color: #008080; font-weight: bold\">1</span><span style=\"font-weight: bold\">]</span>, <span style=\"color: #808000; text-decoration-color: #808000\">weak_type</span>=<span style=\"color: #00ff00; text-decoration-color: #00ff00; font-style: italic\">True</span><span style=\"font-weight: bold\">)</span>,\n",
       "        <span style=\"color: #808000; text-decoration-color: #808000\">MIN_FACTORIES</span>=<span style=\"color: #800080; text-decoration-color: #800080; font-weight: bold\">ShapedArray</span><span style=\"font-weight: bold\">(</span>int32<span style=\"font-weight: bold\">[</span><span style=\"color: #008080; text-decoration-color: #008080; font-weight: bold\">1</span><span style=\"font-weight: bold\">]</span>, <span style=\"color: #808000; text-decoration-color: #808000\">weak_type</span>=<span style=\"color: #00ff00; text-decoration-color: #00ff00; font-style: italic\">True</span><span style=\"font-weight: bold\">)</span>,\n",
       "        <span style=\"color: #808000; text-decoration-color: #808000\">MAX_FACTORIES</span>=<span style=\"color: #800080; text-decoration-color: #800080; font-weight: bold\">ShapedArray</span><span style=\"font-weight: bold\">(</span>int32<span style=\"font-weight: bold\">[</span><span style=\"color: #008080; text-decoration-color: #008080; font-weight: bold\">1</span><span style=\"font-weight: bold\">]</span>, <span style=\"color: #808000; text-decoration-color: #808000\">weak_type</span>=<span style=\"color: #00ff00; text-decoration-color: #00ff00; font-style: italic\">True</span><span style=\"font-weight: bold\">)</span>,\n",
       "        <span style=\"color: #808000; text-decoration-color: #808000\">CYCLE_LENGTH</span>=<span style=\"color: #800080; text-decoration-color: #800080; font-weight: bold\">ShapedArray</span><span style=\"font-weight: bold\">(</span>int32<span style=\"font-weight: bold\">[</span><span style=\"color: #008080; text-decoration-color: #008080; font-weight: bold\">1</span><span style=\"font-weight: bold\">]</span>, <span style=\"color: #808000; text-decoration-color: #808000\">weak_type</span>=<span style=\"color: #00ff00; text-decoration-color: #00ff00; font-style: italic\">True</span><span style=\"font-weight: bold\">)</span>,\n",
       "        <span style=\"color: #808000; text-decoration-color: #808000\">DAY_LENGTH</span>=<span style=\"color: #800080; text-decoration-color: #800080; font-weight: bold\">ShapedArray</span><span style=\"font-weight: bold\">(</span>int32<span style=\"font-weight: bold\">[</span><span style=\"color: #008080; text-decoration-color: #008080; font-weight: bold\">1</span><span style=\"font-weight: bold\">]</span>, <span style=\"color: #808000; text-decoration-color: #808000\">weak_type</span>=<span style=\"color: #00ff00; text-decoration-color: #00ff00; font-style: italic\">True</span><span style=\"font-weight: bold\">)</span>,\n",
       "        <span style=\"color: #808000; text-decoration-color: #808000\">UNIT_ACTION_QUEUE_SIZE</span>=<span style=\"color: #800080; text-decoration-color: #800080; font-weight: bold\">ShapedArray</span><span style=\"font-weight: bold\">(</span>int32<span style=\"font-weight: bold\">[</span><span style=\"color: #008080; text-decoration-color: #008080; font-weight: bold\">1</span><span style=\"font-weight: bold\">]</span>, <span style=\"color: #808000; text-decoration-color: #808000\">weak_type</span>=<span style=\"color: #00ff00; text-decoration-color: #00ff00; font-style: italic\">True</span><span style=\"font-weight: bold\">)</span>,\n",
       "        <span style=\"color: #808000; text-decoration-color: #808000\">MAX_RUBBLE</span>=<span style=\"color: #800080; text-decoration-color: #800080; font-weight: bold\">ShapedArray</span><span style=\"font-weight: bold\">(</span>int32<span style=\"font-weight: bold\">[</span><span style=\"color: #008080; text-decoration-color: #008080; font-weight: bold\">1</span><span style=\"font-weight: bold\">]</span>, <span style=\"color: #808000; text-decoration-color: #808000\">weak_type</span>=<span style=\"color: #00ff00; text-decoration-color: #00ff00; font-style: italic\">True</span><span style=\"font-weight: bold\">)</span>,\n",
       "        <span style=\"color: #808000; text-decoration-color: #808000\">FACTORY_RUBBLE_AFTER_DESTRUCTION</span>=<span style=\"color: #800080; text-decoration-color: #800080; font-weight: bold\">ShapedArray</span><span style=\"font-weight: bold\">(</span>int32<span style=\"font-weight: bold\">[</span><span style=\"color: #008080; text-decoration-color: #008080; font-weight: bold\">1</span><span style=\"font-weight: bold\">]</span>, <span style=\"color: #808000; text-decoration-color: #808000\">weak_type</span>=<span style=\"color: #00ff00; text-decoration-color: #00ff00; font-style: italic\">True</span><span style=\"font-weight: bold\">)</span>,\n",
       "        <span style=\"color: #808000; text-decoration-color: #808000\">INIT_WATER_METAL_PER_FACTORY</span>=<span style=\"color: #800080; text-decoration-color: #800080; font-weight: bold\">ShapedArray</span><span style=\"font-weight: bold\">(</span>int32<span style=\"font-weight: bold\">[</span><span style=\"color: #008080; text-decoration-color: #008080; font-weight: bold\">1</span><span style=\"font-weight: bold\">]</span>, <span style=\"color: #808000; text-decoration-color: #808000\">weak_type</span>=<span style=\"color: #00ff00; text-decoration-color: #00ff00; font-style: italic\">True</span><span style=\"font-weight: bold\">)</span>,\n",
       "        <span style=\"color: #808000; text-decoration-color: #808000\">INIT_POWER_PER_FACTORY</span>=<span style=\"color: #800080; text-decoration-color: #800080; font-weight: bold\">ShapedArray</span><span style=\"font-weight: bold\">(</span>int32<span style=\"font-weight: bold\">[</span><span style=\"color: #008080; text-decoration-color: #008080; font-weight: bold\">1</span><span style=\"font-weight: bold\">]</span>, <span style=\"color: #808000; text-decoration-color: #808000\">weak_type</span>=<span style=\"color: #00ff00; text-decoration-color: #00ff00; font-style: italic\">True</span><span style=\"font-weight: bold\">)</span>,\n",
       "        <span style=\"color: #808000; text-decoration-color: #808000\">MIN_LICHEN_TO_SPREAD</span>=<span style=\"color: #800080; text-decoration-color: #800080; font-weight: bold\">ShapedArray</span><span style=\"font-weight: bold\">(</span>int32<span style=\"font-weight: bold\">[</span><span style=\"color: #008080; text-decoration-color: #008080; font-weight: bold\">1</span><span style=\"font-weight: bold\">]</span>, <span style=\"color: #808000; text-decoration-color: #808000\">weak_type</span>=<span style=\"color: #00ff00; text-decoration-color: #00ff00; font-style: italic\">True</span><span style=\"font-weight: bold\">)</span>,\n",
       "        <span style=\"color: #808000; text-decoration-color: #808000\">LICHEN_LOST_WITHOUT_WATER</span>=<span style=\"color: #800080; text-decoration-color: #800080; font-weight: bold\">ShapedArray</span><span style=\"font-weight: bold\">(</span>int32<span style=\"font-weight: bold\">[</span><span style=\"color: #008080; text-decoration-color: #008080; font-weight: bold\">1</span><span style=\"font-weight: bold\">]</span>, <span style=\"color: #808000; text-decoration-color: #808000\">weak_type</span>=<span style=\"color: #00ff00; text-decoration-color: #00ff00; font-style: italic\">True</span><span style=\"font-weight: bold\">)</span>,\n",
       "        <span style=\"color: #808000; text-decoration-color: #808000\">LICHEN_GAINED_WITH_WATER</span>=<span style=\"color: #800080; text-decoration-color: #800080; font-weight: bold\">ShapedArray</span><span style=\"font-weight: bold\">(</span>int32<span style=\"font-weight: bold\">[</span><span style=\"color: #008080; text-decoration-color: #008080; font-weight: bold\">1</span><span style=\"font-weight: bold\">]</span>, <span style=\"color: #808000; text-decoration-color: #808000\">weak_type</span>=<span style=\"color: #00ff00; text-decoration-color: #00ff00; font-style: italic\">True</span><span style=\"font-weight: bold\">)</span>,\n",
       "        <span style=\"color: #808000; text-decoration-color: #808000\">MAX_LICHEN_PER_TILE</span>=<span style=\"color: #800080; text-decoration-color: #800080; font-weight: bold\">ShapedArray</span><span style=\"font-weight: bold\">(</span>int32<span style=\"font-weight: bold\">[</span><span style=\"color: #008080; text-decoration-color: #008080; font-weight: bold\">1</span><span style=\"font-weight: bold\">]</span>, <span style=\"color: #808000; text-decoration-color: #808000\">weak_type</span>=<span style=\"color: #00ff00; text-decoration-color: #00ff00; font-style: italic\">True</span><span style=\"font-weight: bold\">)</span>,\n",
       "        <span style=\"color: #808000; text-decoration-color: #808000\">POWER_PER_CONNECTED_LICHEN_TILE</span>=<span style=\"color: #800080; text-decoration-color: #800080; font-weight: bold\">ShapedArray</span><span style=\"font-weight: bold\">(</span>int32<span style=\"font-weight: bold\">[</span><span style=\"color: #008080; text-decoration-color: #008080; font-weight: bold\">1</span><span style=\"font-weight: bold\">]</span>, <span style=\"color: #808000; text-decoration-color: #808000\">weak_type</span>=<span style=\"color: #00ff00; text-decoration-color: #00ff00; font-style: italic\">True</span><span style=\"font-weight: bold\">)</span>,\n",
       "        <span style=\"color: #808000; text-decoration-color: #808000\">LICHEN_WATERING_COST_FACTOR</span>=<span style=\"color: #800080; text-decoration-color: #800080; font-weight: bold\">ShapedArray</span><span style=\"font-weight: bold\">(</span>int32<span style=\"font-weight: bold\">[</span><span style=\"color: #008080; text-decoration-color: #008080; font-weight: bold\">1</span><span style=\"font-weight: bold\">]</span>, <span style=\"color: #808000; text-decoration-color: #808000\">weak_type</span>=<span style=\"color: #00ff00; text-decoration-color: #00ff00; font-style: italic\">True</span><span style=\"font-weight: bold\">)</span>,\n",
       "        <span style=\"color: #808000; text-decoration-color: #808000\">BIDDING_SYSTEM</span>=<span style=\"color: #800080; text-decoration-color: #800080; font-weight: bold\">ShapedArray</span><span style=\"font-weight: bold\">(</span>bool<span style=\"font-weight: bold\">[</span><span style=\"color: #008080; text-decoration-color: #008080; font-weight: bold\">1</span><span style=\"font-weight: bold\">])</span>,\n",
       "        <span style=\"color: #808000; text-decoration-color: #808000\">FACTORY_PROCESSING_RATE_WATER</span>=<span style=\"color: #800080; text-decoration-color: #800080; font-weight: bold\">ShapedArray</span><span style=\"font-weight: bold\">(</span>int32<span style=\"font-weight: bold\">[</span><span style=\"color: #008080; text-decoration-color: #008080; font-weight: bold\">1</span><span style=\"font-weight: bold\">]</span>, <span style=\"color: #808000; text-decoration-color: #808000\">weak_type</span>=<span style=\"color: #00ff00; text-decoration-color: #00ff00; font-style: italic\">True</span><span style=\"font-weight: bold\">)</span>,\n",
       "        <span style=\"color: #808000; text-decoration-color: #808000\">ICE_WATER_RATIO</span>=<span style=\"color: #800080; text-decoration-color: #800080; font-weight: bold\">ShapedArray</span><span style=\"font-weight: bold\">(</span>int32<span style=\"font-weight: bold\">[</span><span style=\"color: #008080; text-decoration-color: #008080; font-weight: bold\">1</span><span style=\"font-weight: bold\">]</span>, <span style=\"color: #808000; text-decoration-color: #808000\">weak_type</span>=<span style=\"color: #00ff00; text-decoration-color: #00ff00; font-style: italic\">True</span><span style=\"font-weight: bold\">)</span>,\n",
       "        <span style=\"color: #808000; text-decoration-color: #808000\">FACTORY_PROCESSING_RATE_METAL</span>=<span style=\"color: #800080; text-decoration-color: #800080; font-weight: bold\">ShapedArray</span><span style=\"font-weight: bold\">(</span>int32<span style=\"font-weight: bold\">[</span><span style=\"color: #008080; text-decoration-color: #008080; font-weight: bold\">1</span><span style=\"font-weight: bold\">]</span>, <span style=\"color: #808000; text-decoration-color: #808000\">weak_type</span>=<span style=\"color: #00ff00; text-decoration-color: #00ff00; font-style: italic\">True</span><span style=\"font-weight: bold\">)</span>,\n",
       "        <span style=\"color: #808000; text-decoration-color: #808000\">ORE_METAL_RATIO</span>=<span style=\"color: #800080; text-decoration-color: #800080; font-weight: bold\">ShapedArray</span><span style=\"font-weight: bold\">(</span>int32<span style=\"font-weight: bold\">[</span><span style=\"color: #008080; text-decoration-color: #008080; font-weight: bold\">1</span><span style=\"font-weight: bold\">]</span>, <span style=\"color: #808000; text-decoration-color: #808000\">weak_type</span>=<span style=\"color: #00ff00; text-decoration-color: #00ff00; font-style: italic\">True</span><span style=\"font-weight: bold\">)</span>,\n",
       "        <span style=\"color: #808000; text-decoration-color: #808000\">FACTORY_CHARGE</span>=<span style=\"color: #800080; text-decoration-color: #800080; font-weight: bold\">ShapedArray</span><span style=\"font-weight: bold\">(</span>int32<span style=\"font-weight: bold\">[</span><span style=\"color: #008080; text-decoration-color: #008080; font-weight: bold\">1</span><span style=\"font-weight: bold\">]</span>, <span style=\"color: #808000; text-decoration-color: #808000\">weak_type</span>=<span style=\"color: #00ff00; text-decoration-color: #00ff00; font-style: italic\">True</span><span style=\"font-weight: bold\">)</span>,\n",
       "        <span style=\"color: #808000; text-decoration-color: #808000\">FACTORY_WATER_CONSUMPTION</span>=<span style=\"color: #800080; text-decoration-color: #800080; font-weight: bold\">ShapedArray</span><span style=\"font-weight: bold\">(</span>int32<span style=\"font-weight: bold\">[</span><span style=\"color: #008080; text-decoration-color: #008080; font-weight: bold\">1</span><span style=\"font-weight: bold\">]</span>, <span style=\"color: #808000; text-decoration-color: #808000\">weak_type</span>=<span style=\"color: #00ff00; text-decoration-color: #00ff00; font-style: italic\">True</span><span style=\"font-weight: bold\">)</span>,\n",
       "        <span style=\"color: #808000; text-decoration-color: #808000\">POWER_LOSS_FACTOR</span>=<span style=\"color: #800080; text-decoration-color: #800080; font-weight: bold\">ShapedArray</span><span style=\"font-weight: bold\">(</span>float32<span style=\"font-weight: bold\">[</span><span style=\"color: #008080; text-decoration-color: #008080; font-weight: bold\">1</span><span style=\"font-weight: bold\">]</span>, <span style=\"color: #808000; text-decoration-color: #808000\">weak_type</span>=<span style=\"color: #00ff00; text-decoration-color: #00ff00; font-style: italic\">True</span><span style=\"font-weight: bold\">)</span>,\n",
       "        <span style=\"color: #808000; text-decoration-color: #808000\">ROBOTS</span>=<span style=\"font-weight: bold\">(</span>\n",
       "            <span style=\"color: #800080; text-decoration-color: #800080; font-weight: bold\">UnitConfig</span><span style=\"font-weight: bold\">(</span>\n",
       "                <span style=\"color: #808000; text-decoration-color: #808000\">METAL_COST</span>=<span style=\"color: #800080; text-decoration-color: #800080; font-weight: bold\">ShapedArray</span><span style=\"font-weight: bold\">(</span>int32<span style=\"font-weight: bold\">[</span><span style=\"color: #008080; text-decoration-color: #008080; font-weight: bold\">1</span><span style=\"font-weight: bold\">]</span>, <span style=\"color: #808000; text-decoration-color: #808000\">weak_type</span>=<span style=\"color: #00ff00; text-decoration-color: #00ff00; font-style: italic\">True</span><span style=\"font-weight: bold\">)</span>,\n",
       "                <span style=\"color: #808000; text-decoration-color: #808000\">POWER_COST</span>=<span style=\"color: #800080; text-decoration-color: #800080; font-weight: bold\">ShapedArray</span><span style=\"font-weight: bold\">(</span>int32<span style=\"font-weight: bold\">[</span><span style=\"color: #008080; text-decoration-color: #008080; font-weight: bold\">1</span><span style=\"font-weight: bold\">]</span>, <span style=\"color: #808000; text-decoration-color: #808000\">weak_type</span>=<span style=\"color: #00ff00; text-decoration-color: #00ff00; font-style: italic\">True</span><span style=\"font-weight: bold\">)</span>,\n",
       "                <span style=\"color: #808000; text-decoration-color: #808000\">CARGO_SPACE</span>=<span style=\"color: #800080; text-decoration-color: #800080; font-weight: bold\">ShapedArray</span><span style=\"font-weight: bold\">(</span>int32<span style=\"font-weight: bold\">[</span><span style=\"color: #008080; text-decoration-color: #008080; font-weight: bold\">1</span><span style=\"font-weight: bold\">]</span>, <span style=\"color: #808000; text-decoration-color: #808000\">weak_type</span>=<span style=\"color: #00ff00; text-decoration-color: #00ff00; font-style: italic\">True</span><span style=\"font-weight: bold\">)</span>,\n",
       "                <span style=\"color: #808000; text-decoration-color: #808000\">BATTERY_CAPACITY</span>=<span style=\"color: #800080; text-decoration-color: #800080; font-weight: bold\">ShapedArray</span><span style=\"font-weight: bold\">(</span>int32<span style=\"font-weight: bold\">[</span><span style=\"color: #008080; text-decoration-color: #008080; font-weight: bold\">1</span><span style=\"font-weight: bold\">]</span>, <span style=\"color: #808000; text-decoration-color: #808000\">weak_type</span>=<span style=\"color: #00ff00; text-decoration-color: #00ff00; font-style: italic\">True</span><span style=\"font-weight: bold\">)</span>,\n",
       "                <span style=\"color: #808000; text-decoration-color: #808000\">CHARGE</span>=<span style=\"color: #800080; text-decoration-color: #800080; font-weight: bold\">ShapedArray</span><span style=\"font-weight: bold\">(</span>int32<span style=\"font-weight: bold\">[</span><span style=\"color: #008080; text-decoration-color: #008080; font-weight: bold\">1</span><span style=\"font-weight: bold\">]</span>, <span style=\"color: #808000; text-decoration-color: #808000\">weak_type</span>=<span style=\"color: #00ff00; text-decoration-color: #00ff00; font-style: italic\">True</span><span style=\"font-weight: bold\">)</span>,\n",
       "                <span style=\"color: #808000; text-decoration-color: #808000\">INIT_POWER</span>=<span style=\"color: #800080; text-decoration-color: #800080; font-weight: bold\">ShapedArray</span><span style=\"font-weight: bold\">(</span>int32<span style=\"font-weight: bold\">[</span><span style=\"color: #008080; text-decoration-color: #008080; font-weight: bold\">1</span><span style=\"font-weight: bold\">]</span>, <span style=\"color: #808000; text-decoration-color: #808000\">weak_type</span>=<span style=\"color: #00ff00; text-decoration-color: #00ff00; font-style: italic\">True</span><span style=\"font-weight: bold\">)</span>,\n",
       "                <span style=\"color: #808000; text-decoration-color: #808000\">MOVE_COST</span>=<span style=\"color: #800080; text-decoration-color: #800080; font-weight: bold\">ShapedArray</span><span style=\"font-weight: bold\">(</span>int32<span style=\"font-weight: bold\">[</span><span style=\"color: #008080; text-decoration-color: #008080; font-weight: bold\">1</span><span style=\"font-weight: bold\">]</span>, <span style=\"color: #808000; text-decoration-color: #808000\">weak_type</span>=<span style=\"color: #00ff00; text-decoration-color: #00ff00; font-style: italic\">True</span><span style=\"font-weight: bold\">)</span>,\n",
       "                <span style=\"color: #808000; text-decoration-color: #808000\">RUBBLE_MOVEMENT_COST</span>=<span style=\"color: #800080; text-decoration-color: #800080; font-weight: bold\">ShapedArray</span><span style=\"font-weight: bold\">(</span>float32<span style=\"font-weight: bold\">[</span><span style=\"color: #008080; text-decoration-color: #008080; font-weight: bold\">1</span><span style=\"font-weight: bold\">]</span>, <span style=\"color: #808000; text-decoration-color: #808000\">weak_type</span>=<span style=\"color: #00ff00; text-decoration-color: #00ff00; font-style: italic\">True</span><span style=\"font-weight: bold\">)</span>,\n",
       "                <span style=\"color: #808000; text-decoration-color: #808000\">DIG_COST</span>=<span style=\"color: #800080; text-decoration-color: #800080; font-weight: bold\">ShapedArray</span><span style=\"font-weight: bold\">(</span>int32<span style=\"font-weight: bold\">[</span><span style=\"color: #008080; text-decoration-color: #008080; font-weight: bold\">1</span><span style=\"font-weight: bold\">]</span>, <span style=\"color: #808000; text-decoration-color: #808000\">weak_type</span>=<span style=\"color: #00ff00; text-decoration-color: #00ff00; font-style: italic\">True</span><span style=\"font-weight: bold\">)</span>,\n",
       "                <span style=\"color: #808000; text-decoration-color: #808000\">DIG_RUBBLE_REMOVED</span>=<span style=\"color: #800080; text-decoration-color: #800080; font-weight: bold\">ShapedArray</span><span style=\"font-weight: bold\">(</span>int32<span style=\"font-weight: bold\">[</span><span style=\"color: #008080; text-decoration-color: #008080; font-weight: bold\">1</span><span style=\"font-weight: bold\">]</span>, <span style=\"color: #808000; text-decoration-color: #808000\">weak_type</span>=<span style=\"color: #00ff00; text-decoration-color: #00ff00; font-style: italic\">True</span><span style=\"font-weight: bold\">)</span>,\n",
       "                <span style=\"color: #808000; text-decoration-color: #808000\">DIG_RESOURCE_GAIN</span>=<span style=\"color: #800080; text-decoration-color: #800080; font-weight: bold\">ShapedArray</span><span style=\"font-weight: bold\">(</span>int32<span style=\"font-weight: bold\">[</span><span style=\"color: #008080; text-decoration-color: #008080; font-weight: bold\">1</span><span style=\"font-weight: bold\">]</span>, <span style=\"color: #808000; text-decoration-color: #808000\">weak_type</span>=<span style=\"color: #00ff00; text-decoration-color: #00ff00; font-style: italic\">True</span><span style=\"font-weight: bold\">)</span>,\n",
       "                <span style=\"color: #808000; text-decoration-color: #808000\">DIG_LICHEN_REMOVED</span>=<span style=\"color: #800080; text-decoration-color: #800080; font-weight: bold\">ShapedArray</span><span style=\"font-weight: bold\">(</span>int32<span style=\"font-weight: bold\">[</span><span style=\"color: #008080; text-decoration-color: #008080; font-weight: bold\">1</span><span style=\"font-weight: bold\">]</span>, <span style=\"color: #808000; text-decoration-color: #808000\">weak_type</span>=<span style=\"color: #00ff00; text-decoration-color: #00ff00; font-style: italic\">True</span><span style=\"font-weight: bold\">)</span>,\n",
       "                <span style=\"color: #808000; text-decoration-color: #808000\">SELF_DESTRUCT_COST</span>=<span style=\"color: #800080; text-decoration-color: #800080; font-weight: bold\">ShapedArray</span><span style=\"font-weight: bold\">(</span>int32<span style=\"font-weight: bold\">[</span><span style=\"color: #008080; text-decoration-color: #008080; font-weight: bold\">1</span><span style=\"font-weight: bold\">]</span>, <span style=\"color: #808000; text-decoration-color: #808000\">weak_type</span>=<span style=\"color: #00ff00; text-decoration-color: #00ff00; font-style: italic\">True</span><span style=\"font-weight: bold\">)</span>,\n",
       "                <span style=\"color: #808000; text-decoration-color: #808000\">RUBBLE_AFTER_DESTRUCTION</span>=<span style=\"color: #800080; text-decoration-color: #800080; font-weight: bold\">ShapedArray</span><span style=\"font-weight: bold\">(</span>int32<span style=\"font-weight: bold\">[</span><span style=\"color: #008080; text-decoration-color: #008080; font-weight: bold\">1</span><span style=\"font-weight: bold\">]</span>, <span style=\"color: #808000; text-decoration-color: #808000\">weak_type</span>=<span style=\"color: #00ff00; text-decoration-color: #00ff00; font-style: italic\">True</span><span style=\"font-weight: bold\">)</span>,\n",
       "                <span style=\"color: #808000; text-decoration-color: #808000\">ACTION_QUEUE_POWER_COST</span>=<span style=\"color: #800080; text-decoration-color: #800080; font-weight: bold\">ShapedArray</span><span style=\"font-weight: bold\">(</span>int32<span style=\"font-weight: bold\">[</span><span style=\"color: #008080; text-decoration-color: #008080; font-weight: bold\">1</span><span style=\"font-weight: bold\">]</span>, <span style=\"color: #808000; text-decoration-color: #808000\">weak_type</span>=<span style=\"color: #00ff00; text-decoration-color: #00ff00; font-style: italic\">True</span><span style=\"font-weight: bold\">)</span>\n",
       "            <span style=\"font-weight: bold\">)</span>,\n",
       "            <span style=\"color: #800080; text-decoration-color: #800080; font-weight: bold\">UnitConfig</span><span style=\"font-weight: bold\">(</span>\n",
       "                <span style=\"color: #808000; text-decoration-color: #808000\">METAL_COST</span>=<span style=\"color: #800080; text-decoration-color: #800080; font-weight: bold\">ShapedArray</span><span style=\"font-weight: bold\">(</span>int32<span style=\"font-weight: bold\">[</span><span style=\"color: #008080; text-decoration-color: #008080; font-weight: bold\">1</span><span style=\"font-weight: bold\">]</span>, <span style=\"color: #808000; text-decoration-color: #808000\">weak_type</span>=<span style=\"color: #00ff00; text-decoration-color: #00ff00; font-style: italic\">True</span><span style=\"font-weight: bold\">)</span>,\n",
       "                <span style=\"color: #808000; text-decoration-color: #808000\">POWER_COST</span>=<span style=\"color: #800080; text-decoration-color: #800080; font-weight: bold\">ShapedArray</span><span style=\"font-weight: bold\">(</span>int32<span style=\"font-weight: bold\">[</span><span style=\"color: #008080; text-decoration-color: #008080; font-weight: bold\">1</span><span style=\"font-weight: bold\">]</span>, <span style=\"color: #808000; text-decoration-color: #808000\">weak_type</span>=<span style=\"color: #00ff00; text-decoration-color: #00ff00; font-style: italic\">True</span><span style=\"font-weight: bold\">)</span>,\n",
       "                <span style=\"color: #808000; text-decoration-color: #808000\">CARGO_SPACE</span>=<span style=\"color: #800080; text-decoration-color: #800080; font-weight: bold\">ShapedArray</span><span style=\"font-weight: bold\">(</span>int32<span style=\"font-weight: bold\">[</span><span style=\"color: #008080; text-decoration-color: #008080; font-weight: bold\">1</span><span style=\"font-weight: bold\">]</span>, <span style=\"color: #808000; text-decoration-color: #808000\">weak_type</span>=<span style=\"color: #00ff00; text-decoration-color: #00ff00; font-style: italic\">True</span><span style=\"font-weight: bold\">)</span>,\n",
       "                <span style=\"color: #808000; text-decoration-color: #808000\">BATTERY_CAPACITY</span>=<span style=\"color: #800080; text-decoration-color: #800080; font-weight: bold\">ShapedArray</span><span style=\"font-weight: bold\">(</span>int32<span style=\"font-weight: bold\">[</span><span style=\"color: #008080; text-decoration-color: #008080; font-weight: bold\">1</span><span style=\"font-weight: bold\">]</span>, <span style=\"color: #808000; text-decoration-color: #808000\">weak_type</span>=<span style=\"color: #00ff00; text-decoration-color: #00ff00; font-style: italic\">True</span><span style=\"font-weight: bold\">)</span>,\n",
       "                <span style=\"color: #808000; text-decoration-color: #808000\">CHARGE</span>=<span style=\"color: #800080; text-decoration-color: #800080; font-weight: bold\">ShapedArray</span><span style=\"font-weight: bold\">(</span>int32<span style=\"font-weight: bold\">[</span><span style=\"color: #008080; text-decoration-color: #008080; font-weight: bold\">1</span><span style=\"font-weight: bold\">]</span>, <span style=\"color: #808000; text-decoration-color: #808000\">weak_type</span>=<span style=\"color: #00ff00; text-decoration-color: #00ff00; font-style: italic\">True</span><span style=\"font-weight: bold\">)</span>,\n",
       "                <span style=\"color: #808000; text-decoration-color: #808000\">INIT_POWER</span>=<span style=\"color: #800080; text-decoration-color: #800080; font-weight: bold\">ShapedArray</span><span style=\"font-weight: bold\">(</span>int32<span style=\"font-weight: bold\">[</span><span style=\"color: #008080; text-decoration-color: #008080; font-weight: bold\">1</span><span style=\"font-weight: bold\">]</span>, <span style=\"color: #808000; text-decoration-color: #808000\">weak_type</span>=<span style=\"color: #00ff00; text-decoration-color: #00ff00; font-style: italic\">True</span><span style=\"font-weight: bold\">)</span>,\n",
       "                <span style=\"color: #808000; text-decoration-color: #808000\">MOVE_COST</span>=<span style=\"color: #800080; text-decoration-color: #800080; font-weight: bold\">ShapedArray</span><span style=\"font-weight: bold\">(</span>int32<span style=\"font-weight: bold\">[</span><span style=\"color: #008080; text-decoration-color: #008080; font-weight: bold\">1</span><span style=\"font-weight: bold\">]</span>, <span style=\"color: #808000; text-decoration-color: #808000\">weak_type</span>=<span style=\"color: #00ff00; text-decoration-color: #00ff00; font-style: italic\">True</span><span style=\"font-weight: bold\">)</span>,\n",
       "                <span style=\"color: #808000; text-decoration-color: #808000\">RUBBLE_MOVEMENT_COST</span>=<span style=\"color: #800080; text-decoration-color: #800080; font-weight: bold\">ShapedArray</span><span style=\"font-weight: bold\">(</span>int32<span style=\"font-weight: bold\">[</span><span style=\"color: #008080; text-decoration-color: #008080; font-weight: bold\">1</span><span style=\"font-weight: bold\">]</span>, <span style=\"color: #808000; text-decoration-color: #808000\">weak_type</span>=<span style=\"color: #00ff00; text-decoration-color: #00ff00; font-style: italic\">True</span><span style=\"font-weight: bold\">)</span>,\n",
       "                <span style=\"color: #808000; text-decoration-color: #808000\">DIG_COST</span>=<span style=\"color: #800080; text-decoration-color: #800080; font-weight: bold\">ShapedArray</span><span style=\"font-weight: bold\">(</span>int32<span style=\"font-weight: bold\">[</span><span style=\"color: #008080; text-decoration-color: #008080; font-weight: bold\">1</span><span style=\"font-weight: bold\">]</span>, <span style=\"color: #808000; text-decoration-color: #808000\">weak_type</span>=<span style=\"color: #00ff00; text-decoration-color: #00ff00; font-style: italic\">True</span><span style=\"font-weight: bold\">)</span>,\n",
       "                <span style=\"color: #808000; text-decoration-color: #808000\">DIG_RUBBLE_REMOVED</span>=<span style=\"color: #800080; text-decoration-color: #800080; font-weight: bold\">ShapedArray</span><span style=\"font-weight: bold\">(</span>int32<span style=\"font-weight: bold\">[</span><span style=\"color: #008080; text-decoration-color: #008080; font-weight: bold\">1</span><span style=\"font-weight: bold\">]</span>, <span style=\"color: #808000; text-decoration-color: #808000\">weak_type</span>=<span style=\"color: #00ff00; text-decoration-color: #00ff00; font-style: italic\">True</span><span style=\"font-weight: bold\">)</span>,\n",
       "                <span style=\"color: #808000; text-decoration-color: #808000\">DIG_RESOURCE_GAIN</span>=<span style=\"color: #800080; text-decoration-color: #800080; font-weight: bold\">ShapedArray</span><span style=\"font-weight: bold\">(</span>int32<span style=\"font-weight: bold\">[</span><span style=\"color: #008080; text-decoration-color: #008080; font-weight: bold\">1</span><span style=\"font-weight: bold\">]</span>, <span style=\"color: #808000; text-decoration-color: #808000\">weak_type</span>=<span style=\"color: #00ff00; text-decoration-color: #00ff00; font-style: italic\">True</span><span style=\"font-weight: bold\">)</span>,\n",
       "                <span style=\"color: #808000; text-decoration-color: #808000\">DIG_LICHEN_REMOVED</span>=<span style=\"color: #800080; text-decoration-color: #800080; font-weight: bold\">ShapedArray</span><span style=\"font-weight: bold\">(</span>int32<span style=\"font-weight: bold\">[</span><span style=\"color: #008080; text-decoration-color: #008080; font-weight: bold\">1</span><span style=\"font-weight: bold\">]</span>, <span style=\"color: #808000; text-decoration-color: #808000\">weak_type</span>=<span style=\"color: #00ff00; text-decoration-color: #00ff00; font-style: italic\">True</span><span style=\"font-weight: bold\">)</span>,\n",
       "                <span style=\"color: #808000; text-decoration-color: #808000\">SELF_DESTRUCT_COST</span>=<span style=\"color: #800080; text-decoration-color: #800080; font-weight: bold\">ShapedArray</span><span style=\"font-weight: bold\">(</span>int32<span style=\"font-weight: bold\">[</span><span style=\"color: #008080; text-decoration-color: #008080; font-weight: bold\">1</span><span style=\"font-weight: bold\">]</span>, <span style=\"color: #808000; text-decoration-color: #808000\">weak_type</span>=<span style=\"color: #00ff00; text-decoration-color: #00ff00; font-style: italic\">True</span><span style=\"font-weight: bold\">)</span>,\n",
       "                <span style=\"color: #808000; text-decoration-color: #808000\">RUBBLE_AFTER_DESTRUCTION</span>=<span style=\"color: #800080; text-decoration-color: #800080; font-weight: bold\">ShapedArray</span><span style=\"font-weight: bold\">(</span>int32<span style=\"font-weight: bold\">[</span><span style=\"color: #008080; text-decoration-color: #008080; font-weight: bold\">1</span><span style=\"font-weight: bold\">]</span>, <span style=\"color: #808000; text-decoration-color: #808000\">weak_type</span>=<span style=\"color: #00ff00; text-decoration-color: #00ff00; font-style: italic\">True</span><span style=\"font-weight: bold\">)</span>,\n",
       "                <span style=\"color: #808000; text-decoration-color: #808000\">ACTION_QUEUE_POWER_COST</span>=<span style=\"color: #800080; text-decoration-color: #800080; font-weight: bold\">ShapedArray</span><span style=\"font-weight: bold\">(</span>int32<span style=\"font-weight: bold\">[</span><span style=\"color: #008080; text-decoration-color: #008080; font-weight: bold\">1</span><span style=\"font-weight: bold\">]</span>, <span style=\"color: #808000; text-decoration-color: #808000\">weak_type</span>=<span style=\"color: #00ff00; text-decoration-color: #00ff00; font-style: italic\">True</span><span style=\"font-weight: bold\">)</span>\n",
       "            <span style=\"font-weight: bold\">)</span>\n",
       "        <span style=\"font-weight: bold\">)</span>\n",
       "    <span style=\"font-weight: bold\">)</span>,\n",
       "    <span style=\"color: #808000; text-decoration-color: #808000\">seed</span>=<span style=\"color: #800080; text-decoration-color: #800080; font-weight: bold\">ShapedArray</span><span style=\"font-weight: bold\">(</span>uint32<span style=\"font-weight: bold\">[</span><span style=\"color: #008080; text-decoration-color: #008080; font-weight: bold\">1</span><span style=\"font-weight: bold\">])</span>,\n",
       "    <span style=\"color: #808000; text-decoration-color: #808000\">rng_state</span>=<span style=\"color: #800080; text-decoration-color: #800080; font-weight: bold\">ShapedArray</span><span style=\"font-weight: bold\">(</span>uint32<span style=\"font-weight: bold\">[</span><span style=\"color: #008080; text-decoration-color: #008080; font-weight: bold\">1</span>,<span style=\"color: #008080; text-decoration-color: #008080; font-weight: bold\">2</span><span style=\"font-weight: bold\">])</span>,\n",
       "    <span style=\"color: #808000; text-decoration-color: #808000\">env_steps</span>=<span style=\"color: #800080; text-decoration-color: #800080; font-weight: bold\">ShapedArray</span><span style=\"font-weight: bold\">(</span>int16<span style=\"font-weight: bold\">[</span><span style=\"color: #008080; text-decoration-color: #008080; font-weight: bold\">1</span><span style=\"font-weight: bold\">])</span>,\n",
       "    <span style=\"color: #808000; text-decoration-color: #808000\">board</span>=<span style=\"color: #800080; text-decoration-color: #800080; font-weight: bold\">Board</span><span style=\"font-weight: bold\">(</span>\n",
       "        <span style=\"color: #808000; text-decoration-color: #808000\">seed</span>=<span style=\"color: #800080; text-decoration-color: #800080; font-weight: bold\">ShapedArray</span><span style=\"font-weight: bold\">(</span>int32<span style=\"font-weight: bold\">[</span><span style=\"color: #008080; text-decoration-color: #008080; font-weight: bold\">1</span><span style=\"font-weight: bold\">])</span>,\n",
       "        <span style=\"color: #808000; text-decoration-color: #808000\">factories_per_team</span>=<span style=\"color: #800080; text-decoration-color: #800080; font-weight: bold\">ShapedArray</span><span style=\"font-weight: bold\">(</span>int8<span style=\"font-weight: bold\">[</span><span style=\"color: #008080; text-decoration-color: #008080; font-weight: bold\">1</span><span style=\"font-weight: bold\">])</span>,\n",
       "        <span style=\"color: #808000; text-decoration-color: #808000\">map</span>=<span style=\"color: #800080; text-decoration-color: #800080; font-weight: bold\">GameMap</span><span style=\"font-weight: bold\">(</span>\n",
       "            <span style=\"color: #808000; text-decoration-color: #808000\">rubble</span>=<span style=\"color: #800080; text-decoration-color: #800080; font-weight: bold\">ShapedArray</span><span style=\"font-weight: bold\">(</span>int8<span style=\"font-weight: bold\">[</span><span style=\"color: #008080; text-decoration-color: #008080; font-weight: bold\">1</span>,<span style=\"color: #008080; text-decoration-color: #008080; font-weight: bold\">64</span>,<span style=\"color: #008080; text-decoration-color: #008080; font-weight: bold\">64</span><span style=\"font-weight: bold\">])</span>,\n",
       "            <span style=\"color: #808000; text-decoration-color: #808000\">ice</span>=<span style=\"color: #800080; text-decoration-color: #800080; font-weight: bold\">ShapedArray</span><span style=\"font-weight: bold\">(</span>bool<span style=\"font-weight: bold\">[</span><span style=\"color: #008080; text-decoration-color: #008080; font-weight: bold\">1</span>,<span style=\"color: #008080; text-decoration-color: #008080; font-weight: bold\">64</span>,<span style=\"color: #008080; text-decoration-color: #008080; font-weight: bold\">64</span><span style=\"font-weight: bold\">])</span>,\n",
       "            <span style=\"color: #808000; text-decoration-color: #808000\">ore</span>=<span style=\"color: #800080; text-decoration-color: #800080; font-weight: bold\">ShapedArray</span><span style=\"font-weight: bold\">(</span>bool<span style=\"font-weight: bold\">[</span><span style=\"color: #008080; text-decoration-color: #008080; font-weight: bold\">1</span>,<span style=\"color: #008080; text-decoration-color: #008080; font-weight: bold\">64</span>,<span style=\"color: #008080; text-decoration-color: #008080; font-weight: bold\">64</span><span style=\"font-weight: bold\">])</span>,\n",
       "            <span style=\"color: #808000; text-decoration-color: #808000\">symmetry</span>=<span style=\"color: #800080; text-decoration-color: #800080; font-weight: bold\">ShapedArray</span><span style=\"font-weight: bold\">(</span>int8<span style=\"font-weight: bold\">[</span><span style=\"color: #008080; text-decoration-color: #008080; font-weight: bold\">1</span><span style=\"font-weight: bold\">])</span>\n",
       "        <span style=\"font-weight: bold\">)</span>,\n",
       "        <span style=\"color: #808000; text-decoration-color: #808000\">lichen</span>=<span style=\"color: #800080; text-decoration-color: #800080; font-weight: bold\">ShapedArray</span><span style=\"font-weight: bold\">(</span>int32<span style=\"font-weight: bold\">[</span><span style=\"color: #008080; text-decoration-color: #008080; font-weight: bold\">1</span>,<span style=\"color: #008080; text-decoration-color: #008080; font-weight: bold\">64</span>,<span style=\"color: #008080; text-decoration-color: #008080; font-weight: bold\">64</span><span style=\"font-weight: bold\">])</span>,\n",
       "        <span style=\"color: #808000; text-decoration-color: #808000\">lichen_strains</span>=<span style=\"color: #800080; text-decoration-color: #800080; font-weight: bold\">ShapedArray</span><span style=\"font-weight: bold\">(</span>int8<span style=\"font-weight: bold\">[</span><span style=\"color: #008080; text-decoration-color: #008080; font-weight: bold\">1</span>,<span style=\"color: #008080; text-decoration-color: #008080; font-weight: bold\">64</span>,<span style=\"color: #008080; text-decoration-color: #008080; font-weight: bold\">64</span><span style=\"font-weight: bold\">])</span>,\n",
       "        <span style=\"color: #808000; text-decoration-color: #808000\">units_map</span>=<span style=\"color: #800080; text-decoration-color: #800080; font-weight: bold\">ShapedArray</span><span style=\"font-weight: bold\">(</span>int16<span style=\"font-weight: bold\">[</span><span style=\"color: #008080; text-decoration-color: #008080; font-weight: bold\">1</span>,<span style=\"color: #008080; text-decoration-color: #008080; font-weight: bold\">64</span>,<span style=\"color: #008080; text-decoration-color: #008080; font-weight: bold\">64</span><span style=\"font-weight: bold\">])</span>,\n",
       "        <span style=\"color: #808000; text-decoration-color: #808000\">factory_map</span>=<span style=\"color: #800080; text-decoration-color: #800080; font-weight: bold\">ShapedArray</span><span style=\"font-weight: bold\">(</span>int8<span style=\"font-weight: bold\">[</span><span style=\"color: #008080; text-decoration-color: #008080; font-weight: bold\">1</span>,<span style=\"color: #008080; text-decoration-color: #008080; font-weight: bold\">64</span>,<span style=\"color: #008080; text-decoration-color: #008080; font-weight: bold\">64</span><span style=\"font-weight: bold\">])</span>,\n",
       "        <span style=\"color: #808000; text-decoration-color: #808000\">factory_occupancy_map</span>=<span style=\"color: #800080; text-decoration-color: #800080; font-weight: bold\">ShapedArray</span><span style=\"font-weight: bold\">(</span>int8<span style=\"font-weight: bold\">[</span><span style=\"color: #008080; text-decoration-color: #008080; font-weight: bold\">1</span>,<span style=\"color: #008080; text-decoration-color: #008080; font-weight: bold\">64</span>,<span style=\"color: #008080; text-decoration-color: #008080; font-weight: bold\">64</span><span style=\"font-weight: bold\">])</span>,\n",
       "        <span style=\"color: #808000; text-decoration-color: #808000\">factory_pos</span>=<span style=\"color: #800080; text-decoration-color: #800080; font-weight: bold\">ShapedArray</span><span style=\"font-weight: bold\">(</span>int8<span style=\"font-weight: bold\">[</span><span style=\"color: #008080; text-decoration-color: #008080; font-weight: bold\">1</span>,<span style=\"color: #008080; text-decoration-color: #008080; font-weight: bold\">22</span>,<span style=\"color: #008080; text-decoration-color: #008080; font-weight: bold\">2</span><span style=\"font-weight: bold\">])</span>\n",
       "    <span style=\"font-weight: bold\">)</span>,\n",
       "    <span style=\"color: #808000; text-decoration-color: #808000\">units</span>=<span style=\"color: #800080; text-decoration-color: #800080; font-weight: bold\">Unit</span><span style=\"font-weight: bold\">(</span>\n",
       "        <span style=\"color: #808000; text-decoration-color: #808000\">unit_type</span>=<span style=\"color: #800080; text-decoration-color: #800080; font-weight: bold\">ShapedArray</span><span style=\"font-weight: bold\">(</span>int8<span style=\"font-weight: bold\">[</span><span style=\"color: #008080; text-decoration-color: #008080; font-weight: bold\">1</span>,<span style=\"color: #008080; text-decoration-color: #008080; font-weight: bold\">2</span>,<span style=\"color: #008080; text-decoration-color: #008080; font-weight: bold\">200</span><span style=\"font-weight: bold\">])</span>,\n",
       "        <span style=\"color: #808000; text-decoration-color: #808000\">action_queue</span>=<span style=\"color: #800080; text-decoration-color: #800080; font-weight: bold\">ActionQueue</span><span style=\"font-weight: bold\">(</span>\n",
       "            <span style=\"color: #808000; text-decoration-color: #808000\">data</span>=<span style=\"color: #800080; text-decoration-color: #800080; font-weight: bold\">UnitAction</span><span style=\"font-weight: bold\">(</span>\n",
       "                <span style=\"color: #808000; text-decoration-color: #808000\">action_type</span>=<span style=\"color: #800080; text-decoration-color: #800080; font-weight: bold\">ShapedArray</span><span style=\"font-weight: bold\">(</span>int8<span style=\"font-weight: bold\">[</span><span style=\"color: #008080; text-decoration-color: #008080; font-weight: bold\">1</span>,<span style=\"color: #008080; text-decoration-color: #008080; font-weight: bold\">2</span>,<span style=\"color: #008080; text-decoration-color: #008080; font-weight: bold\">200</span>,<span style=\"color: #008080; text-decoration-color: #008080; font-weight: bold\">20</span><span style=\"font-weight: bold\">])</span>,\n",
       "                <span style=\"color: #808000; text-decoration-color: #808000\">direction</span>=<span style=\"color: #800080; text-decoration-color: #800080; font-weight: bold\">ShapedArray</span><span style=\"font-weight: bold\">(</span>int8<span style=\"font-weight: bold\">[</span><span style=\"color: #008080; text-decoration-color: #008080; font-weight: bold\">1</span>,<span style=\"color: #008080; text-decoration-color: #008080; font-weight: bold\">2</span>,<span style=\"color: #008080; text-decoration-color: #008080; font-weight: bold\">200</span>,<span style=\"color: #008080; text-decoration-color: #008080; font-weight: bold\">20</span><span style=\"font-weight: bold\">])</span>,\n",
       "                <span style=\"color: #808000; text-decoration-color: #808000\">resource_type</span>=<span style=\"color: #800080; text-decoration-color: #800080; font-weight: bold\">ShapedArray</span><span style=\"font-weight: bold\">(</span>int8<span style=\"font-weight: bold\">[</span><span style=\"color: #008080; text-decoration-color: #008080; font-weight: bold\">1</span>,<span style=\"color: #008080; text-decoration-color: #008080; font-weight: bold\">2</span>,<span style=\"color: #008080; text-decoration-color: #008080; font-weight: bold\">200</span>,<span style=\"color: #008080; text-decoration-color: #008080; font-weight: bold\">20</span><span style=\"font-weight: bold\">])</span>,\n",
       "                <span style=\"color: #808000; text-decoration-color: #808000\">amount</span>=<span style=\"color: #800080; text-decoration-color: #800080; font-weight: bold\">ShapedArray</span><span style=\"font-weight: bold\">(</span>int16<span style=\"font-weight: bold\">[</span><span style=\"color: #008080; text-decoration-color: #008080; font-weight: bold\">1</span>,<span style=\"color: #008080; text-decoration-color: #008080; font-weight: bold\">2</span>,<span style=\"color: #008080; text-decoration-color: #008080; font-weight: bold\">200</span>,<span style=\"color: #008080; text-decoration-color: #008080; font-weight: bold\">20</span><span style=\"font-weight: bold\">])</span>,\n",
       "                <span style=\"color: #808000; text-decoration-color: #808000\">repeat</span>=<span style=\"color: #800080; text-decoration-color: #800080; font-weight: bold\">ShapedArray</span><span style=\"font-weight: bold\">(</span>int16<span style=\"font-weight: bold\">[</span><span style=\"color: #008080; text-decoration-color: #008080; font-weight: bold\">1</span>,<span style=\"color: #008080; text-decoration-color: #008080; font-weight: bold\">2</span>,<span style=\"color: #008080; text-decoration-color: #008080; font-weight: bold\">200</span>,<span style=\"color: #008080; text-decoration-color: #008080; font-weight: bold\">20</span><span style=\"font-weight: bold\">])</span>,\n",
       "                <span style=\"color: #808000; text-decoration-color: #808000\">n</span>=<span style=\"color: #800080; text-decoration-color: #800080; font-weight: bold\">ShapedArray</span><span style=\"font-weight: bold\">(</span>int16<span style=\"font-weight: bold\">[</span><span style=\"color: #008080; text-decoration-color: #008080; font-weight: bold\">1</span>,<span style=\"color: #008080; text-decoration-color: #008080; font-weight: bold\">2</span>,<span style=\"color: #008080; text-decoration-color: #008080; font-weight: bold\">200</span>,<span style=\"color: #008080; text-decoration-color: #008080; font-weight: bold\">20</span><span style=\"font-weight: bold\">])</span>\n",
       "            <span style=\"font-weight: bold\">)</span>,\n",
       "            <span style=\"color: #808000; text-decoration-color: #808000\">front</span>=<span style=\"color: #800080; text-decoration-color: #800080; font-weight: bold\">ShapedArray</span><span style=\"font-weight: bold\">(</span>int8<span style=\"font-weight: bold\">[</span><span style=\"color: #008080; text-decoration-color: #008080; font-weight: bold\">1</span>,<span style=\"color: #008080; text-decoration-color: #008080; font-weight: bold\">2</span>,<span style=\"color: #008080; text-decoration-color: #008080; font-weight: bold\">200</span><span style=\"font-weight: bold\">])</span>,\n",
       "            <span style=\"color: #808000; text-decoration-color: #808000\">rear</span>=<span style=\"color: #800080; text-decoration-color: #800080; font-weight: bold\">ShapedArray</span><span style=\"font-weight: bold\">(</span>int8<span style=\"font-weight: bold\">[</span><span style=\"color: #008080; text-decoration-color: #008080; font-weight: bold\">1</span>,<span style=\"color: #008080; text-decoration-color: #008080; font-weight: bold\">2</span>,<span style=\"color: #008080; text-decoration-color: #008080; font-weight: bold\">200</span><span style=\"font-weight: bold\">])</span>,\n",
       "            <span style=\"color: #808000; text-decoration-color: #808000\">count</span>=<span style=\"color: #800080; text-decoration-color: #800080; font-weight: bold\">ShapedArray</span><span style=\"font-weight: bold\">(</span>int8<span style=\"font-weight: bold\">[</span><span style=\"color: #008080; text-decoration-color: #008080; font-weight: bold\">1</span>,<span style=\"color: #008080; text-decoration-color: #008080; font-weight: bold\">2</span>,<span style=\"color: #008080; text-decoration-color: #008080; font-weight: bold\">200</span><span style=\"font-weight: bold\">])</span>\n",
       "        <span style=\"font-weight: bold\">)</span>,\n",
       "        <span style=\"color: #808000; text-decoration-color: #808000\">team_id</span>=<span style=\"color: #800080; text-decoration-color: #800080; font-weight: bold\">ShapedArray</span><span style=\"font-weight: bold\">(</span>int8<span style=\"font-weight: bold\">[</span><span style=\"color: #008080; text-decoration-color: #008080; font-weight: bold\">1</span>,<span style=\"color: #008080; text-decoration-color: #008080; font-weight: bold\">2</span>,<span style=\"color: #008080; text-decoration-color: #008080; font-weight: bold\">200</span><span style=\"font-weight: bold\">])</span>,\n",
       "        <span style=\"color: #808000; text-decoration-color: #808000\">unit_id</span>=<span style=\"color: #800080; text-decoration-color: #800080; font-weight: bold\">ShapedArray</span><span style=\"font-weight: bold\">(</span>int16<span style=\"font-weight: bold\">[</span><span style=\"color: #008080; text-decoration-color: #008080; font-weight: bold\">1</span>,<span style=\"color: #008080; text-decoration-color: #008080; font-weight: bold\">2</span>,<span style=\"color: #008080; text-decoration-color: #008080; font-weight: bold\">200</span><span style=\"font-weight: bold\">])</span>,\n",
       "        <span style=\"color: #808000; text-decoration-color: #808000\">pos</span>=<span style=\"color: #800080; text-decoration-color: #800080; font-weight: bold\">Position</span><span style=\"font-weight: bold\">(</span><span style=\"color: #808000; text-decoration-color: #808000\">pos</span>=<span style=\"color: #800080; text-decoration-color: #800080; font-weight: bold\">ShapedArray</span><span style=\"font-weight: bold\">(</span>int8<span style=\"font-weight: bold\">[</span><span style=\"color: #008080; text-decoration-color: #008080; font-weight: bold\">1</span>,<span style=\"color: #008080; text-decoration-color: #008080; font-weight: bold\">2</span>,<span style=\"color: #008080; text-decoration-color: #008080; font-weight: bold\">200</span>,<span style=\"color: #008080; text-decoration-color: #008080; font-weight: bold\">2</span><span style=\"font-weight: bold\">]))</span>,\n",
       "        <span style=\"color: #808000; text-decoration-color: #808000\">cargo</span>=<span style=\"color: #800080; text-decoration-color: #800080; font-weight: bold\">UnitCargo</span><span style=\"font-weight: bold\">(</span><span style=\"color: #808000; text-decoration-color: #808000\">stock</span>=<span style=\"color: #800080; text-decoration-color: #800080; font-weight: bold\">ShapedArray</span><span style=\"font-weight: bold\">(</span>int32<span style=\"font-weight: bold\">[</span><span style=\"color: #008080; text-decoration-color: #008080; font-weight: bold\">1</span>,<span style=\"color: #008080; text-decoration-color: #008080; font-weight: bold\">2</span>,<span style=\"color: #008080; text-decoration-color: #008080; font-weight: bold\">200</span>,<span style=\"color: #008080; text-decoration-color: #008080; font-weight: bold\">4</span><span style=\"font-weight: bold\">]))</span>,\n",
       "        <span style=\"color: #808000; text-decoration-color: #808000\">power</span>=<span style=\"color: #800080; text-decoration-color: #800080; font-weight: bold\">ShapedArray</span><span style=\"font-weight: bold\">(</span>int32<span style=\"font-weight: bold\">[</span><span style=\"color: #008080; text-decoration-color: #008080; font-weight: bold\">1</span>,<span style=\"color: #008080; text-decoration-color: #008080; font-weight: bold\">2</span>,<span style=\"color: #008080; text-decoration-color: #008080; font-weight: bold\">200</span><span style=\"font-weight: bold\">])</span>\n",
       "    <span style=\"font-weight: bold\">)</span>,\n",
       "    <span style=\"color: #808000; text-decoration-color: #808000\">unit_id2idx</span>=<span style=\"color: #800080; text-decoration-color: #800080; font-weight: bold\">ShapedArray</span><span style=\"font-weight: bold\">(</span>int16<span style=\"font-weight: bold\">[</span><span style=\"color: #008080; text-decoration-color: #008080; font-weight: bold\">1</span>,<span style=\"color: #008080; text-decoration-color: #008080; font-weight: bold\">2000</span>,<span style=\"color: #008080; text-decoration-color: #008080; font-weight: bold\">2</span><span style=\"font-weight: bold\">])</span>,\n",
       "    <span style=\"color: #808000; text-decoration-color: #808000\">n_units</span>=<span style=\"color: #800080; text-decoration-color: #800080; font-weight: bold\">ShapedArray</span><span style=\"font-weight: bold\">(</span>int16<span style=\"font-weight: bold\">[</span><span style=\"color: #008080; text-decoration-color: #008080; font-weight: bold\">1</span>,<span style=\"color: #008080; text-decoration-color: #008080; font-weight: bold\">2</span><span style=\"font-weight: bold\">])</span>,\n",
       "    <span style=\"color: #808000; text-decoration-color: #808000\">factories</span>=<span style=\"color: #800080; text-decoration-color: #800080; font-weight: bold\">Factory</span><span style=\"font-weight: bold\">(</span>\n",
       "        <span style=\"color: #808000; text-decoration-color: #808000\">team_id</span>=<span style=\"color: #800080; text-decoration-color: #800080; font-weight: bold\">ShapedArray</span><span style=\"font-weight: bold\">(</span>int8<span style=\"font-weight: bold\">[</span><span style=\"color: #008080; text-decoration-color: #008080; font-weight: bold\">1</span>,<span style=\"color: #008080; text-decoration-color: #008080; font-weight: bold\">2</span>,<span style=\"color: #008080; text-decoration-color: #008080; font-weight: bold\">11</span><span style=\"font-weight: bold\">])</span>,\n",
       "        <span style=\"color: #808000; text-decoration-color: #808000\">unit_id</span>=<span style=\"color: #800080; text-decoration-color: #800080; font-weight: bold\">ShapedArray</span><span style=\"font-weight: bold\">(</span>int8<span style=\"font-weight: bold\">[</span><span style=\"color: #008080; text-decoration-color: #008080; font-weight: bold\">1</span>,<span style=\"color: #008080; text-decoration-color: #008080; font-weight: bold\">2</span>,<span style=\"color: #008080; text-decoration-color: #008080; font-weight: bold\">11</span><span style=\"font-weight: bold\">])</span>,\n",
       "        <span style=\"color: #808000; text-decoration-color: #808000\">pos</span>=<span style=\"color: #800080; text-decoration-color: #800080; font-weight: bold\">Position</span><span style=\"font-weight: bold\">(</span><span style=\"color: #808000; text-decoration-color: #808000\">pos</span>=<span style=\"color: #800080; text-decoration-color: #800080; font-weight: bold\">ShapedArray</span><span style=\"font-weight: bold\">(</span>int8<span style=\"font-weight: bold\">[</span><span style=\"color: #008080; text-decoration-color: #008080; font-weight: bold\">1</span>,<span style=\"color: #008080; text-decoration-color: #008080; font-weight: bold\">2</span>,<span style=\"color: #008080; text-decoration-color: #008080; font-weight: bold\">11</span>,<span style=\"color: #008080; text-decoration-color: #008080; font-weight: bold\">2</span><span style=\"font-weight: bold\">]))</span>,\n",
       "        <span style=\"color: #808000; text-decoration-color: #808000\">power</span>=<span style=\"color: #800080; text-decoration-color: #800080; font-weight: bold\">ShapedArray</span><span style=\"font-weight: bold\">(</span>int32<span style=\"font-weight: bold\">[</span><span style=\"color: #008080; text-decoration-color: #008080; font-weight: bold\">1</span>,<span style=\"color: #008080; text-decoration-color: #008080; font-weight: bold\">2</span>,<span style=\"color: #008080; text-decoration-color: #008080; font-weight: bold\">11</span><span style=\"font-weight: bold\">])</span>,\n",
       "        <span style=\"color: #808000; text-decoration-color: #808000\">cargo</span>=<span style=\"color: #800080; text-decoration-color: #800080; font-weight: bold\">UnitCargo</span><span style=\"font-weight: bold\">(</span><span style=\"color: #808000; text-decoration-color: #808000\">stock</span>=<span style=\"color: #800080; text-decoration-color: #800080; font-weight: bold\">ShapedArray</span><span style=\"font-weight: bold\">(</span>int32<span style=\"font-weight: bold\">[</span><span style=\"color: #008080; text-decoration-color: #008080; font-weight: bold\">1</span>,<span style=\"color: #008080; text-decoration-color: #008080; font-weight: bold\">2</span>,<span style=\"color: #008080; text-decoration-color: #008080; font-weight: bold\">11</span>,<span style=\"color: #008080; text-decoration-color: #008080; font-weight: bold\">4</span><span style=\"font-weight: bold\">]))</span>\n",
       "    <span style=\"font-weight: bold\">)</span>,\n",
       "    <span style=\"color: #808000; text-decoration-color: #808000\">factory_id2idx</span>=<span style=\"color: #800080; text-decoration-color: #800080; font-weight: bold\">ShapedArray</span><span style=\"font-weight: bold\">(</span>int8<span style=\"font-weight: bold\">[</span><span style=\"color: #008080; text-decoration-color: #008080; font-weight: bold\">1</span>,<span style=\"color: #008080; text-decoration-color: #008080; font-weight: bold\">22</span>,<span style=\"color: #008080; text-decoration-color: #008080; font-weight: bold\">2</span><span style=\"font-weight: bold\">])</span>,\n",
       "    <span style=\"color: #808000; text-decoration-color: #808000\">n_factories</span>=<span style=\"color: #800080; text-decoration-color: #800080; font-weight: bold\">ShapedArray</span><span style=\"font-weight: bold\">(</span>int8<span style=\"font-weight: bold\">[</span><span style=\"color: #008080; text-decoration-color: #008080; font-weight: bold\">1</span>,<span style=\"color: #008080; text-decoration-color: #008080; font-weight: bold\">2</span><span style=\"font-weight: bold\">])</span>,\n",
       "    <span style=\"color: #808000; text-decoration-color: #808000\">teams</span>=<span style=\"color: #800080; text-decoration-color: #800080; font-weight: bold\">Team</span><span style=\"font-weight: bold\">(</span>\n",
       "        <span style=\"color: #808000; text-decoration-color: #808000\">team_id</span>=<span style=\"color: #800080; text-decoration-color: #800080; font-weight: bold\">ShapedArray</span><span style=\"font-weight: bold\">(</span>int8<span style=\"font-weight: bold\">[</span><span style=\"color: #008080; text-decoration-color: #008080; font-weight: bold\">1</span>,<span style=\"color: #008080; text-decoration-color: #008080; font-weight: bold\">2</span><span style=\"font-weight: bold\">])</span>,\n",
       "        <span style=\"color: #808000; text-decoration-color: #808000\">faction</span>=<span style=\"color: #800080; text-decoration-color: #800080; font-weight: bold\">ShapedArray</span><span style=\"font-weight: bold\">(</span>int8<span style=\"font-weight: bold\">[</span><span style=\"color: #008080; text-decoration-color: #008080; font-weight: bold\">1</span>,<span style=\"color: #008080; text-decoration-color: #008080; font-weight: bold\">2</span><span style=\"font-weight: bold\">])</span>,\n",
       "        <span style=\"color: #808000; text-decoration-color: #808000\">init_water</span>=<span style=\"color: #800080; text-decoration-color: #800080; font-weight: bold\">ShapedArray</span><span style=\"font-weight: bold\">(</span>int32<span style=\"font-weight: bold\">[</span><span style=\"color: #008080; text-decoration-color: #008080; font-weight: bold\">1</span>,<span style=\"color: #008080; text-decoration-color: #008080; font-weight: bold\">2</span><span style=\"font-weight: bold\">])</span>,\n",
       "        <span style=\"color: #808000; text-decoration-color: #808000\">init_metal</span>=<span style=\"color: #800080; text-decoration-color: #800080; font-weight: bold\">ShapedArray</span><span style=\"font-weight: bold\">(</span>int32<span style=\"font-weight: bold\">[</span><span style=\"color: #008080; text-decoration-color: #008080; font-weight: bold\">1</span>,<span style=\"color: #008080; text-decoration-color: #008080; font-weight: bold\">2</span><span style=\"font-weight: bold\">])</span>,\n",
       "        <span style=\"color: #808000; text-decoration-color: #808000\">factories_to_place</span>=<span style=\"color: #800080; text-decoration-color: #800080; font-weight: bold\">ShapedArray</span><span style=\"font-weight: bold\">(</span>int32<span style=\"font-weight: bold\">[</span><span style=\"color: #008080; text-decoration-color: #008080; font-weight: bold\">1</span>,<span style=\"color: #008080; text-decoration-color: #008080; font-weight: bold\">2</span><span style=\"font-weight: bold\">])</span>,\n",
       "        <span style=\"color: #808000; text-decoration-color: #808000\">factory_strains</span>=<span style=\"color: #800080; text-decoration-color: #800080; font-weight: bold\">ShapedArray</span><span style=\"font-weight: bold\">(</span>int8<span style=\"font-weight: bold\">[</span><span style=\"color: #008080; text-decoration-color: #008080; font-weight: bold\">1</span>,<span style=\"color: #008080; text-decoration-color: #008080; font-weight: bold\">2</span>,<span style=\"color: #008080; text-decoration-color: #008080; font-weight: bold\">11</span><span style=\"font-weight: bold\">])</span>,\n",
       "        <span style=\"color: #808000; text-decoration-color: #808000\">n_factory</span>=<span style=\"color: #800080; text-decoration-color: #800080; font-weight: bold\">ShapedArray</span><span style=\"font-weight: bold\">(</span>int8<span style=\"font-weight: bold\">[</span><span style=\"color: #008080; text-decoration-color: #008080; font-weight: bold\">1</span>,<span style=\"color: #008080; text-decoration-color: #008080; font-weight: bold\">2</span><span style=\"font-weight: bold\">])</span>,\n",
       "        <span style=\"color: #808000; text-decoration-color: #808000\">bid</span>=<span style=\"color: #800080; text-decoration-color: #800080; font-weight: bold\">ShapedArray</span><span style=\"font-weight: bold\">(</span>int32<span style=\"font-weight: bold\">[</span><span style=\"color: #008080; text-decoration-color: #008080; font-weight: bold\">1</span>,<span style=\"color: #008080; text-decoration-color: #008080; font-weight: bold\">2</span><span style=\"font-weight: bold\">])</span>\n",
       "    <span style=\"font-weight: bold\">)</span>,\n",
       "    <span style=\"color: #808000; text-decoration-color: #808000\">global_id</span>=<span style=\"color: #800080; text-decoration-color: #800080; font-weight: bold\">ShapedArray</span><span style=\"font-weight: bold\">(</span>int16<span style=\"font-weight: bold\">[</span><span style=\"color: #008080; text-decoration-color: #008080; font-weight: bold\">1</span><span style=\"font-weight: bold\">])</span>,\n",
       "    <span style=\"color: #808000; text-decoration-color: #808000\">place_first</span>=<span style=\"color: #800080; text-decoration-color: #800080; font-weight: bold\">ShapedArray</span><span style=\"font-weight: bold\">(</span>int8<span style=\"font-weight: bold\">[</span><span style=\"color: #008080; text-decoration-color: #008080; font-weight: bold\">1</span><span style=\"font-weight: bold\">])</span>\n",
       "<span style=\"font-weight: bold\">)</span>\n",
       "</pre>\n"
      ],
      "text/plain": [
       "\u001b[1;35mState\u001b[0m\u001b[1m(\u001b[0m\n",
       "    \u001b[33menv_cfg\u001b[0m=\u001b[1;35mEnvConfig\u001b[0m\u001b[1m(\u001b[0m\n",
       "        \u001b[33mmax_episode_length\u001b[0m=\u001b[1;35mShapedArray\u001b[0m\u001b[1m(\u001b[0mint32\u001b[1m[\u001b[0m\u001b[1;36m1\u001b[0m\u001b[1m]\u001b[0m, \u001b[33mweak_type\u001b[0m=\u001b[3;92mTrue\u001b[0m\u001b[1m)\u001b[0m,\n",
       "        \u001b[33mmap_size\u001b[0m=\u001b[1;35mShapedArray\u001b[0m\u001b[1m(\u001b[0mint32\u001b[1m[\u001b[0m\u001b[1;36m1\u001b[0m\u001b[1m]\u001b[0m, \u001b[33mweak_type\u001b[0m=\u001b[3;92mTrue\u001b[0m\u001b[1m)\u001b[0m,\n",
       "        \u001b[33mverbose\u001b[0m=\u001b[1;35mShapedArray\u001b[0m\u001b[1m(\u001b[0mint32\u001b[1m[\u001b[0m\u001b[1;36m1\u001b[0m\u001b[1m]\u001b[0m, \u001b[33mweak_type\u001b[0m=\u001b[3;92mTrue\u001b[0m\u001b[1m)\u001b[0m,\n",
       "        \u001b[33mvalidate_action_space\u001b[0m=\u001b[1;35mShapedArray\u001b[0m\u001b[1m(\u001b[0mbool\u001b[1m[\u001b[0m\u001b[1;36m1\u001b[0m\u001b[1m]\u001b[0m\u001b[1m)\u001b[0m,\n",
       "        \u001b[33mmax_transfer_amount\u001b[0m=\u001b[1;35mShapedArray\u001b[0m\u001b[1m(\u001b[0mint32\u001b[1m[\u001b[0m\u001b[1;36m1\u001b[0m\u001b[1m]\u001b[0m, \u001b[33mweak_type\u001b[0m=\u001b[3;92mTrue\u001b[0m\u001b[1m)\u001b[0m,\n",
       "        \u001b[33mMIN_FACTORIES\u001b[0m=\u001b[1;35mShapedArray\u001b[0m\u001b[1m(\u001b[0mint32\u001b[1m[\u001b[0m\u001b[1;36m1\u001b[0m\u001b[1m]\u001b[0m, \u001b[33mweak_type\u001b[0m=\u001b[3;92mTrue\u001b[0m\u001b[1m)\u001b[0m,\n",
       "        \u001b[33mMAX_FACTORIES\u001b[0m=\u001b[1;35mShapedArray\u001b[0m\u001b[1m(\u001b[0mint32\u001b[1m[\u001b[0m\u001b[1;36m1\u001b[0m\u001b[1m]\u001b[0m, \u001b[33mweak_type\u001b[0m=\u001b[3;92mTrue\u001b[0m\u001b[1m)\u001b[0m,\n",
       "        \u001b[33mCYCLE_LENGTH\u001b[0m=\u001b[1;35mShapedArray\u001b[0m\u001b[1m(\u001b[0mint32\u001b[1m[\u001b[0m\u001b[1;36m1\u001b[0m\u001b[1m]\u001b[0m, \u001b[33mweak_type\u001b[0m=\u001b[3;92mTrue\u001b[0m\u001b[1m)\u001b[0m,\n",
       "        \u001b[33mDAY_LENGTH\u001b[0m=\u001b[1;35mShapedArray\u001b[0m\u001b[1m(\u001b[0mint32\u001b[1m[\u001b[0m\u001b[1;36m1\u001b[0m\u001b[1m]\u001b[0m, \u001b[33mweak_type\u001b[0m=\u001b[3;92mTrue\u001b[0m\u001b[1m)\u001b[0m,\n",
       "        \u001b[33mUNIT_ACTION_QUEUE_SIZE\u001b[0m=\u001b[1;35mShapedArray\u001b[0m\u001b[1m(\u001b[0mint32\u001b[1m[\u001b[0m\u001b[1;36m1\u001b[0m\u001b[1m]\u001b[0m, \u001b[33mweak_type\u001b[0m=\u001b[3;92mTrue\u001b[0m\u001b[1m)\u001b[0m,\n",
       "        \u001b[33mMAX_RUBBLE\u001b[0m=\u001b[1;35mShapedArray\u001b[0m\u001b[1m(\u001b[0mint32\u001b[1m[\u001b[0m\u001b[1;36m1\u001b[0m\u001b[1m]\u001b[0m, \u001b[33mweak_type\u001b[0m=\u001b[3;92mTrue\u001b[0m\u001b[1m)\u001b[0m,\n",
       "        \u001b[33mFACTORY_RUBBLE_AFTER_DESTRUCTION\u001b[0m=\u001b[1;35mShapedArray\u001b[0m\u001b[1m(\u001b[0mint32\u001b[1m[\u001b[0m\u001b[1;36m1\u001b[0m\u001b[1m]\u001b[0m, \u001b[33mweak_type\u001b[0m=\u001b[3;92mTrue\u001b[0m\u001b[1m)\u001b[0m,\n",
       "        \u001b[33mINIT_WATER_METAL_PER_FACTORY\u001b[0m=\u001b[1;35mShapedArray\u001b[0m\u001b[1m(\u001b[0mint32\u001b[1m[\u001b[0m\u001b[1;36m1\u001b[0m\u001b[1m]\u001b[0m, \u001b[33mweak_type\u001b[0m=\u001b[3;92mTrue\u001b[0m\u001b[1m)\u001b[0m,\n",
       "        \u001b[33mINIT_POWER_PER_FACTORY\u001b[0m=\u001b[1;35mShapedArray\u001b[0m\u001b[1m(\u001b[0mint32\u001b[1m[\u001b[0m\u001b[1;36m1\u001b[0m\u001b[1m]\u001b[0m, \u001b[33mweak_type\u001b[0m=\u001b[3;92mTrue\u001b[0m\u001b[1m)\u001b[0m,\n",
       "        \u001b[33mMIN_LICHEN_TO_SPREAD\u001b[0m=\u001b[1;35mShapedArray\u001b[0m\u001b[1m(\u001b[0mint32\u001b[1m[\u001b[0m\u001b[1;36m1\u001b[0m\u001b[1m]\u001b[0m, \u001b[33mweak_type\u001b[0m=\u001b[3;92mTrue\u001b[0m\u001b[1m)\u001b[0m,\n",
       "        \u001b[33mLICHEN_LOST_WITHOUT_WATER\u001b[0m=\u001b[1;35mShapedArray\u001b[0m\u001b[1m(\u001b[0mint32\u001b[1m[\u001b[0m\u001b[1;36m1\u001b[0m\u001b[1m]\u001b[0m, \u001b[33mweak_type\u001b[0m=\u001b[3;92mTrue\u001b[0m\u001b[1m)\u001b[0m,\n",
       "        \u001b[33mLICHEN_GAINED_WITH_WATER\u001b[0m=\u001b[1;35mShapedArray\u001b[0m\u001b[1m(\u001b[0mint32\u001b[1m[\u001b[0m\u001b[1;36m1\u001b[0m\u001b[1m]\u001b[0m, \u001b[33mweak_type\u001b[0m=\u001b[3;92mTrue\u001b[0m\u001b[1m)\u001b[0m,\n",
       "        \u001b[33mMAX_LICHEN_PER_TILE\u001b[0m=\u001b[1;35mShapedArray\u001b[0m\u001b[1m(\u001b[0mint32\u001b[1m[\u001b[0m\u001b[1;36m1\u001b[0m\u001b[1m]\u001b[0m, \u001b[33mweak_type\u001b[0m=\u001b[3;92mTrue\u001b[0m\u001b[1m)\u001b[0m,\n",
       "        \u001b[33mPOWER_PER_CONNECTED_LICHEN_TILE\u001b[0m=\u001b[1;35mShapedArray\u001b[0m\u001b[1m(\u001b[0mint32\u001b[1m[\u001b[0m\u001b[1;36m1\u001b[0m\u001b[1m]\u001b[0m, \u001b[33mweak_type\u001b[0m=\u001b[3;92mTrue\u001b[0m\u001b[1m)\u001b[0m,\n",
       "        \u001b[33mLICHEN_WATERING_COST_FACTOR\u001b[0m=\u001b[1;35mShapedArray\u001b[0m\u001b[1m(\u001b[0mint32\u001b[1m[\u001b[0m\u001b[1;36m1\u001b[0m\u001b[1m]\u001b[0m, \u001b[33mweak_type\u001b[0m=\u001b[3;92mTrue\u001b[0m\u001b[1m)\u001b[0m,\n",
       "        \u001b[33mBIDDING_SYSTEM\u001b[0m=\u001b[1;35mShapedArray\u001b[0m\u001b[1m(\u001b[0mbool\u001b[1m[\u001b[0m\u001b[1;36m1\u001b[0m\u001b[1m]\u001b[0m\u001b[1m)\u001b[0m,\n",
       "        \u001b[33mFACTORY_PROCESSING_RATE_WATER\u001b[0m=\u001b[1;35mShapedArray\u001b[0m\u001b[1m(\u001b[0mint32\u001b[1m[\u001b[0m\u001b[1;36m1\u001b[0m\u001b[1m]\u001b[0m, \u001b[33mweak_type\u001b[0m=\u001b[3;92mTrue\u001b[0m\u001b[1m)\u001b[0m,\n",
       "        \u001b[33mICE_WATER_RATIO\u001b[0m=\u001b[1;35mShapedArray\u001b[0m\u001b[1m(\u001b[0mint32\u001b[1m[\u001b[0m\u001b[1;36m1\u001b[0m\u001b[1m]\u001b[0m, \u001b[33mweak_type\u001b[0m=\u001b[3;92mTrue\u001b[0m\u001b[1m)\u001b[0m,\n",
       "        \u001b[33mFACTORY_PROCESSING_RATE_METAL\u001b[0m=\u001b[1;35mShapedArray\u001b[0m\u001b[1m(\u001b[0mint32\u001b[1m[\u001b[0m\u001b[1;36m1\u001b[0m\u001b[1m]\u001b[0m, \u001b[33mweak_type\u001b[0m=\u001b[3;92mTrue\u001b[0m\u001b[1m)\u001b[0m,\n",
       "        \u001b[33mORE_METAL_RATIO\u001b[0m=\u001b[1;35mShapedArray\u001b[0m\u001b[1m(\u001b[0mint32\u001b[1m[\u001b[0m\u001b[1;36m1\u001b[0m\u001b[1m]\u001b[0m, \u001b[33mweak_type\u001b[0m=\u001b[3;92mTrue\u001b[0m\u001b[1m)\u001b[0m,\n",
       "        \u001b[33mFACTORY_CHARGE\u001b[0m=\u001b[1;35mShapedArray\u001b[0m\u001b[1m(\u001b[0mint32\u001b[1m[\u001b[0m\u001b[1;36m1\u001b[0m\u001b[1m]\u001b[0m, \u001b[33mweak_type\u001b[0m=\u001b[3;92mTrue\u001b[0m\u001b[1m)\u001b[0m,\n",
       "        \u001b[33mFACTORY_WATER_CONSUMPTION\u001b[0m=\u001b[1;35mShapedArray\u001b[0m\u001b[1m(\u001b[0mint32\u001b[1m[\u001b[0m\u001b[1;36m1\u001b[0m\u001b[1m]\u001b[0m, \u001b[33mweak_type\u001b[0m=\u001b[3;92mTrue\u001b[0m\u001b[1m)\u001b[0m,\n",
       "        \u001b[33mPOWER_LOSS_FACTOR\u001b[0m=\u001b[1;35mShapedArray\u001b[0m\u001b[1m(\u001b[0mfloat32\u001b[1m[\u001b[0m\u001b[1;36m1\u001b[0m\u001b[1m]\u001b[0m, \u001b[33mweak_type\u001b[0m=\u001b[3;92mTrue\u001b[0m\u001b[1m)\u001b[0m,\n",
       "        \u001b[33mROBOTS\u001b[0m=\u001b[1m(\u001b[0m\n",
       "            \u001b[1;35mUnitConfig\u001b[0m\u001b[1m(\u001b[0m\n",
       "                \u001b[33mMETAL_COST\u001b[0m=\u001b[1;35mShapedArray\u001b[0m\u001b[1m(\u001b[0mint32\u001b[1m[\u001b[0m\u001b[1;36m1\u001b[0m\u001b[1m]\u001b[0m, \u001b[33mweak_type\u001b[0m=\u001b[3;92mTrue\u001b[0m\u001b[1m)\u001b[0m,\n",
       "                \u001b[33mPOWER_COST\u001b[0m=\u001b[1;35mShapedArray\u001b[0m\u001b[1m(\u001b[0mint32\u001b[1m[\u001b[0m\u001b[1;36m1\u001b[0m\u001b[1m]\u001b[0m, \u001b[33mweak_type\u001b[0m=\u001b[3;92mTrue\u001b[0m\u001b[1m)\u001b[0m,\n",
       "                \u001b[33mCARGO_SPACE\u001b[0m=\u001b[1;35mShapedArray\u001b[0m\u001b[1m(\u001b[0mint32\u001b[1m[\u001b[0m\u001b[1;36m1\u001b[0m\u001b[1m]\u001b[0m, \u001b[33mweak_type\u001b[0m=\u001b[3;92mTrue\u001b[0m\u001b[1m)\u001b[0m,\n",
       "                \u001b[33mBATTERY_CAPACITY\u001b[0m=\u001b[1;35mShapedArray\u001b[0m\u001b[1m(\u001b[0mint32\u001b[1m[\u001b[0m\u001b[1;36m1\u001b[0m\u001b[1m]\u001b[0m, \u001b[33mweak_type\u001b[0m=\u001b[3;92mTrue\u001b[0m\u001b[1m)\u001b[0m,\n",
       "                \u001b[33mCHARGE\u001b[0m=\u001b[1;35mShapedArray\u001b[0m\u001b[1m(\u001b[0mint32\u001b[1m[\u001b[0m\u001b[1;36m1\u001b[0m\u001b[1m]\u001b[0m, \u001b[33mweak_type\u001b[0m=\u001b[3;92mTrue\u001b[0m\u001b[1m)\u001b[0m,\n",
       "                \u001b[33mINIT_POWER\u001b[0m=\u001b[1;35mShapedArray\u001b[0m\u001b[1m(\u001b[0mint32\u001b[1m[\u001b[0m\u001b[1;36m1\u001b[0m\u001b[1m]\u001b[0m, \u001b[33mweak_type\u001b[0m=\u001b[3;92mTrue\u001b[0m\u001b[1m)\u001b[0m,\n",
       "                \u001b[33mMOVE_COST\u001b[0m=\u001b[1;35mShapedArray\u001b[0m\u001b[1m(\u001b[0mint32\u001b[1m[\u001b[0m\u001b[1;36m1\u001b[0m\u001b[1m]\u001b[0m, \u001b[33mweak_type\u001b[0m=\u001b[3;92mTrue\u001b[0m\u001b[1m)\u001b[0m,\n",
       "                \u001b[33mRUBBLE_MOVEMENT_COST\u001b[0m=\u001b[1;35mShapedArray\u001b[0m\u001b[1m(\u001b[0mfloat32\u001b[1m[\u001b[0m\u001b[1;36m1\u001b[0m\u001b[1m]\u001b[0m, \u001b[33mweak_type\u001b[0m=\u001b[3;92mTrue\u001b[0m\u001b[1m)\u001b[0m,\n",
       "                \u001b[33mDIG_COST\u001b[0m=\u001b[1;35mShapedArray\u001b[0m\u001b[1m(\u001b[0mint32\u001b[1m[\u001b[0m\u001b[1;36m1\u001b[0m\u001b[1m]\u001b[0m, \u001b[33mweak_type\u001b[0m=\u001b[3;92mTrue\u001b[0m\u001b[1m)\u001b[0m,\n",
       "                \u001b[33mDIG_RUBBLE_REMOVED\u001b[0m=\u001b[1;35mShapedArray\u001b[0m\u001b[1m(\u001b[0mint32\u001b[1m[\u001b[0m\u001b[1;36m1\u001b[0m\u001b[1m]\u001b[0m, \u001b[33mweak_type\u001b[0m=\u001b[3;92mTrue\u001b[0m\u001b[1m)\u001b[0m,\n",
       "                \u001b[33mDIG_RESOURCE_GAIN\u001b[0m=\u001b[1;35mShapedArray\u001b[0m\u001b[1m(\u001b[0mint32\u001b[1m[\u001b[0m\u001b[1;36m1\u001b[0m\u001b[1m]\u001b[0m, \u001b[33mweak_type\u001b[0m=\u001b[3;92mTrue\u001b[0m\u001b[1m)\u001b[0m,\n",
       "                \u001b[33mDIG_LICHEN_REMOVED\u001b[0m=\u001b[1;35mShapedArray\u001b[0m\u001b[1m(\u001b[0mint32\u001b[1m[\u001b[0m\u001b[1;36m1\u001b[0m\u001b[1m]\u001b[0m, \u001b[33mweak_type\u001b[0m=\u001b[3;92mTrue\u001b[0m\u001b[1m)\u001b[0m,\n",
       "                \u001b[33mSELF_DESTRUCT_COST\u001b[0m=\u001b[1;35mShapedArray\u001b[0m\u001b[1m(\u001b[0mint32\u001b[1m[\u001b[0m\u001b[1;36m1\u001b[0m\u001b[1m]\u001b[0m, \u001b[33mweak_type\u001b[0m=\u001b[3;92mTrue\u001b[0m\u001b[1m)\u001b[0m,\n",
       "                \u001b[33mRUBBLE_AFTER_DESTRUCTION\u001b[0m=\u001b[1;35mShapedArray\u001b[0m\u001b[1m(\u001b[0mint32\u001b[1m[\u001b[0m\u001b[1;36m1\u001b[0m\u001b[1m]\u001b[0m, \u001b[33mweak_type\u001b[0m=\u001b[3;92mTrue\u001b[0m\u001b[1m)\u001b[0m,\n",
       "                \u001b[33mACTION_QUEUE_POWER_COST\u001b[0m=\u001b[1;35mShapedArray\u001b[0m\u001b[1m(\u001b[0mint32\u001b[1m[\u001b[0m\u001b[1;36m1\u001b[0m\u001b[1m]\u001b[0m, \u001b[33mweak_type\u001b[0m=\u001b[3;92mTrue\u001b[0m\u001b[1m)\u001b[0m\n",
       "            \u001b[1m)\u001b[0m,\n",
       "            \u001b[1;35mUnitConfig\u001b[0m\u001b[1m(\u001b[0m\n",
       "                \u001b[33mMETAL_COST\u001b[0m=\u001b[1;35mShapedArray\u001b[0m\u001b[1m(\u001b[0mint32\u001b[1m[\u001b[0m\u001b[1;36m1\u001b[0m\u001b[1m]\u001b[0m, \u001b[33mweak_type\u001b[0m=\u001b[3;92mTrue\u001b[0m\u001b[1m)\u001b[0m,\n",
       "                \u001b[33mPOWER_COST\u001b[0m=\u001b[1;35mShapedArray\u001b[0m\u001b[1m(\u001b[0mint32\u001b[1m[\u001b[0m\u001b[1;36m1\u001b[0m\u001b[1m]\u001b[0m, \u001b[33mweak_type\u001b[0m=\u001b[3;92mTrue\u001b[0m\u001b[1m)\u001b[0m,\n",
       "                \u001b[33mCARGO_SPACE\u001b[0m=\u001b[1;35mShapedArray\u001b[0m\u001b[1m(\u001b[0mint32\u001b[1m[\u001b[0m\u001b[1;36m1\u001b[0m\u001b[1m]\u001b[0m, \u001b[33mweak_type\u001b[0m=\u001b[3;92mTrue\u001b[0m\u001b[1m)\u001b[0m,\n",
       "                \u001b[33mBATTERY_CAPACITY\u001b[0m=\u001b[1;35mShapedArray\u001b[0m\u001b[1m(\u001b[0mint32\u001b[1m[\u001b[0m\u001b[1;36m1\u001b[0m\u001b[1m]\u001b[0m, \u001b[33mweak_type\u001b[0m=\u001b[3;92mTrue\u001b[0m\u001b[1m)\u001b[0m,\n",
       "                \u001b[33mCHARGE\u001b[0m=\u001b[1;35mShapedArray\u001b[0m\u001b[1m(\u001b[0mint32\u001b[1m[\u001b[0m\u001b[1;36m1\u001b[0m\u001b[1m]\u001b[0m, \u001b[33mweak_type\u001b[0m=\u001b[3;92mTrue\u001b[0m\u001b[1m)\u001b[0m,\n",
       "                \u001b[33mINIT_POWER\u001b[0m=\u001b[1;35mShapedArray\u001b[0m\u001b[1m(\u001b[0mint32\u001b[1m[\u001b[0m\u001b[1;36m1\u001b[0m\u001b[1m]\u001b[0m, \u001b[33mweak_type\u001b[0m=\u001b[3;92mTrue\u001b[0m\u001b[1m)\u001b[0m,\n",
       "                \u001b[33mMOVE_COST\u001b[0m=\u001b[1;35mShapedArray\u001b[0m\u001b[1m(\u001b[0mint32\u001b[1m[\u001b[0m\u001b[1;36m1\u001b[0m\u001b[1m]\u001b[0m, \u001b[33mweak_type\u001b[0m=\u001b[3;92mTrue\u001b[0m\u001b[1m)\u001b[0m,\n",
       "                \u001b[33mRUBBLE_MOVEMENT_COST\u001b[0m=\u001b[1;35mShapedArray\u001b[0m\u001b[1m(\u001b[0mint32\u001b[1m[\u001b[0m\u001b[1;36m1\u001b[0m\u001b[1m]\u001b[0m, \u001b[33mweak_type\u001b[0m=\u001b[3;92mTrue\u001b[0m\u001b[1m)\u001b[0m,\n",
       "                \u001b[33mDIG_COST\u001b[0m=\u001b[1;35mShapedArray\u001b[0m\u001b[1m(\u001b[0mint32\u001b[1m[\u001b[0m\u001b[1;36m1\u001b[0m\u001b[1m]\u001b[0m, \u001b[33mweak_type\u001b[0m=\u001b[3;92mTrue\u001b[0m\u001b[1m)\u001b[0m,\n",
       "                \u001b[33mDIG_RUBBLE_REMOVED\u001b[0m=\u001b[1;35mShapedArray\u001b[0m\u001b[1m(\u001b[0mint32\u001b[1m[\u001b[0m\u001b[1;36m1\u001b[0m\u001b[1m]\u001b[0m, \u001b[33mweak_type\u001b[0m=\u001b[3;92mTrue\u001b[0m\u001b[1m)\u001b[0m,\n",
       "                \u001b[33mDIG_RESOURCE_GAIN\u001b[0m=\u001b[1;35mShapedArray\u001b[0m\u001b[1m(\u001b[0mint32\u001b[1m[\u001b[0m\u001b[1;36m1\u001b[0m\u001b[1m]\u001b[0m, \u001b[33mweak_type\u001b[0m=\u001b[3;92mTrue\u001b[0m\u001b[1m)\u001b[0m,\n",
       "                \u001b[33mDIG_LICHEN_REMOVED\u001b[0m=\u001b[1;35mShapedArray\u001b[0m\u001b[1m(\u001b[0mint32\u001b[1m[\u001b[0m\u001b[1;36m1\u001b[0m\u001b[1m]\u001b[0m, \u001b[33mweak_type\u001b[0m=\u001b[3;92mTrue\u001b[0m\u001b[1m)\u001b[0m,\n",
       "                \u001b[33mSELF_DESTRUCT_COST\u001b[0m=\u001b[1;35mShapedArray\u001b[0m\u001b[1m(\u001b[0mint32\u001b[1m[\u001b[0m\u001b[1;36m1\u001b[0m\u001b[1m]\u001b[0m, \u001b[33mweak_type\u001b[0m=\u001b[3;92mTrue\u001b[0m\u001b[1m)\u001b[0m,\n",
       "                \u001b[33mRUBBLE_AFTER_DESTRUCTION\u001b[0m=\u001b[1;35mShapedArray\u001b[0m\u001b[1m(\u001b[0mint32\u001b[1m[\u001b[0m\u001b[1;36m1\u001b[0m\u001b[1m]\u001b[0m, \u001b[33mweak_type\u001b[0m=\u001b[3;92mTrue\u001b[0m\u001b[1m)\u001b[0m,\n",
       "                \u001b[33mACTION_QUEUE_POWER_COST\u001b[0m=\u001b[1;35mShapedArray\u001b[0m\u001b[1m(\u001b[0mint32\u001b[1m[\u001b[0m\u001b[1;36m1\u001b[0m\u001b[1m]\u001b[0m, \u001b[33mweak_type\u001b[0m=\u001b[3;92mTrue\u001b[0m\u001b[1m)\u001b[0m\n",
       "            \u001b[1m)\u001b[0m\n",
       "        \u001b[1m)\u001b[0m\n",
       "    \u001b[1m)\u001b[0m,\n",
       "    \u001b[33mseed\u001b[0m=\u001b[1;35mShapedArray\u001b[0m\u001b[1m(\u001b[0muint32\u001b[1m[\u001b[0m\u001b[1;36m1\u001b[0m\u001b[1m]\u001b[0m\u001b[1m)\u001b[0m,\n",
       "    \u001b[33mrng_state\u001b[0m=\u001b[1;35mShapedArray\u001b[0m\u001b[1m(\u001b[0muint32\u001b[1m[\u001b[0m\u001b[1;36m1\u001b[0m,\u001b[1;36m2\u001b[0m\u001b[1m]\u001b[0m\u001b[1m)\u001b[0m,\n",
       "    \u001b[33menv_steps\u001b[0m=\u001b[1;35mShapedArray\u001b[0m\u001b[1m(\u001b[0mint16\u001b[1m[\u001b[0m\u001b[1;36m1\u001b[0m\u001b[1m]\u001b[0m\u001b[1m)\u001b[0m,\n",
       "    \u001b[33mboard\u001b[0m=\u001b[1;35mBoard\u001b[0m\u001b[1m(\u001b[0m\n",
       "        \u001b[33mseed\u001b[0m=\u001b[1;35mShapedArray\u001b[0m\u001b[1m(\u001b[0mint32\u001b[1m[\u001b[0m\u001b[1;36m1\u001b[0m\u001b[1m]\u001b[0m\u001b[1m)\u001b[0m,\n",
       "        \u001b[33mfactories_per_team\u001b[0m=\u001b[1;35mShapedArray\u001b[0m\u001b[1m(\u001b[0mint8\u001b[1m[\u001b[0m\u001b[1;36m1\u001b[0m\u001b[1m]\u001b[0m\u001b[1m)\u001b[0m,\n",
       "        \u001b[33mmap\u001b[0m=\u001b[1;35mGameMap\u001b[0m\u001b[1m(\u001b[0m\n",
       "            \u001b[33mrubble\u001b[0m=\u001b[1;35mShapedArray\u001b[0m\u001b[1m(\u001b[0mint8\u001b[1m[\u001b[0m\u001b[1;36m1\u001b[0m,\u001b[1;36m64\u001b[0m,\u001b[1;36m64\u001b[0m\u001b[1m]\u001b[0m\u001b[1m)\u001b[0m,\n",
       "            \u001b[33mice\u001b[0m=\u001b[1;35mShapedArray\u001b[0m\u001b[1m(\u001b[0mbool\u001b[1m[\u001b[0m\u001b[1;36m1\u001b[0m,\u001b[1;36m64\u001b[0m,\u001b[1;36m64\u001b[0m\u001b[1m]\u001b[0m\u001b[1m)\u001b[0m,\n",
       "            \u001b[33more\u001b[0m=\u001b[1;35mShapedArray\u001b[0m\u001b[1m(\u001b[0mbool\u001b[1m[\u001b[0m\u001b[1;36m1\u001b[0m,\u001b[1;36m64\u001b[0m,\u001b[1;36m64\u001b[0m\u001b[1m]\u001b[0m\u001b[1m)\u001b[0m,\n",
       "            \u001b[33msymmetry\u001b[0m=\u001b[1;35mShapedArray\u001b[0m\u001b[1m(\u001b[0mint8\u001b[1m[\u001b[0m\u001b[1;36m1\u001b[0m\u001b[1m]\u001b[0m\u001b[1m)\u001b[0m\n",
       "        \u001b[1m)\u001b[0m,\n",
       "        \u001b[33mlichen\u001b[0m=\u001b[1;35mShapedArray\u001b[0m\u001b[1m(\u001b[0mint32\u001b[1m[\u001b[0m\u001b[1;36m1\u001b[0m,\u001b[1;36m64\u001b[0m,\u001b[1;36m64\u001b[0m\u001b[1m]\u001b[0m\u001b[1m)\u001b[0m,\n",
       "        \u001b[33mlichen_strains\u001b[0m=\u001b[1;35mShapedArray\u001b[0m\u001b[1m(\u001b[0mint8\u001b[1m[\u001b[0m\u001b[1;36m1\u001b[0m,\u001b[1;36m64\u001b[0m,\u001b[1;36m64\u001b[0m\u001b[1m]\u001b[0m\u001b[1m)\u001b[0m,\n",
       "        \u001b[33munits_map\u001b[0m=\u001b[1;35mShapedArray\u001b[0m\u001b[1m(\u001b[0mint16\u001b[1m[\u001b[0m\u001b[1;36m1\u001b[0m,\u001b[1;36m64\u001b[0m,\u001b[1;36m64\u001b[0m\u001b[1m]\u001b[0m\u001b[1m)\u001b[0m,\n",
       "        \u001b[33mfactory_map\u001b[0m=\u001b[1;35mShapedArray\u001b[0m\u001b[1m(\u001b[0mint8\u001b[1m[\u001b[0m\u001b[1;36m1\u001b[0m,\u001b[1;36m64\u001b[0m,\u001b[1;36m64\u001b[0m\u001b[1m]\u001b[0m\u001b[1m)\u001b[0m,\n",
       "        \u001b[33mfactory_occupancy_map\u001b[0m=\u001b[1;35mShapedArray\u001b[0m\u001b[1m(\u001b[0mint8\u001b[1m[\u001b[0m\u001b[1;36m1\u001b[0m,\u001b[1;36m64\u001b[0m,\u001b[1;36m64\u001b[0m\u001b[1m]\u001b[0m\u001b[1m)\u001b[0m,\n",
       "        \u001b[33mfactory_pos\u001b[0m=\u001b[1;35mShapedArray\u001b[0m\u001b[1m(\u001b[0mint8\u001b[1m[\u001b[0m\u001b[1;36m1\u001b[0m,\u001b[1;36m22\u001b[0m,\u001b[1;36m2\u001b[0m\u001b[1m]\u001b[0m\u001b[1m)\u001b[0m\n",
       "    \u001b[1m)\u001b[0m,\n",
       "    \u001b[33munits\u001b[0m=\u001b[1;35mUnit\u001b[0m\u001b[1m(\u001b[0m\n",
       "        \u001b[33munit_type\u001b[0m=\u001b[1;35mShapedArray\u001b[0m\u001b[1m(\u001b[0mint8\u001b[1m[\u001b[0m\u001b[1;36m1\u001b[0m,\u001b[1;36m2\u001b[0m,\u001b[1;36m200\u001b[0m\u001b[1m]\u001b[0m\u001b[1m)\u001b[0m,\n",
       "        \u001b[33maction_queue\u001b[0m=\u001b[1;35mActionQueue\u001b[0m\u001b[1m(\u001b[0m\n",
       "            \u001b[33mdata\u001b[0m=\u001b[1;35mUnitAction\u001b[0m\u001b[1m(\u001b[0m\n",
       "                \u001b[33maction_type\u001b[0m=\u001b[1;35mShapedArray\u001b[0m\u001b[1m(\u001b[0mint8\u001b[1m[\u001b[0m\u001b[1;36m1\u001b[0m,\u001b[1;36m2\u001b[0m,\u001b[1;36m200\u001b[0m,\u001b[1;36m20\u001b[0m\u001b[1m]\u001b[0m\u001b[1m)\u001b[0m,\n",
       "                \u001b[33mdirection\u001b[0m=\u001b[1;35mShapedArray\u001b[0m\u001b[1m(\u001b[0mint8\u001b[1m[\u001b[0m\u001b[1;36m1\u001b[0m,\u001b[1;36m2\u001b[0m,\u001b[1;36m200\u001b[0m,\u001b[1;36m20\u001b[0m\u001b[1m]\u001b[0m\u001b[1m)\u001b[0m,\n",
       "                \u001b[33mresource_type\u001b[0m=\u001b[1;35mShapedArray\u001b[0m\u001b[1m(\u001b[0mint8\u001b[1m[\u001b[0m\u001b[1;36m1\u001b[0m,\u001b[1;36m2\u001b[0m,\u001b[1;36m200\u001b[0m,\u001b[1;36m20\u001b[0m\u001b[1m]\u001b[0m\u001b[1m)\u001b[0m,\n",
       "                \u001b[33mamount\u001b[0m=\u001b[1;35mShapedArray\u001b[0m\u001b[1m(\u001b[0mint16\u001b[1m[\u001b[0m\u001b[1;36m1\u001b[0m,\u001b[1;36m2\u001b[0m,\u001b[1;36m200\u001b[0m,\u001b[1;36m20\u001b[0m\u001b[1m]\u001b[0m\u001b[1m)\u001b[0m,\n",
       "                \u001b[33mrepeat\u001b[0m=\u001b[1;35mShapedArray\u001b[0m\u001b[1m(\u001b[0mint16\u001b[1m[\u001b[0m\u001b[1;36m1\u001b[0m,\u001b[1;36m2\u001b[0m,\u001b[1;36m200\u001b[0m,\u001b[1;36m20\u001b[0m\u001b[1m]\u001b[0m\u001b[1m)\u001b[0m,\n",
       "                \u001b[33mn\u001b[0m=\u001b[1;35mShapedArray\u001b[0m\u001b[1m(\u001b[0mint16\u001b[1m[\u001b[0m\u001b[1;36m1\u001b[0m,\u001b[1;36m2\u001b[0m,\u001b[1;36m200\u001b[0m,\u001b[1;36m20\u001b[0m\u001b[1m]\u001b[0m\u001b[1m)\u001b[0m\n",
       "            \u001b[1m)\u001b[0m,\n",
       "            \u001b[33mfront\u001b[0m=\u001b[1;35mShapedArray\u001b[0m\u001b[1m(\u001b[0mint8\u001b[1m[\u001b[0m\u001b[1;36m1\u001b[0m,\u001b[1;36m2\u001b[0m,\u001b[1;36m200\u001b[0m\u001b[1m]\u001b[0m\u001b[1m)\u001b[0m,\n",
       "            \u001b[33mrear\u001b[0m=\u001b[1;35mShapedArray\u001b[0m\u001b[1m(\u001b[0mint8\u001b[1m[\u001b[0m\u001b[1;36m1\u001b[0m,\u001b[1;36m2\u001b[0m,\u001b[1;36m200\u001b[0m\u001b[1m]\u001b[0m\u001b[1m)\u001b[0m,\n",
       "            \u001b[33mcount\u001b[0m=\u001b[1;35mShapedArray\u001b[0m\u001b[1m(\u001b[0mint8\u001b[1m[\u001b[0m\u001b[1;36m1\u001b[0m,\u001b[1;36m2\u001b[0m,\u001b[1;36m200\u001b[0m\u001b[1m]\u001b[0m\u001b[1m)\u001b[0m\n",
       "        \u001b[1m)\u001b[0m,\n",
       "        \u001b[33mteam_id\u001b[0m=\u001b[1;35mShapedArray\u001b[0m\u001b[1m(\u001b[0mint8\u001b[1m[\u001b[0m\u001b[1;36m1\u001b[0m,\u001b[1;36m2\u001b[0m,\u001b[1;36m200\u001b[0m\u001b[1m]\u001b[0m\u001b[1m)\u001b[0m,\n",
       "        \u001b[33munit_id\u001b[0m=\u001b[1;35mShapedArray\u001b[0m\u001b[1m(\u001b[0mint16\u001b[1m[\u001b[0m\u001b[1;36m1\u001b[0m,\u001b[1;36m2\u001b[0m,\u001b[1;36m200\u001b[0m\u001b[1m]\u001b[0m\u001b[1m)\u001b[0m,\n",
       "        \u001b[33mpos\u001b[0m=\u001b[1;35mPosition\u001b[0m\u001b[1m(\u001b[0m\u001b[33mpos\u001b[0m=\u001b[1;35mShapedArray\u001b[0m\u001b[1m(\u001b[0mint8\u001b[1m[\u001b[0m\u001b[1;36m1\u001b[0m,\u001b[1;36m2\u001b[0m,\u001b[1;36m200\u001b[0m,\u001b[1;36m2\u001b[0m\u001b[1m]\u001b[0m\u001b[1m)\u001b[0m\u001b[1m)\u001b[0m,\n",
       "        \u001b[33mcargo\u001b[0m=\u001b[1;35mUnitCargo\u001b[0m\u001b[1m(\u001b[0m\u001b[33mstock\u001b[0m=\u001b[1;35mShapedArray\u001b[0m\u001b[1m(\u001b[0mint32\u001b[1m[\u001b[0m\u001b[1;36m1\u001b[0m,\u001b[1;36m2\u001b[0m,\u001b[1;36m200\u001b[0m,\u001b[1;36m4\u001b[0m\u001b[1m]\u001b[0m\u001b[1m)\u001b[0m\u001b[1m)\u001b[0m,\n",
       "        \u001b[33mpower\u001b[0m=\u001b[1;35mShapedArray\u001b[0m\u001b[1m(\u001b[0mint32\u001b[1m[\u001b[0m\u001b[1;36m1\u001b[0m,\u001b[1;36m2\u001b[0m,\u001b[1;36m200\u001b[0m\u001b[1m]\u001b[0m\u001b[1m)\u001b[0m\n",
       "    \u001b[1m)\u001b[0m,\n",
       "    \u001b[33munit_id2idx\u001b[0m=\u001b[1;35mShapedArray\u001b[0m\u001b[1m(\u001b[0mint16\u001b[1m[\u001b[0m\u001b[1;36m1\u001b[0m,\u001b[1;36m2000\u001b[0m,\u001b[1;36m2\u001b[0m\u001b[1m]\u001b[0m\u001b[1m)\u001b[0m,\n",
       "    \u001b[33mn_units\u001b[0m=\u001b[1;35mShapedArray\u001b[0m\u001b[1m(\u001b[0mint16\u001b[1m[\u001b[0m\u001b[1;36m1\u001b[0m,\u001b[1;36m2\u001b[0m\u001b[1m]\u001b[0m\u001b[1m)\u001b[0m,\n",
       "    \u001b[33mfactories\u001b[0m=\u001b[1;35mFactory\u001b[0m\u001b[1m(\u001b[0m\n",
       "        \u001b[33mteam_id\u001b[0m=\u001b[1;35mShapedArray\u001b[0m\u001b[1m(\u001b[0mint8\u001b[1m[\u001b[0m\u001b[1;36m1\u001b[0m,\u001b[1;36m2\u001b[0m,\u001b[1;36m11\u001b[0m\u001b[1m]\u001b[0m\u001b[1m)\u001b[0m,\n",
       "        \u001b[33munit_id\u001b[0m=\u001b[1;35mShapedArray\u001b[0m\u001b[1m(\u001b[0mint8\u001b[1m[\u001b[0m\u001b[1;36m1\u001b[0m,\u001b[1;36m2\u001b[0m,\u001b[1;36m11\u001b[0m\u001b[1m]\u001b[0m\u001b[1m)\u001b[0m,\n",
       "        \u001b[33mpos\u001b[0m=\u001b[1;35mPosition\u001b[0m\u001b[1m(\u001b[0m\u001b[33mpos\u001b[0m=\u001b[1;35mShapedArray\u001b[0m\u001b[1m(\u001b[0mint8\u001b[1m[\u001b[0m\u001b[1;36m1\u001b[0m,\u001b[1;36m2\u001b[0m,\u001b[1;36m11\u001b[0m,\u001b[1;36m2\u001b[0m\u001b[1m]\u001b[0m\u001b[1m)\u001b[0m\u001b[1m)\u001b[0m,\n",
       "        \u001b[33mpower\u001b[0m=\u001b[1;35mShapedArray\u001b[0m\u001b[1m(\u001b[0mint32\u001b[1m[\u001b[0m\u001b[1;36m1\u001b[0m,\u001b[1;36m2\u001b[0m,\u001b[1;36m11\u001b[0m\u001b[1m]\u001b[0m\u001b[1m)\u001b[0m,\n",
       "        \u001b[33mcargo\u001b[0m=\u001b[1;35mUnitCargo\u001b[0m\u001b[1m(\u001b[0m\u001b[33mstock\u001b[0m=\u001b[1;35mShapedArray\u001b[0m\u001b[1m(\u001b[0mint32\u001b[1m[\u001b[0m\u001b[1;36m1\u001b[0m,\u001b[1;36m2\u001b[0m,\u001b[1;36m11\u001b[0m,\u001b[1;36m4\u001b[0m\u001b[1m]\u001b[0m\u001b[1m)\u001b[0m\u001b[1m)\u001b[0m\n",
       "    \u001b[1m)\u001b[0m,\n",
       "    \u001b[33mfactory_id2idx\u001b[0m=\u001b[1;35mShapedArray\u001b[0m\u001b[1m(\u001b[0mint8\u001b[1m[\u001b[0m\u001b[1;36m1\u001b[0m,\u001b[1;36m22\u001b[0m,\u001b[1;36m2\u001b[0m\u001b[1m]\u001b[0m\u001b[1m)\u001b[0m,\n",
       "    \u001b[33mn_factories\u001b[0m=\u001b[1;35mShapedArray\u001b[0m\u001b[1m(\u001b[0mint8\u001b[1m[\u001b[0m\u001b[1;36m1\u001b[0m,\u001b[1;36m2\u001b[0m\u001b[1m]\u001b[0m\u001b[1m)\u001b[0m,\n",
       "    \u001b[33mteams\u001b[0m=\u001b[1;35mTeam\u001b[0m\u001b[1m(\u001b[0m\n",
       "        \u001b[33mteam_id\u001b[0m=\u001b[1;35mShapedArray\u001b[0m\u001b[1m(\u001b[0mint8\u001b[1m[\u001b[0m\u001b[1;36m1\u001b[0m,\u001b[1;36m2\u001b[0m\u001b[1m]\u001b[0m\u001b[1m)\u001b[0m,\n",
       "        \u001b[33mfaction\u001b[0m=\u001b[1;35mShapedArray\u001b[0m\u001b[1m(\u001b[0mint8\u001b[1m[\u001b[0m\u001b[1;36m1\u001b[0m,\u001b[1;36m2\u001b[0m\u001b[1m]\u001b[0m\u001b[1m)\u001b[0m,\n",
       "        \u001b[33minit_water\u001b[0m=\u001b[1;35mShapedArray\u001b[0m\u001b[1m(\u001b[0mint32\u001b[1m[\u001b[0m\u001b[1;36m1\u001b[0m,\u001b[1;36m2\u001b[0m\u001b[1m]\u001b[0m\u001b[1m)\u001b[0m,\n",
       "        \u001b[33minit_metal\u001b[0m=\u001b[1;35mShapedArray\u001b[0m\u001b[1m(\u001b[0mint32\u001b[1m[\u001b[0m\u001b[1;36m1\u001b[0m,\u001b[1;36m2\u001b[0m\u001b[1m]\u001b[0m\u001b[1m)\u001b[0m,\n",
       "        \u001b[33mfactories_to_place\u001b[0m=\u001b[1;35mShapedArray\u001b[0m\u001b[1m(\u001b[0mint32\u001b[1m[\u001b[0m\u001b[1;36m1\u001b[0m,\u001b[1;36m2\u001b[0m\u001b[1m]\u001b[0m\u001b[1m)\u001b[0m,\n",
       "        \u001b[33mfactory_strains\u001b[0m=\u001b[1;35mShapedArray\u001b[0m\u001b[1m(\u001b[0mint8\u001b[1m[\u001b[0m\u001b[1;36m1\u001b[0m,\u001b[1;36m2\u001b[0m,\u001b[1;36m11\u001b[0m\u001b[1m]\u001b[0m\u001b[1m)\u001b[0m,\n",
       "        \u001b[33mn_factory\u001b[0m=\u001b[1;35mShapedArray\u001b[0m\u001b[1m(\u001b[0mint8\u001b[1m[\u001b[0m\u001b[1;36m1\u001b[0m,\u001b[1;36m2\u001b[0m\u001b[1m]\u001b[0m\u001b[1m)\u001b[0m,\n",
       "        \u001b[33mbid\u001b[0m=\u001b[1;35mShapedArray\u001b[0m\u001b[1m(\u001b[0mint32\u001b[1m[\u001b[0m\u001b[1;36m1\u001b[0m,\u001b[1;36m2\u001b[0m\u001b[1m]\u001b[0m\u001b[1m)\u001b[0m\n",
       "    \u001b[1m)\u001b[0m,\n",
       "    \u001b[33mglobal_id\u001b[0m=\u001b[1;35mShapedArray\u001b[0m\u001b[1m(\u001b[0mint16\u001b[1m[\u001b[0m\u001b[1;36m1\u001b[0m\u001b[1m]\u001b[0m\u001b[1m)\u001b[0m,\n",
       "    \u001b[33mplace_first\u001b[0m=\u001b[1;35mShapedArray\u001b[0m\u001b[1m(\u001b[0mint8\u001b[1m[\u001b[0m\u001b[1;36m1\u001b[0m\u001b[1m]\u001b[0m\u001b[1m)\u001b[0m\n",
       "\u001b[1m)\u001b[0m\n"
      ]
     },
     "metadata": {},
     "output_type": "display_data"
    }
   ],
   "source": [
    "\n"
   ]
  },
  {
   "cell_type": "code",
   "execution_count": 4,
   "metadata": {},
   "outputs": [
    {
     "ename": "TypeError",
     "evalue": "get_unit_feature() takes 1 positional argument but 5 were given",
     "output_type": "error",
     "traceback": [
      "\u001b[0;31m---------------------------------------------------------------------------\u001b[0m",
      "\u001b[0;31mTypeError\u001b[0m                                 Traceback (most recent call last)",
      "\u001b[1;32m/workspaces/LuX-AI-Season-2/src/process_input.ipynb 셀 7\u001b[0m line \u001b[0;36m2\n\u001b[1;32m      <a href='vscode-notebook-cell://codespaces%2Bpotential-space-succotash-4jwgq44pqfq7wv/workspaces/LuX-AI-Season-2/src/process_input.ipynb#W6sdnNjb2RlLXJlbW90ZQ%3D%3D?line=0'>1</a>\u001b[0m reload(pp)\n\u001b[0;32m----> <a href='vscode-notebook-cell://codespaces%2Bpotential-space-succotash-4jwgq44pqfq7wv/workspaces/LuX-AI-Season-2/src/process_input.ipynb#W6sdnNjb2RlLXJlbW90ZQ%3D%3D?line=1'>2</a>\u001b[0m unit_feature \u001b[39m=\u001b[39m pp\u001b[39m.\u001b[39;49mget_unit_feature(state\u001b[39m.\u001b[39;49munit_mask, state\u001b[39m.\u001b[39;49munits\u001b[39m.\u001b[39;49munit_type, state\u001b[39m.\u001b[39;49munits\u001b[39m.\u001b[39;49mcargo\u001b[39m.\u001b[39;49mstock, state\u001b[39m.\u001b[39;49munits\u001b[39m.\u001b[39;49mpower, state\u001b[39m.\u001b[39;49munits\u001b[39m.\u001b[39;49mpos)\n",
      "\u001b[0;31mTypeError\u001b[0m: get_unit_feature() takes 1 positional argument but 5 were given"
     ]
    }
   ],
   "source": [
    "reload(pp)\n",
    "unit_feature = pp.get_unit_feature(state.unit_mask, state.units.unit_type, state.units.cargo.stock, state.units.power, state.units.pos)"
   ]
  },
  {
   "cell_type": "code",
   "execution_count": 35,
   "metadata": {},
   "outputs": [
    {
     "name": "stdout",
     "output_type": "stream",
     "text": [
      "1.44 ms ± 347 µs per loop (mean ± std. dev. of 7 runs, 1,000 loops each)\n"
     ]
    }
   ],
   "source": [
    "# Without for loop\n",
    "reload(pp)\n",
    "pp.get_unit_feature(state.unit_mask, state.units.unit_type, state.units.cargo.stock, state.units.power, state.units.pos)\n",
    "\n",
    "%timeit pp.get_unit_feature(state.unit_mask, state.units.unit_type, state.units.cargo.stock, state.units.power, state.units.pos)"
   ]
  },
  {
   "cell_type": "code",
   "execution_count": 40,
   "metadata": {},
   "outputs": [
    {
     "name": "stdout",
     "output_type": "stream",
     "text": [
      "2.44 ms ± 506 µs per loop (mean ± std. dev. of 7 runs, 100 loops each)\n"
     ]
    }
   ],
   "source": [
    "# Without for loop (x, y precalculated)\n",
    "reload(pp)\n",
    "pp.get_unit_feature(state.unit_mask, state.units.unit_type, state.units.cargo.stock, state.units.power, state.units.pos.x, state.units.pos.y)\n",
    "\n",
    "%timeit pp.get_unit_feature(state.unit_mask, state.units.unit_type, state.units.cargo.stock, state.units.power, state.units.pos.x, state.units.pos.y)"
   ]
  },
  {
   "cell_type": "code",
   "execution_count": 59,
   "metadata": {},
   "outputs": [
    {
     "name": "stdout",
     "output_type": "stream",
     "text": [
      "1.17 ms ± 119 µs per loop (mean ± std. dev. of 7 runs, 1,000 loops each)\n"
     ]
    }
   ],
   "source": [
    "# With for loop (static)\n",
    "reload(pp)\n",
    "pp.get_unit_feature(state.unit_mask, state.units.unit_type, state.units.cargo.stock, state.units.power, state.units.pos)\n",
    "\n",
    "%timeit pp.get_unit_feature(state.unit_mask, state.units.unit_type, state.units.cargo.stock, state.units.power, state.units.pos)"
   ]
  },
  {
   "cell_type": "code",
   "execution_count": 60,
   "metadata": {},
   "outputs": [
    {
     "name": "stdout",
     "output_type": "stream",
     "text": [
      "1.05 ms ± 53.3 µs per loop (mean ± std. dev. of 7 runs, 1,000 loops each)\n"
     ]
    }
   ],
   "source": [
    "# With for loop (no vmap on feature dim)\n",
    "reload(pp)\n",
    "pp.get_unit_feature(state.unit_mask, state.units.unit_type, state.units.cargo.stock, state.units.power, state.units.pos)\n",
    "\n",
    "%timeit pp.get_unit_feature(state.unit_mask, state.units.unit_type, state.units.cargo.stock, state.units.power, state.units.pos)"
   ]
  },
  {
   "cell_type": "code",
   "execution_count": 4,
   "metadata": {},
   "outputs": [
    {
     "name": "stdout",
     "output_type": "stream",
     "text": [
      "58.6 µs ± 5.65 µs per loop (mean ± std. dev. of 7 runs, 10,000 loops each)\n"
     ]
    }
   ],
   "source": [
    "# pass state as whole\n",
    "reload(pp)\n",
    "pp.get_unit_feature(state)\n",
    "\n",
    "%timeit pp.get_unit_feature(state)"
   ]
  },
  {
   "cell_type": "code",
   "execution_count": 65,
   "metadata": {},
   "outputs": [
    {
     "name": "stdout",
     "output_type": "stream",
     "text": [
      "93.6 ms ± 4.42 ms per loop (mean ± std. dev. of 7 runs, 10 loops each)\n"
     ]
    }
   ],
   "source": [
    "# jit-less\n",
    "reload(pp)\n",
    "pp.get_unit_feature(state.unit_mask, state.units.unit_type, state.units.cargo.stock, state.units.power, state.units.pos)\n",
    "\n",
    "%timeit pp.get_unit_feature(state.unit_mask, state.units.unit_type, state.units.cargo.stock, state.units.power, state.units.pos)"
   ]
  },
  {
   "cell_type": "code",
   "execution_count": 7,
   "metadata": {},
   "outputs": [
    {
     "data": {
      "text/plain": [
       "(64, 64, 24)"
      ]
     },
     "execution_count": 7,
     "metadata": {},
     "output_type": "execute_result"
    }
   ],
   "source": [
    "reload(pp)\n",
    "pp.get_unit_feature(state).shape"
   ]
  },
  {
   "cell_type": "code",
   "execution_count": 8,
   "metadata": {},
   "outputs": [
    {
     "data": {
      "text/plain": [
       "(64, 64, 16)"
      ]
     },
     "execution_count": 8,
     "metadata": {},
     "output_type": "execute_result"
    }
   ],
   "source": [
    "reload(pp)\n",
    "pp.get_factory_feature(state).shape"
   ]
  },
  {
   "cell_type": "code",
   "execution_count": 9,
   "metadata": {},
   "outputs": [
    {
     "data": {
      "text/plain": [
       "(64, 64, 4)"
      ]
     },
     "execution_count": 9,
     "metadata": {},
     "output_type": "execute_result"
    }
   ],
   "source": [
    "reload(pp)\n",
    "pp.get_board_feature(state).shape"
   ]
  },
  {
   "cell_type": "code",
   "execution_count": 10,
   "metadata": {},
   "outputs": [
    {
     "data": {
      "text/plain": [
       "(73,)"
      ]
     },
     "execution_count": 10,
     "metadata": {},
     "output_type": "execute_result"
    }
   ],
   "source": [
    "reload(pp)\n",
    "pp.get_global_feature(state).shape"
   ]
  },
  {
   "cell_type": "code",
   "execution_count": 16,
   "metadata": {},
   "outputs": [
    {
     "data": {
      "text/plain": [
       "(64, 64, 117)"
      ]
     },
     "execution_count": 16,
     "metadata": {},
     "output_type": "execute_result"
    }
   ],
   "source": [
    "reload(pp)\n",
    "pp.get_feature(state).shape"
   ]
  },
  {
   "cell_type": "code",
   "execution_count": 11,
   "metadata": {},
   "outputs": [
    {
     "ename": "NameError",
     "evalue": "name 'unit_feature' is not defined",
     "output_type": "error",
     "traceback": [
      "\u001b[0;31m---------------------------------------------------------------------------\u001b[0m",
      "\u001b[0;31mNameError\u001b[0m                                 Traceback (most recent call last)",
      "\u001b[1;32m/workspaces/LuX-AI-Season-2/src/process_input.ipynb 셀 18\u001b[0m line \u001b[0;36m5\n\u001b[1;32m      <a href='vscode-notebook-cell://codespaces%2Bpotential-space-succotash-4jwgq44pqfq7wv/workspaces/LuX-AI-Season-2/src/process_input.ipynb#X23sdnNjb2RlLXJlbW90ZQ%3D%3D?line=2'>3</a>\u001b[0m \u001b[39mfor\u001b[39;00m i \u001b[39min\u001b[39;00m \u001b[39mrange\u001b[39m(\u001b[39m2\u001b[39m):\n\u001b[1;32m      <a href='vscode-notebook-cell://codespaces%2Bpotential-space-succotash-4jwgq44pqfq7wv/workspaces/LuX-AI-Season-2/src/process_input.ipynb#X23sdnNjb2RlLXJlbW90ZQ%3D%3D?line=3'>4</a>\u001b[0m     \u001b[39mfor\u001b[39;00m j \u001b[39min\u001b[39;00m \u001b[39mrange\u001b[39m(\u001b[39m12\u001b[39m):\n\u001b[0;32m----> <a href='vscode-notebook-cell://codespaces%2Bpotential-space-succotash-4jwgq44pqfq7wv/workspaces/LuX-AI-Season-2/src/process_input.ipynb#X23sdnNjb2RlLXJlbW90ZQ%3D%3D?line=4'>5</a>\u001b[0m         axes[i, j]\u001b[39m.\u001b[39mimshow(unit_feature[i, :, :, j], cmap\u001b[39m=\u001b[39m\u001b[39m'\u001b[39m\u001b[39mgray\u001b[39m\u001b[39m'\u001b[39m)\n\u001b[1;32m      <a href='vscode-notebook-cell://codespaces%2Bpotential-space-succotash-4jwgq44pqfq7wv/workspaces/LuX-AI-Season-2/src/process_input.ipynb#X23sdnNjb2RlLXJlbW90ZQ%3D%3D?line=5'>6</a>\u001b[0m         axes[i, j]\u001b[39m.\u001b[39mset_title(\u001b[39mf\u001b[39m\u001b[39m\"\u001b[39m\u001b[39mPlayer \u001b[39m\u001b[39m{\u001b[39;00mi\u001b[39m}\u001b[39;00m\u001b[39m, \u001b[39m\u001b[39m{\u001b[39;00mfeatures[j]\u001b[39m}\u001b[39;00m\u001b[39m\"\u001b[39m)\n\u001b[1;32m      <a href='vscode-notebook-cell://codespaces%2Bpotential-space-succotash-4jwgq44pqfq7wv/workspaces/LuX-AI-Season-2/src/process_input.ipynb#X23sdnNjb2RlLXJlbW90ZQ%3D%3D?line=6'>7</a>\u001b[0m fig\u001b[39m.\u001b[39msuptitle(\u001b[39m\"\u001b[39m\u001b[39mUnit Features\u001b[39m\u001b[39m\"\u001b[39m)\n",
      "\u001b[0;31mNameError\u001b[0m: name 'unit_feature' is not defined"
     ]
    },
    {
     "data": {
      "image/png": "[encoded data removed]",
      "text/plain": [
       "<Figure size 4800x800 with 24 Axes>"
      ]
     },
     "metadata": {},
     "output_type": "display_data"
    }
   ],
   "source": [
    "fig, axes = plt.subplots(2, 12, figsize=(48, 8))\n",
    "features = ['light_existence', 'heavy_existence', 'ice', 'ore', 'water', 'metal', 'power', 'ice_left', 'ore_left', 'water_left', 'metal_left', 'powerleft']\n",
    "for i in range(2):\n",
    "    for j in range(12):\n",
    "        axes[i, j].imshow(unit_feature[i, :, :, j], cmap='gray')\n",
    "        axes[i, j].set_title(f\"Player {i}, {features[j]}\")\n",
    "fig.suptitle(\"Unit Features\")\n",
    "plt.show()"
   ]
  },
  {
   "cell_type": "code",
   "execution_count": 62,
   "metadata": {},
   "outputs": [
    {
     "data": {
      "text/plain": [
       "Array([[[ -1,  -2,  -3,  -4,  -5],\n",
       "        [ -6,  -7,  -8,  -9, -10],\n",
       "        [ 10,  11,  12,  13,  14],\n",
       "        [ 15,  16,  17,  18,  19],\n",
       "        [ 20,  21,  22,  23,  24],\n",
       "        [ 25,  26,  27,  28,  29],\n",
       "        [ 30,  31,  32,  33,  34],\n",
       "        [ 35,  36,  37,  38,  39],\n",
       "        [ 40,  41,  42,  43,  44],\n",
       "        [ 45,  46,  47,  48,  49]],\n",
       "\n",
       "       [[ 50,  51,  52,  53,  54],\n",
       "        [ 55,  56,  57,  58,  59],\n",
       "        [ 60,  61,  62,  63,  64],\n",
       "        [ 65,  66,  67,  68,  69],\n",
       "        [ 70,  71,  72,  73,  74],\n",
       "        [ 75,  76,  77,  78,  79],\n",
       "        [ 80,  81,  82,  83,  84],\n",
       "        [ 85,  86,  87,  88,  89],\n",
       "        [ 90,  91,  92,  93,  94],\n",
       "        [ 95,  96,  97,  98,  99]],\n",
       "\n",
       "       [[100, 101, 102, 103, 104],\n",
       "        [105, 106, 107, 108, 109],\n",
       "        [110, 111, 112, 113, 114],\n",
       "        [115, 116, 117, 118, 119],\n",
       "        [120, 121, 122, 123, 124],\n",
       "        [125, 126, 127, 128, 129],\n",
       "        [130, 131, 132, 133, 134],\n",
       "        [135, 136, 137, 138, 139],\n",
       "        [140, 141, 142, 143, 144],\n",
       "        [145, 146, 147, 148, 149]],\n",
       "\n",
       "       [[150, 151, 152, 153, 154],\n",
       "        [155, 156, 157, 158, 159],\n",
       "        [160, 161, 162, 163, 164],\n",
       "        [165, 166, 167, 168, 169],\n",
       "        [170, 171, 172, 173, 174],\n",
       "        [175, 176, 177, 178, 179],\n",
       "        [180, 181, 182, 183, 184],\n",
       "        [185, 186, 187, 188, 189],\n",
       "        [190, 191, 192, 193, 194],\n",
       "        [195, 196, 197, 198, 199]],\n",
       "\n",
       "       [[200, 201, 202, 203, 204],\n",
       "        [205, 206, 207, 208, 209],\n",
       "        [210, 211, 212, 213, 214],\n",
       "        [215, 216, 217, 218, 219],\n",
       "        [220, 221, 222, 223, 224],\n",
       "        [225, 226, 227, 228, 229],\n",
       "        [230, 231, 232, 233, 234],\n",
       "        [235, 236, 237, 238, 239],\n",
       "        [240, 241, 242, 243, 244],\n",
       "        [245, 246, 247, 248, 249]],\n",
       "\n",
       "       [[250, 251, 252, 253, 254],\n",
       "        [255, 256, 257, 258, 259],\n",
       "        [260, 261, 262, 263, 264],\n",
       "        [265, 266, 267, 268, 269],\n",
       "        [270, 271, 272, 273, 274],\n",
       "        [275, 276, 277, 278, 279],\n",
       "        [280, 281, 282, 283, 284],\n",
       "        [285, 286, 287, 288, 289],\n",
       "        [290, 291, 292, 293, 294],\n",
       "        [295, 296, 297, 298, 299]],\n",
       "\n",
       "       [[300, 301, 302, 303, 304],\n",
       "        [305, 306, 307, 308, 309],\n",
       "        [310, 311, 312, 313, 314],\n",
       "        [315, 316, 317, 318, 319],\n",
       "        [320, 321, 322, 323, 324],\n",
       "        [325, 326, 327, 328, 329],\n",
       "        [330, 331, 332, 333, 334],\n",
       "        [335, 336, 337, 338, 339],\n",
       "        [340, 341, 342, 343, 344],\n",
       "        [345, 346, 347, 348, 349]],\n",
       "\n",
       "       [[350, 351, 352, 353, 354],\n",
       "        [355, 356, 357, 358, 359],\n",
       "        [360, 361, 362, 363, 364],\n",
       "        [365, 366, 367, 368, 369],\n",
       "        [370, 371, 372, 373, 374],\n",
       "        [375, 376, 377, 378, 379],\n",
       "        [380, 381, 382, 383, 384],\n",
       "        [385, 386, 387, 388, 389],\n",
       "        [390, 391, 392, 393, 394],\n",
       "        [395, 396, 397, 398, 399]],\n",
       "\n",
       "       [[400, 401, 402, 403, 404],\n",
       "        [405, 406, 407, 408, 409],\n",
       "        [410, 411, 412, 413, 414],\n",
       "        [415, 416, 417, 418, 419],\n",
       "        [420, 421, 422, 423, 424],\n",
       "        [425, 426, 427, 428, 429],\n",
       "        [430, 431, 432, 433, 434],\n",
       "        [435, 436, 437, 438, 439],\n",
       "        [440, 441, 442, 443, 444],\n",
       "        [445, 446, 447, 448, 449]],\n",
       "\n",
       "       [[450, 451, 452, 453, 454],\n",
       "        [455, 456, 457, 458, 459],\n",
       "        [460, 461, 462, 463, 464],\n",
       "        [465, 466, 467, 468, 469],\n",
       "        [470, 471, 472, 473, 474],\n",
       "        [475, 476, 477, 478, 479],\n",
       "        [480, 481, 482, 483, 484],\n",
       "        [485, 486, 487, 488, 489],\n",
       "        [490, 491, 492, 493, 494],\n",
       "        [495, 496, 497, 498, 499]]], dtype=int32)"
      ]
     },
     "execution_count": 62,
     "metadata": {},
     "output_type": "execute_result"
    }
   ],
   "source": [
    "a = jnp.arange(0, 10*10*5).reshape(10, 10, 5)\n",
    "b = jnp.array([\n",
    "    [0, 1],\n",
    "    [2, 5],\n",
    "    [2, 7],\n",
    "    [9, 6],\n",
    "    [32767, 32767],\n",
    "    [32767, 32767],\n",
    "    [32767, 32767],\n",
    "    [32767, 32767],\n",
    "    [32767, 32767],\n",
    "    [32767, 32767],\n",
    "], dtype=jnp.int16)\n",
    "a.at[b[0,0], [0,1]].set(jnp.array([\n",
    "    [-1, -2, -3, -4, -5], [-6, -7, -8, -9, -10],\n",
    "]))"
   ]
  },
  {
   "cell_type": "code",
   "execution_count": 22,
   "metadata": {},
   "outputs": [
    {
     "data": {
      "text/plain": [
       "ShapedArray(float32[64,64,4])"
      ]
     },
     "execution_count": 22,
     "metadata": {},
     "output_type": "execute_result"
    }
   ],
   "source": [
    "unit_map.aval"
   ]
  },
  {
   "cell_type": "markdown",
   "metadata": {},
   "source": [
    "#### Guarantees\n",
    "```python\n",
    "observations['player_0'] == observations['player_1'] == state\n",
    "dones['player_0'] == dones['player_1']\n",
    "infos['player_0'] == infos['player_1'] == {}\n",
    "```"
   ]
  },
  {
   "cell_type": "markdown",
   "metadata": {},
   "source": [
    "## Understanding the `State`\n",
    "\n",
    "`State` object is a nested `NamedTuple`, with all leaves being `jax.numpy.ndarray`. It has following fields. "
   ]
  },
  {
   "cell_type": "code",
   "execution_count": 14,
   "metadata": {},
   "outputs": [
    {
     "data": {
      "text/plain": [
       "('env_cfg',\n",
       " 'seed',\n",
       " 'rng_state',\n",
       " 'env_steps',\n",
       " 'board',\n",
       " 'units',\n",
       " 'unit_id2idx',\n",
       " 'n_units',\n",
       " 'factories',\n",
       " 'factory_id2idx',\n",
       " 'n_factories',\n",
       " 'teams',\n",
       " 'global_id',\n",
       " 'place_first')"
      ]
     },
     "execution_count": 14,
     "metadata": {},
     "output_type": "execute_result"
    }
   ],
   "source": [
    "state._fields"
   ]
  },
  {
   "cell_type": "markdown",
   "metadata": {},
   "source": [
    "### Board Information\n",
    "\n",
    "Information about the board, including rubble, ice, ore, and lichen, are stored in `state.board`."
   ]
  },
  {
   "cell_type": "code",
   "execution_count": 13,
   "metadata": {},
   "outputs": [
    {
     "data": {
      "text/html": [
       "<pre style=\"white-space:pre;overflow-x:auto;line-height:normal;font-family:Menlo,'DejaVu Sans Mono',consolas,'Courier New',monospace\"><span style=\"color: #800080; text-decoration-color: #800080; font-weight: bold\">Board</span><span style=\"font-weight: bold\">(</span>\n",
       "    <span style=\"color: #808000; text-decoration-color: #808000\">seed</span>=<span style=\"color: #800080; text-decoration-color: #800080; font-weight: bold\">ShapedArray</span><span style=\"font-weight: bold\">(</span>int32<span style=\"font-weight: bold\">[])</span>,\n",
       "    <span style=\"color: #808000; text-decoration-color: #808000\">factories_per_team</span>=<span style=\"color: #800080; text-decoration-color: #800080; font-weight: bold\">ShapedArray</span><span style=\"font-weight: bold\">(</span>int8<span style=\"font-weight: bold\">[])</span>,\n",
       "    <span style=\"color: #808000; text-decoration-color: #808000\">map</span>=<span style=\"color: #800080; text-decoration-color: #800080; font-weight: bold\">GameMap</span><span style=\"font-weight: bold\">(</span>\n",
       "        <span style=\"color: #808000; text-decoration-color: #808000\">rubble</span>=<span style=\"color: #800080; text-decoration-color: #800080; font-weight: bold\">ShapedArray</span><span style=\"font-weight: bold\">(</span>int8<span style=\"font-weight: bold\">[</span><span style=\"color: #008080; text-decoration-color: #008080; font-weight: bold\">48</span>,<span style=\"color: #008080; text-decoration-color: #008080; font-weight: bold\">48</span><span style=\"font-weight: bold\">])</span>,\n",
       "        <span style=\"color: #808000; text-decoration-color: #808000\">ice</span>=<span style=\"color: #800080; text-decoration-color: #800080; font-weight: bold\">ShapedArray</span><span style=\"font-weight: bold\">(</span>bool<span style=\"font-weight: bold\">[</span><span style=\"color: #008080; text-decoration-color: #008080; font-weight: bold\">48</span>,<span style=\"color: #008080; text-decoration-color: #008080; font-weight: bold\">48</span><span style=\"font-weight: bold\">])</span>,\n",
       "        <span style=\"color: #808000; text-decoration-color: #808000\">ore</span>=<span style=\"color: #800080; text-decoration-color: #800080; font-weight: bold\">ShapedArray</span><span style=\"font-weight: bold\">(</span>bool<span style=\"font-weight: bold\">[</span><span style=\"color: #008080; text-decoration-color: #008080; font-weight: bold\">48</span>,<span style=\"color: #008080; text-decoration-color: #008080; font-weight: bold\">48</span><span style=\"font-weight: bold\">])</span>,\n",
       "        <span style=\"color: #808000; text-decoration-color: #808000\">symmetry</span>=<span style=\"color: #800080; text-decoration-color: #800080; font-weight: bold\">ShapedArray</span><span style=\"font-weight: bold\">(</span>int8<span style=\"font-weight: bold\">[])</span>\n",
       "    <span style=\"font-weight: bold\">)</span>,\n",
       "    <span style=\"color: #808000; text-decoration-color: #808000\">lichen</span>=<span style=\"color: #800080; text-decoration-color: #800080; font-weight: bold\">ShapedArray</span><span style=\"font-weight: bold\">(</span>int32<span style=\"font-weight: bold\">[</span><span style=\"color: #008080; text-decoration-color: #008080; font-weight: bold\">48</span>,<span style=\"color: #008080; text-decoration-color: #008080; font-weight: bold\">48</span><span style=\"font-weight: bold\">])</span>,\n",
       "    <span style=\"color: #808000; text-decoration-color: #808000\">lichen_strains</span>=<span style=\"color: #800080; text-decoration-color: #800080; font-weight: bold\">ShapedArray</span><span style=\"font-weight: bold\">(</span>int8<span style=\"font-weight: bold\">[</span><span style=\"color: #008080; text-decoration-color: #008080; font-weight: bold\">48</span>,<span style=\"color: #008080; text-decoration-color: #008080; font-weight: bold\">48</span><span style=\"font-weight: bold\">])</span>,\n",
       "    <span style=\"color: #808000; text-decoration-color: #808000\">units_map</span>=<span style=\"color: #800080; text-decoration-color: #800080; font-weight: bold\">ShapedArray</span><span style=\"font-weight: bold\">(</span>int16<span style=\"font-weight: bold\">[</span><span style=\"color: #008080; text-decoration-color: #008080; font-weight: bold\">48</span>,<span style=\"color: #008080; text-decoration-color: #008080; font-weight: bold\">48</span><span style=\"font-weight: bold\">])</span>,\n",
       "    <span style=\"color: #808000; text-decoration-color: #808000\">factory_map</span>=<span style=\"color: #800080; text-decoration-color: #800080; font-weight: bold\">ShapedArray</span><span style=\"font-weight: bold\">(</span>int8<span style=\"font-weight: bold\">[</span><span style=\"color: #008080; text-decoration-color: #008080; font-weight: bold\">48</span>,<span style=\"color: #008080; text-decoration-color: #008080; font-weight: bold\">48</span><span style=\"font-weight: bold\">])</span>,\n",
       "    <span style=\"color: #808000; text-decoration-color: #808000\">factory_occupancy_map</span>=<span style=\"color: #800080; text-decoration-color: #800080; font-weight: bold\">ShapedArray</span><span style=\"font-weight: bold\">(</span>int8<span style=\"font-weight: bold\">[</span><span style=\"color: #008080; text-decoration-color: #008080; font-weight: bold\">48</span>,<span style=\"color: #008080; text-decoration-color: #008080; font-weight: bold\">48</span><span style=\"font-weight: bold\">])</span>,\n",
       "    <span style=\"color: #808000; text-decoration-color: #808000\">factory_pos</span>=<span style=\"color: #800080; text-decoration-color: #800080; font-weight: bold\">ShapedArray</span><span style=\"font-weight: bold\">(</span>int8<span style=\"font-weight: bold\">[</span><span style=\"color: #008080; text-decoration-color: #008080; font-weight: bold\">22</span>,<span style=\"color: #008080; text-decoration-color: #008080; font-weight: bold\">2</span><span style=\"font-weight: bold\">])</span>\n",
       "<span style=\"font-weight: bold\">)</span>\n",
       "</pre>\n"
      ],
      "text/plain": [
       "\u001b[1;35mBoard\u001b[0m\u001b[1m(\u001b[0m\n",
       "    \u001b[33mseed\u001b[0m=\u001b[1;35mShapedArray\u001b[0m\u001b[1m(\u001b[0mint32\u001b[1m[\u001b[0m\u001b[1m]\u001b[0m\u001b[1m)\u001b[0m,\n",
       "    \u001b[33mfactories_per_team\u001b[0m=\u001b[1;35mShapedArray\u001b[0m\u001b[1m(\u001b[0mint8\u001b[1m[\u001b[0m\u001b[1m]\u001b[0m\u001b[1m)\u001b[0m,\n",
       "    \u001b[33mmap\u001b[0m=\u001b[1;35mGameMap\u001b[0m\u001b[1m(\u001b[0m\n",
       "        \u001b[33mrubble\u001b[0m=\u001b[1;35mShapedArray\u001b[0m\u001b[1m(\u001b[0mint8\u001b[1m[\u001b[0m\u001b[1;36m48\u001b[0m,\u001b[1;36m48\u001b[0m\u001b[1m]\u001b[0m\u001b[1m)\u001b[0m,\n",
       "        \u001b[33mice\u001b[0m=\u001b[1;35mShapedArray\u001b[0m\u001b[1m(\u001b[0mbool\u001b[1m[\u001b[0m\u001b[1;36m48\u001b[0m,\u001b[1;36m48\u001b[0m\u001b[1m]\u001b[0m\u001b[1m)\u001b[0m,\n",
       "        \u001b[33more\u001b[0m=\u001b[1;35mShapedArray\u001b[0m\u001b[1m(\u001b[0mbool\u001b[1m[\u001b[0m\u001b[1;36m48\u001b[0m,\u001b[1;36m48\u001b[0m\u001b[1m]\u001b[0m\u001b[1m)\u001b[0m,\n",
       "        \u001b[33msymmetry\u001b[0m=\u001b[1;35mShapedArray\u001b[0m\u001b[1m(\u001b[0mint8\u001b[1m[\u001b[0m\u001b[1m]\u001b[0m\u001b[1m)\u001b[0m\n",
       "    \u001b[1m)\u001b[0m,\n",
       "    \u001b[33mlichen\u001b[0m=\u001b[1;35mShapedArray\u001b[0m\u001b[1m(\u001b[0mint32\u001b[1m[\u001b[0m\u001b[1;36m48\u001b[0m,\u001b[1;36m48\u001b[0m\u001b[1m]\u001b[0m\u001b[1m)\u001b[0m,\n",
       "    \u001b[33mlichen_strains\u001b[0m=\u001b[1;35mShapedArray\u001b[0m\u001b[1m(\u001b[0mint8\u001b[1m[\u001b[0m\u001b[1;36m48\u001b[0m,\u001b[1;36m48\u001b[0m\u001b[1m]\u001b[0m\u001b[1m)\u001b[0m,\n",
       "    \u001b[33munits_map\u001b[0m=\u001b[1;35mShapedArray\u001b[0m\u001b[1m(\u001b[0mint16\u001b[1m[\u001b[0m\u001b[1;36m48\u001b[0m,\u001b[1;36m48\u001b[0m\u001b[1m]\u001b[0m\u001b[1m)\u001b[0m,\n",
       "    \u001b[33mfactory_map\u001b[0m=\u001b[1;35mShapedArray\u001b[0m\u001b[1m(\u001b[0mint8\u001b[1m[\u001b[0m\u001b[1;36m48\u001b[0m,\u001b[1;36m48\u001b[0m\u001b[1m]\u001b[0m\u001b[1m)\u001b[0m,\n",
       "    \u001b[33mfactory_occupancy_map\u001b[0m=\u001b[1;35mShapedArray\u001b[0m\u001b[1m(\u001b[0mint8\u001b[1m[\u001b[0m\u001b[1;36m48\u001b[0m,\u001b[1;36m48\u001b[0m\u001b[1m]\u001b[0m\u001b[1m)\u001b[0m,\n",
       "    \u001b[33mfactory_pos\u001b[0m=\u001b[1;35mShapedArray\u001b[0m\u001b[1m(\u001b[0mint8\u001b[1m[\u001b[0m\u001b[1;36m22\u001b[0m,\u001b[1;36m2\u001b[0m\u001b[1m]\u001b[0m\u001b[1m)\u001b[0m\n",
       "\u001b[1m)\u001b[0m\n"
      ]
     },
     "metadata": {},
     "output_type": "display_data"
    }
   ],
   "source": [
    "import jux.tree_util\n",
    "import rich\n",
    "rich.print(jux.tree_util.map_to_aval(state.board))"
   ]
  },
  {
   "cell_type": "markdown",
   "metadata": {},
   "source": [
    "### Factory Information\n",
    "\n",
    "All information about factories, including their position, cargo, and power, are stored in `state.factories`. `state.n_factories` indicates the number of factories each player has. Because we have just reset the environment, both players have 0 factory. The leaves of `state.factories` have shapes shown as below. "
   ]
  },
  {
   "cell_type": "code",
   "execution_count": 14,
   "metadata": {},
   "outputs": [
    {
     "name": "stdout",
     "output_type": "stream",
     "text": [
      "[Replay Util] Replaying 1/1 steps\n"
     ]
    }
   ],
   "source": [
    "previous_state = state\n",
    "state, lux_actions = ut.replay_run_n_late_game_step(1, jux_env, state, lux_actions)"
   ]
  },
  {
   "cell_type": "code",
   "execution_count": 10,
   "metadata": {},
   "outputs": [],
   "source": [
    "reload(pp)\n",
    "factory_feature = pp.get_factory_feature(state, previous_state.factories.power)"
   ]
  },
  {
   "cell_type": "code",
   "execution_count": 11,
   "metadata": {},
   "outputs": [
    {
     "data": {
      "text/plain": [
       "(2, 64, 64, 7)"
      ]
     },
     "execution_count": 11,
     "metadata": {},
     "output_type": "execute_result"
    }
   ],
   "source": [
    "factory_feature.shape"
   ]
  },
  {
   "cell_type": "code",
   "execution_count": null,
   "metadata": {},
   "outputs": [],
   "source": [
    "fig, axes = plt.subplots(2, 7, figsize=(28, 8))\n",
    "features = ['existence', 'ice', 'ore', 'water', 'metal', 'power', 'previous_power']\n",
    "for i in range(2):\n",
    "    for j in range(7):\n",
    "        axes[i, j].imshow(factory_feature[i, :, :, j], cmap='gray')\n",
    "        axes[i, j].set_title(f\"Player {i}, {features[j]}\")\n",
    "fig.suptitle(\"Factory Features\")\n",
    "plt.show()\n"
   ]
  },
  {
   "cell_type": "code",
   "execution_count": 5,
   "metadata": {},
   "outputs": [],
   "source": [
    "from jux.env import JuxEnvBatch\n",
    "\n",
    "jux_env_batch = JuxEnvBatch(buf_cfg=JuxBufferConfig(MAX_N_UNITS=200))"
   ]
  },
  {
   "cell_type": "code",
   "execution_count": 6,
   "metadata": {},
   "outputs": [],
   "source": [
    "import jax.numpy as jnp\n",
    "\n",
    "batch_size = 3\n",
    "seeds = jnp.arange(batch_size)\n",
    "\n",
    "states = jux_env_batch.reset(seeds)"
   ]
  },
  {
   "cell_type": "code",
   "execution_count": 7,
   "metadata": {},
   "outputs": [
    {
     "name": "stdout",
     "output_type": "stream",
     "text": [
      "bid: ShapedArray(int32[3,2])\n",
      "faction: ShapedArray(int8[3,2])\n"
     ]
    }
   ],
   "source": [
    "# bid step\n",
    "bid = jnp.zeros((batch_size, 2), dtype=jnp.int32)\n",
    "faction = jnp.zeros((batch_size, 2), dtype=jnp.int8)\n",
    "\n",
    "states, (observations, rewards, dones, infos) = jux_env_batch.step_bid(states, bid, faction)\n",
    "\n",
    "print(f\"bid: {bid.aval}\")\n",
    "print(f\"faction: {faction.aval}\")"
   ]
  },
  {
   "cell_type": "code",
   "execution_count": 8,
   "metadata": {},
   "outputs": [
    {
     "name": "stdout",
     "output_type": "stream",
     "text": [
      "spawn: ShapedArray(int8[3,2,2])\n",
      "water: ShapedArray(int32[3,2])\n",
      "metal: ShapedArray(int32[3,2])\n"
     ]
    }
   ],
   "source": [
    "key = jax.random.PRNGKey(0)\n",
    "water = jnp.ones((batch_size, 2), dtype=jnp.int32) * 150\n",
    "metal = jnp.ones((batch_size, 2), dtype=jnp.int32) * 150\n",
    "\n",
    "# factory placement step\n",
    "factories_per_team = states.board.factories_per_team[0]\n",
    "for i in range(factories_per_team * 2):\n",
    "    # random spawn position\n",
    "    key, subkey = jax.random.split(key)\n",
    "    spawn = jax.random.randint(subkey, (batch_size, 2, 2), 0, jux_env_batch.env_cfg.map_size, dtype=jnp.int8)\n",
    "    states, (observations, rewards, dones, infos) = jux_env_batch.step_factory_placement(states, spawn, water, metal)\n",
    "\n",
    "print(f\"spawn: {spawn.aval}\")\n",
    "print(f\"water: {water.aval}\")\n",
    "print(f\"metal: {metal.aval}\")"
   ]
  },
  {
   "cell_type": "code",
   "execution_count": 39,
   "metadata": {},
   "outputs": [
    {
     "data": {
      "text/html": [
       "<pre style=\"white-space:pre;overflow-x:auto;line-height:normal;font-family:Menlo,'DejaVu Sans Mono',consolas,'Courier New',monospace\"><span style=\"color: #800080; text-decoration-color: #800080; font-weight: bold\">State</span><span style=\"font-weight: bold\">(</span>\n",
       "    <span style=\"color: #808000; text-decoration-color: #808000\">env_cfg</span>=<span style=\"color: #800080; text-decoration-color: #800080; font-weight: bold\">EnvConfig</span><span style=\"font-weight: bold\">(</span>\n",
       "        <span style=\"color: #808000; text-decoration-color: #808000\">max_episode_length</span>=<span style=\"color: #800080; text-decoration-color: #800080; font-weight: bold\">ShapedArray</span><span style=\"font-weight: bold\">(</span>int32<span style=\"font-weight: bold\">[</span><span style=\"color: #008080; text-decoration-color: #008080; font-weight: bold\">3</span><span style=\"font-weight: bold\">]</span>, <span style=\"color: #808000; text-decoration-color: #808000\">weak_type</span>=<span style=\"color: #00ff00; text-decoration-color: #00ff00; font-style: italic\">True</span><span style=\"font-weight: bold\">)</span>,\n",
       "        <span style=\"color: #808000; text-decoration-color: #808000\">map_size</span>=<span style=\"color: #800080; text-decoration-color: #800080; font-weight: bold\">ShapedArray</span><span style=\"font-weight: bold\">(</span>int32<span style=\"font-weight: bold\">[</span><span style=\"color: #008080; text-decoration-color: #008080; font-weight: bold\">3</span><span style=\"font-weight: bold\">]</span>, <span style=\"color: #808000; text-decoration-color: #808000\">weak_type</span>=<span style=\"color: #00ff00; text-decoration-color: #00ff00; font-style: italic\">True</span><span style=\"font-weight: bold\">)</span>,\n",
       "        <span style=\"color: #808000; text-decoration-color: #808000\">verbose</span>=<span style=\"color: #800080; text-decoration-color: #800080; font-weight: bold\">ShapedArray</span><span style=\"font-weight: bold\">(</span>int32<span style=\"font-weight: bold\">[</span><span style=\"color: #008080; text-decoration-color: #008080; font-weight: bold\">3</span><span style=\"font-weight: bold\">]</span>, <span style=\"color: #808000; text-decoration-color: #808000\">weak_type</span>=<span style=\"color: #00ff00; text-decoration-color: #00ff00; font-style: italic\">True</span><span style=\"font-weight: bold\">)</span>,\n",
       "        <span style=\"color: #808000; text-decoration-color: #808000\">validate_action_space</span>=<span style=\"color: #800080; text-decoration-color: #800080; font-weight: bold\">ShapedArray</span><span style=\"font-weight: bold\">(</span>bool<span style=\"font-weight: bold\">[</span><span style=\"color: #008080; text-decoration-color: #008080; font-weight: bold\">3</span><span style=\"font-weight: bold\">])</span>,\n",
       "        <span style=\"color: #808000; text-decoration-color: #808000\">max_transfer_amount</span>=<span style=\"color: #800080; text-decoration-color: #800080; font-weight: bold\">ShapedArray</span><span style=\"font-weight: bold\">(</span>int32<span style=\"font-weight: bold\">[</span><span style=\"color: #008080; text-decoration-color: #008080; font-weight: bold\">3</span><span style=\"font-weight: bold\">]</span>, <span style=\"color: #808000; text-decoration-color: #808000\">weak_type</span>=<span style=\"color: #00ff00; text-decoration-color: #00ff00; font-style: italic\">True</span><span style=\"font-weight: bold\">)</span>,\n",
       "        <span style=\"color: #808000; text-decoration-color: #808000\">MIN_FACTORIES</span>=<span style=\"color: #800080; text-decoration-color: #800080; font-weight: bold\">ShapedArray</span><span style=\"font-weight: bold\">(</span>int32<span style=\"font-weight: bold\">[</span><span style=\"color: #008080; text-decoration-color: #008080; font-weight: bold\">3</span><span style=\"font-weight: bold\">]</span>, <span style=\"color: #808000; text-decoration-color: #808000\">weak_type</span>=<span style=\"color: #00ff00; text-decoration-color: #00ff00; font-style: italic\">True</span><span style=\"font-weight: bold\">)</span>,\n",
       "        <span style=\"color: #808000; text-decoration-color: #808000\">MAX_FACTORIES</span>=<span style=\"color: #800080; text-decoration-color: #800080; font-weight: bold\">ShapedArray</span><span style=\"font-weight: bold\">(</span>int32<span style=\"font-weight: bold\">[</span><span style=\"color: #008080; text-decoration-color: #008080; font-weight: bold\">3</span><span style=\"font-weight: bold\">]</span>, <span style=\"color: #808000; text-decoration-color: #808000\">weak_type</span>=<span style=\"color: #00ff00; text-decoration-color: #00ff00; font-style: italic\">True</span><span style=\"font-weight: bold\">)</span>,\n",
       "        <span style=\"color: #808000; text-decoration-color: #808000\">CYCLE_LENGTH</span>=<span style=\"color: #800080; text-decoration-color: #800080; font-weight: bold\">ShapedArray</span><span style=\"font-weight: bold\">(</span>int32<span style=\"font-weight: bold\">[</span><span style=\"color: #008080; text-decoration-color: #008080; font-weight: bold\">3</span><span style=\"font-weight: bold\">]</span>, <span style=\"color: #808000; text-decoration-color: #808000\">weak_type</span>=<span style=\"color: #00ff00; text-decoration-color: #00ff00; font-style: italic\">True</span><span style=\"font-weight: bold\">)</span>,\n",
       "        <span style=\"color: #808000; text-decoration-color: #808000\">DAY_LENGTH</span>=<span style=\"color: #800080; text-decoration-color: #800080; font-weight: bold\">ShapedArray</span><span style=\"font-weight: bold\">(</span>int32<span style=\"font-weight: bold\">[</span><span style=\"color: #008080; text-decoration-color: #008080; font-weight: bold\">3</span><span style=\"font-weight: bold\">]</span>, <span style=\"color: #808000; text-decoration-color: #808000\">weak_type</span>=<span style=\"color: #00ff00; text-decoration-color: #00ff00; font-style: italic\">True</span><span style=\"font-weight: bold\">)</span>,\n",
       "        <span style=\"color: #808000; text-decoration-color: #808000\">UNIT_ACTION_QUEUE_SIZE</span>=<span style=\"color: #800080; text-decoration-color: #800080; font-weight: bold\">ShapedArray</span><span style=\"font-weight: bold\">(</span>int32<span style=\"font-weight: bold\">[</span><span style=\"color: #008080; text-decoration-color: #008080; font-weight: bold\">3</span><span style=\"font-weight: bold\">]</span>, <span style=\"color: #808000; text-decoration-color: #808000\">weak_type</span>=<span style=\"color: #00ff00; text-decoration-color: #00ff00; font-style: italic\">True</span><span style=\"font-weight: bold\">)</span>,\n",
       "        <span style=\"color: #808000; text-decoration-color: #808000\">MAX_RUBBLE</span>=<span style=\"color: #800080; text-decoration-color: #800080; font-weight: bold\">ShapedArray</span><span style=\"font-weight: bold\">(</span>int32<span style=\"font-weight: bold\">[</span><span style=\"color: #008080; text-decoration-color: #008080; font-weight: bold\">3</span><span style=\"font-weight: bold\">]</span>, <span style=\"color: #808000; text-decoration-color: #808000\">weak_type</span>=<span style=\"color: #00ff00; text-decoration-color: #00ff00; font-style: italic\">True</span><span style=\"font-weight: bold\">)</span>,\n",
       "        <span style=\"color: #808000; text-decoration-color: #808000\">FACTORY_RUBBLE_AFTER_DESTRUCTION</span>=<span style=\"color: #800080; text-decoration-color: #800080; font-weight: bold\">ShapedArray</span><span style=\"font-weight: bold\">(</span>int32<span style=\"font-weight: bold\">[</span><span style=\"color: #008080; text-decoration-color: #008080; font-weight: bold\">3</span><span style=\"font-weight: bold\">]</span>, <span style=\"color: #808000; text-decoration-color: #808000\">weak_type</span>=<span style=\"color: #00ff00; text-decoration-color: #00ff00; font-style: italic\">True</span><span style=\"font-weight: bold\">)</span>,\n",
       "        <span style=\"color: #808000; text-decoration-color: #808000\">INIT_WATER_METAL_PER_FACTORY</span>=<span style=\"color: #800080; text-decoration-color: #800080; font-weight: bold\">ShapedArray</span><span style=\"font-weight: bold\">(</span>int32<span style=\"font-weight: bold\">[</span><span style=\"color: #008080; text-decoration-color: #008080; font-weight: bold\">3</span><span style=\"font-weight: bold\">]</span>, <span style=\"color: #808000; text-decoration-color: #808000\">weak_type</span>=<span style=\"color: #00ff00; text-decoration-color: #00ff00; font-style: italic\">True</span><span style=\"font-weight: bold\">)</span>,\n",
       "        <span style=\"color: #808000; text-decoration-color: #808000\">INIT_POWER_PER_FACTORY</span>=<span style=\"color: #800080; text-decoration-color: #800080; font-weight: bold\">ShapedArray</span><span style=\"font-weight: bold\">(</span>int32<span style=\"font-weight: bold\">[</span><span style=\"color: #008080; text-decoration-color: #008080; font-weight: bold\">3</span><span style=\"font-weight: bold\">]</span>, <span style=\"color: #808000; text-decoration-color: #808000\">weak_type</span>=<span style=\"color: #00ff00; text-decoration-color: #00ff00; font-style: italic\">True</span><span style=\"font-weight: bold\">)</span>,\n",
       "        <span style=\"color: #808000; text-decoration-color: #808000\">MIN_LICHEN_TO_SPREAD</span>=<span style=\"color: #800080; text-decoration-color: #800080; font-weight: bold\">ShapedArray</span><span style=\"font-weight: bold\">(</span>int32<span style=\"font-weight: bold\">[</span><span style=\"color: #008080; text-decoration-color: #008080; font-weight: bold\">3</span><span style=\"font-weight: bold\">]</span>, <span style=\"color: #808000; text-decoration-color: #808000\">weak_type</span>=<span style=\"color: #00ff00; text-decoration-color: #00ff00; font-style: italic\">True</span><span style=\"font-weight: bold\">)</span>,\n",
       "        <span style=\"color: #808000; text-decoration-color: #808000\">LICHEN_LOST_WITHOUT_WATER</span>=<span style=\"color: #800080; text-decoration-color: #800080; font-weight: bold\">ShapedArray</span><span style=\"font-weight: bold\">(</span>int32<span style=\"font-weight: bold\">[</span><span style=\"color: #008080; text-decoration-color: #008080; font-weight: bold\">3</span><span style=\"font-weight: bold\">]</span>, <span style=\"color: #808000; text-decoration-color: #808000\">weak_type</span>=<span style=\"color: #00ff00; text-decoration-color: #00ff00; font-style: italic\">True</span><span style=\"font-weight: bold\">)</span>,\n",
       "        <span style=\"color: #808000; text-decoration-color: #808000\">LICHEN_GAINED_WITH_WATER</span>=<span style=\"color: #800080; text-decoration-color: #800080; font-weight: bold\">ShapedArray</span><span style=\"font-weight: bold\">(</span>int32<span style=\"font-weight: bold\">[</span><span style=\"color: #008080; text-decoration-color: #008080; font-weight: bold\">3</span><span style=\"font-weight: bold\">]</span>, <span style=\"color: #808000; text-decoration-color: #808000\">weak_type</span>=<span style=\"color: #00ff00; text-decoration-color: #00ff00; font-style: italic\">True</span><span style=\"font-weight: bold\">)</span>,\n",
       "        <span style=\"color: #808000; text-decoration-color: #808000\">MAX_LICHEN_PER_TILE</span>=<span style=\"color: #800080; text-decoration-color: #800080; font-weight: bold\">ShapedArray</span><span style=\"font-weight: bold\">(</span>int32<span style=\"font-weight: bold\">[</span><span style=\"color: #008080; text-decoration-color: #008080; font-weight: bold\">3</span><span style=\"font-weight: bold\">]</span>, <span style=\"color: #808000; text-decoration-color: #808000\">weak_type</span>=<span style=\"color: #00ff00; text-decoration-color: #00ff00; font-style: italic\">True</span><span style=\"font-weight: bold\">)</span>,\n",
       "        <span style=\"color: #808000; text-decoration-color: #808000\">POWER_PER_CONNECTED_LICHEN_TILE</span>=<span style=\"color: #800080; text-decoration-color: #800080; font-weight: bold\">ShapedArray</span><span style=\"font-weight: bold\">(</span>int32<span style=\"font-weight: bold\">[</span><span style=\"color: #008080; text-decoration-color: #008080; font-weight: bold\">3</span><span style=\"font-weight: bold\">]</span>, <span style=\"color: #808000; text-decoration-color: #808000\">weak_type</span>=<span style=\"color: #00ff00; text-decoration-color: #00ff00; font-style: italic\">True</span><span style=\"font-weight: bold\">)</span>,\n",
       "        <span style=\"color: #808000; text-decoration-color: #808000\">LICHEN_WATERING_COST_FACTOR</span>=<span style=\"color: #800080; text-decoration-color: #800080; font-weight: bold\">ShapedArray</span><span style=\"font-weight: bold\">(</span>int32<span style=\"font-weight: bold\">[</span><span style=\"color: #008080; text-decoration-color: #008080; font-weight: bold\">3</span><span style=\"font-weight: bold\">]</span>, <span style=\"color: #808000; text-decoration-color: #808000\">weak_type</span>=<span style=\"color: #00ff00; text-decoration-color: #00ff00; font-style: italic\">True</span><span style=\"font-weight: bold\">)</span>,\n",
       "        <span style=\"color: #808000; text-decoration-color: #808000\">BIDDING_SYSTEM</span>=<span style=\"color: #800080; text-decoration-color: #800080; font-weight: bold\">ShapedArray</span><span style=\"font-weight: bold\">(</span>bool<span style=\"font-weight: bold\">[</span><span style=\"color: #008080; text-decoration-color: #008080; font-weight: bold\">3</span><span style=\"font-weight: bold\">])</span>,\n",
       "        <span style=\"color: #808000; text-decoration-color: #808000\">FACTORY_PROCESSING_RATE_WATER</span>=<span style=\"color: #800080; text-decoration-color: #800080; font-weight: bold\">ShapedArray</span><span style=\"font-weight: bold\">(</span>int32<span style=\"font-weight: bold\">[</span><span style=\"color: #008080; text-decoration-color: #008080; font-weight: bold\">3</span><span style=\"font-weight: bold\">]</span>, <span style=\"color: #808000; text-decoration-color: #808000\">weak_type</span>=<span style=\"color: #00ff00; text-decoration-color: #00ff00; font-style: italic\">True</span><span style=\"font-weight: bold\">)</span>,\n",
       "        <span style=\"color: #808000; text-decoration-color: #808000\">ICE_WATER_RATIO</span>=<span style=\"color: #800080; text-decoration-color: #800080; font-weight: bold\">ShapedArray</span><span style=\"font-weight: bold\">(</span>int32<span style=\"font-weight: bold\">[</span><span style=\"color: #008080; text-decoration-color: #008080; font-weight: bold\">3</span><span style=\"font-weight: bold\">]</span>, <span style=\"color: #808000; text-decoration-color: #808000\">weak_type</span>=<span style=\"color: #00ff00; text-decoration-color: #00ff00; font-style: italic\">True</span><span style=\"font-weight: bold\">)</span>,\n",
       "        <span style=\"color: #808000; text-decoration-color: #808000\">FACTORY_PROCESSING_RATE_METAL</span>=<span style=\"color: #800080; text-decoration-color: #800080; font-weight: bold\">ShapedArray</span><span style=\"font-weight: bold\">(</span>int32<span style=\"font-weight: bold\">[</span><span style=\"color: #008080; text-decoration-color: #008080; font-weight: bold\">3</span><span style=\"font-weight: bold\">]</span>, <span style=\"color: #808000; text-decoration-color: #808000\">weak_type</span>=<span style=\"color: #00ff00; text-decoration-color: #00ff00; font-style: italic\">True</span><span style=\"font-weight: bold\">)</span>,\n",
       "        <span style=\"color: #808000; text-decoration-color: #808000\">ORE_METAL_RATIO</span>=<span style=\"color: #800080; text-decoration-color: #800080; font-weight: bold\">ShapedArray</span><span style=\"font-weight: bold\">(</span>int32<span style=\"font-weight: bold\">[</span><span style=\"color: #008080; text-decoration-color: #008080; font-weight: bold\">3</span><span style=\"font-weight: bold\">]</span>, <span style=\"color: #808000; text-decoration-color: #808000\">weak_type</span>=<span style=\"color: #00ff00; text-decoration-color: #00ff00; font-style: italic\">True</span><span style=\"font-weight: bold\">)</span>,\n",
       "        <span style=\"color: #808000; text-decoration-color: #808000\">FACTORY_CHARGE</span>=<span style=\"color: #800080; text-decoration-color: #800080; font-weight: bold\">ShapedArray</span><span style=\"font-weight: bold\">(</span>int32<span style=\"font-weight: bold\">[</span><span style=\"color: #008080; text-decoration-color: #008080; font-weight: bold\">3</span><span style=\"font-weight: bold\">]</span>, <span style=\"color: #808000; text-decoration-color: #808000\">weak_type</span>=<span style=\"color: #00ff00; text-decoration-color: #00ff00; font-style: italic\">True</span><span style=\"font-weight: bold\">)</span>,\n",
       "        <span style=\"color: #808000; text-decoration-color: #808000\">FACTORY_WATER_CONSUMPTION</span>=<span style=\"color: #800080; text-decoration-color: #800080; font-weight: bold\">ShapedArray</span><span style=\"font-weight: bold\">(</span>int32<span style=\"font-weight: bold\">[</span><span style=\"color: #008080; text-decoration-color: #008080; font-weight: bold\">3</span><span style=\"font-weight: bold\">]</span>, <span style=\"color: #808000; text-decoration-color: #808000\">weak_type</span>=<span style=\"color: #00ff00; text-decoration-color: #00ff00; font-style: italic\">True</span><span style=\"font-weight: bold\">)</span>,\n",
       "        <span style=\"color: #808000; text-decoration-color: #808000\">POWER_LOSS_FACTOR</span>=<span style=\"color: #800080; text-decoration-color: #800080; font-weight: bold\">ShapedArray</span><span style=\"font-weight: bold\">(</span>float32<span style=\"font-weight: bold\">[</span><span style=\"color: #008080; text-decoration-color: #008080; font-weight: bold\">3</span><span style=\"font-weight: bold\">]</span>, <span style=\"color: #808000; text-decoration-color: #808000\">weak_type</span>=<span style=\"color: #00ff00; text-decoration-color: #00ff00; font-style: italic\">True</span><span style=\"font-weight: bold\">)</span>,\n",
       "        <span style=\"color: #808000; text-decoration-color: #808000\">ROBOTS</span>=<span style=\"font-weight: bold\">(</span>\n",
       "            <span style=\"color: #800080; text-decoration-color: #800080; font-weight: bold\">UnitConfig</span><span style=\"font-weight: bold\">(</span>\n",
       "                <span style=\"color: #808000; text-decoration-color: #808000\">METAL_COST</span>=<span style=\"color: #800080; text-decoration-color: #800080; font-weight: bold\">ShapedArray</span><span style=\"font-weight: bold\">(</span>int32<span style=\"font-weight: bold\">[</span><span style=\"color: #008080; text-decoration-color: #008080; font-weight: bold\">3</span><span style=\"font-weight: bold\">]</span>, <span style=\"color: #808000; text-decoration-color: #808000\">weak_type</span>=<span style=\"color: #00ff00; text-decoration-color: #00ff00; font-style: italic\">True</span><span style=\"font-weight: bold\">)</span>,\n",
       "                <span style=\"color: #808000; text-decoration-color: #808000\">POWER_COST</span>=<span style=\"color: #800080; text-decoration-color: #800080; font-weight: bold\">ShapedArray</span><span style=\"font-weight: bold\">(</span>int32<span style=\"font-weight: bold\">[</span><span style=\"color: #008080; text-decoration-color: #008080; font-weight: bold\">3</span><span style=\"font-weight: bold\">]</span>, <span style=\"color: #808000; text-decoration-color: #808000\">weak_type</span>=<span style=\"color: #00ff00; text-decoration-color: #00ff00; font-style: italic\">True</span><span style=\"font-weight: bold\">)</span>,\n",
       "                <span style=\"color: #808000; text-decoration-color: #808000\">CARGO_SPACE</span>=<span style=\"color: #800080; text-decoration-color: #800080; font-weight: bold\">ShapedArray</span><span style=\"font-weight: bold\">(</span>int32<span style=\"font-weight: bold\">[</span><span style=\"color: #008080; text-decoration-color: #008080; font-weight: bold\">3</span><span style=\"font-weight: bold\">]</span>, <span style=\"color: #808000; text-decoration-color: #808000\">weak_type</span>=<span style=\"color: #00ff00; text-decoration-color: #00ff00; font-style: italic\">True</span><span style=\"font-weight: bold\">)</span>,\n",
       "                <span style=\"color: #808000; text-decoration-color: #808000\">BATTERY_CAPACITY</span>=<span style=\"color: #800080; text-decoration-color: #800080; font-weight: bold\">ShapedArray</span><span style=\"font-weight: bold\">(</span>int32<span style=\"font-weight: bold\">[</span><span style=\"color: #008080; text-decoration-color: #008080; font-weight: bold\">3</span><span style=\"font-weight: bold\">]</span>, <span style=\"color: #808000; text-decoration-color: #808000\">weak_type</span>=<span style=\"color: #00ff00; text-decoration-color: #00ff00; font-style: italic\">True</span><span style=\"font-weight: bold\">)</span>,\n",
       "                <span style=\"color: #808000; text-decoration-color: #808000\">CHARGE</span>=<span style=\"color: #800080; text-decoration-color: #800080; font-weight: bold\">ShapedArray</span><span style=\"font-weight: bold\">(</span>int32<span style=\"font-weight: bold\">[</span><span style=\"color: #008080; text-decoration-color: #008080; font-weight: bold\">3</span><span style=\"font-weight: bold\">]</span>, <span style=\"color: #808000; text-decoration-color: #808000\">weak_type</span>=<span style=\"color: #00ff00; text-decoration-color: #00ff00; font-style: italic\">True</span><span style=\"font-weight: bold\">)</span>,\n",
       "                <span style=\"color: #808000; text-decoration-color: #808000\">INIT_POWER</span>=<span style=\"color: #800080; text-decoration-color: #800080; font-weight: bold\">ShapedArray</span><span style=\"font-weight: bold\">(</span>int32<span style=\"font-weight: bold\">[</span><span style=\"color: #008080; text-decoration-color: #008080; font-weight: bold\">3</span><span style=\"font-weight: bold\">]</span>, <span style=\"color: #808000; text-decoration-color: #808000\">weak_type</span>=<span style=\"color: #00ff00; text-decoration-color: #00ff00; font-style: italic\">True</span><span style=\"font-weight: bold\">)</span>,\n",
       "                <span style=\"color: #808000; text-decoration-color: #808000\">MOVE_COST</span>=<span style=\"color: #800080; text-decoration-color: #800080; font-weight: bold\">ShapedArray</span><span style=\"font-weight: bold\">(</span>int32<span style=\"font-weight: bold\">[</span><span style=\"color: #008080; text-decoration-color: #008080; font-weight: bold\">3</span><span style=\"font-weight: bold\">]</span>, <span style=\"color: #808000; text-decoration-color: #808000\">weak_type</span>=<span style=\"color: #00ff00; text-decoration-color: #00ff00; font-style: italic\">True</span><span style=\"font-weight: bold\">)</span>,\n",
       "                <span style=\"color: #808000; text-decoration-color: #808000\">RUBBLE_MOVEMENT_COST</span>=<span style=\"color: #800080; text-decoration-color: #800080; font-weight: bold\">ShapedArray</span><span style=\"font-weight: bold\">(</span>float32<span style=\"font-weight: bold\">[</span><span style=\"color: #008080; text-decoration-color: #008080; font-weight: bold\">3</span><span style=\"font-weight: bold\">]</span>, <span style=\"color: #808000; text-decoration-color: #808000\">weak_type</span>=<span style=\"color: #00ff00; text-decoration-color: #00ff00; font-style: italic\">True</span><span style=\"font-weight: bold\">)</span>,\n",
       "                <span style=\"color: #808000; text-decoration-color: #808000\">DIG_COST</span>=<span style=\"color: #800080; text-decoration-color: #800080; font-weight: bold\">ShapedArray</span><span style=\"font-weight: bold\">(</span>int32<span style=\"font-weight: bold\">[</span><span style=\"color: #008080; text-decoration-color: #008080; font-weight: bold\">3</span><span style=\"font-weight: bold\">]</span>, <span style=\"color: #808000; text-decoration-color: #808000\">weak_type</span>=<span style=\"color: #00ff00; text-decoration-color: #00ff00; font-style: italic\">True</span><span style=\"font-weight: bold\">)</span>,\n",
       "                <span style=\"color: #808000; text-decoration-color: #808000\">DIG_RUBBLE_REMOVED</span>=<span style=\"color: #800080; text-decoration-color: #800080; font-weight: bold\">ShapedArray</span><span style=\"font-weight: bold\">(</span>int32<span style=\"font-weight: bold\">[</span><span style=\"color: #008080; text-decoration-color: #008080; font-weight: bold\">3</span><span style=\"font-weight: bold\">]</span>, <span style=\"color: #808000; text-decoration-color: #808000\">weak_type</span>=<span style=\"color: #00ff00; text-decoration-color: #00ff00; font-style: italic\">True</span><span style=\"font-weight: bold\">)</span>,\n",
       "                <span style=\"color: #808000; text-decoration-color: #808000\">DIG_RESOURCE_GAIN</span>=<span style=\"color: #800080; text-decoration-color: #800080; font-weight: bold\">ShapedArray</span><span style=\"font-weight: bold\">(</span>int32<span style=\"font-weight: bold\">[</span><span style=\"color: #008080; text-decoration-color: #008080; font-weight: bold\">3</span><span style=\"font-weight: bold\">]</span>, <span style=\"color: #808000; text-decoration-color: #808000\">weak_type</span>=<span style=\"color: #00ff00; text-decoration-color: #00ff00; font-style: italic\">True</span><span style=\"font-weight: bold\">)</span>,\n",
       "                <span style=\"color: #808000; text-decoration-color: #808000\">DIG_LICHEN_REMOVED</span>=<span style=\"color: #800080; text-decoration-color: #800080; font-weight: bold\">ShapedArray</span><span style=\"font-weight: bold\">(</span>int32<span style=\"font-weight: bold\">[</span><span style=\"color: #008080; text-decoration-color: #008080; font-weight: bold\">3</span><span style=\"font-weight: bold\">]</span>, <span style=\"color: #808000; text-decoration-color: #808000\">weak_type</span>=<span style=\"color: #00ff00; text-decoration-color: #00ff00; font-style: italic\">True</span><span style=\"font-weight: bold\">)</span>,\n",
       "                <span style=\"color: #808000; text-decoration-color: #808000\">SELF_DESTRUCT_COST</span>=<span style=\"color: #800080; text-decoration-color: #800080; font-weight: bold\">ShapedArray</span><span style=\"font-weight: bold\">(</span>int32<span style=\"font-weight: bold\">[</span><span style=\"color: #008080; text-decoration-color: #008080; font-weight: bold\">3</span><span style=\"font-weight: bold\">]</span>, <span style=\"color: #808000; text-decoration-color: #808000\">weak_type</span>=<span style=\"color: #00ff00; text-decoration-color: #00ff00; font-style: italic\">True</span><span style=\"font-weight: bold\">)</span>,\n",
       "                <span style=\"color: #808000; text-decoration-color: #808000\">RUBBLE_AFTER_DESTRUCTION</span>=<span style=\"color: #800080; text-decoration-color: #800080; font-weight: bold\">ShapedArray</span><span style=\"font-weight: bold\">(</span>int32<span style=\"font-weight: bold\">[</span><span style=\"color: #008080; text-decoration-color: #008080; font-weight: bold\">3</span><span style=\"font-weight: bold\">]</span>, <span style=\"color: #808000; text-decoration-color: #808000\">weak_type</span>=<span style=\"color: #00ff00; text-decoration-color: #00ff00; font-style: italic\">True</span><span style=\"font-weight: bold\">)</span>,\n",
       "                <span style=\"color: #808000; text-decoration-color: #808000\">ACTION_QUEUE_POWER_COST</span>=<span style=\"color: #800080; text-decoration-color: #800080; font-weight: bold\">ShapedArray</span><span style=\"font-weight: bold\">(</span>int32<span style=\"font-weight: bold\">[</span><span style=\"color: #008080; text-decoration-color: #008080; font-weight: bold\">3</span><span style=\"font-weight: bold\">]</span>, <span style=\"color: #808000; text-decoration-color: #808000\">weak_type</span>=<span style=\"color: #00ff00; text-decoration-color: #00ff00; font-style: italic\">True</span><span style=\"font-weight: bold\">)</span>\n",
       "            <span style=\"font-weight: bold\">)</span>,\n",
       "            <span style=\"color: #800080; text-decoration-color: #800080; font-weight: bold\">UnitConfig</span><span style=\"font-weight: bold\">(</span>\n",
       "                <span style=\"color: #808000; text-decoration-color: #808000\">METAL_COST</span>=<span style=\"color: #800080; text-decoration-color: #800080; font-weight: bold\">ShapedArray</span><span style=\"font-weight: bold\">(</span>int32<span style=\"font-weight: bold\">[</span><span style=\"color: #008080; text-decoration-color: #008080; font-weight: bold\">3</span><span style=\"font-weight: bold\">]</span>, <span style=\"color: #808000; text-decoration-color: #808000\">weak_type</span>=<span style=\"color: #00ff00; text-decoration-color: #00ff00; font-style: italic\">True</span><span style=\"font-weight: bold\">)</span>,\n",
       "                <span style=\"color: #808000; text-decoration-color: #808000\">POWER_COST</span>=<span style=\"color: #800080; text-decoration-color: #800080; font-weight: bold\">ShapedArray</span><span style=\"font-weight: bold\">(</span>int32<span style=\"font-weight: bold\">[</span><span style=\"color: #008080; text-decoration-color: #008080; font-weight: bold\">3</span><span style=\"font-weight: bold\">]</span>, <span style=\"color: #808000; text-decoration-color: #808000\">weak_type</span>=<span style=\"color: #00ff00; text-decoration-color: #00ff00; font-style: italic\">True</span><span style=\"font-weight: bold\">)</span>,\n",
       "                <span style=\"color: #808000; text-decoration-color: #808000\">CARGO_SPACE</span>=<span style=\"color: #800080; text-decoration-color: #800080; font-weight: bold\">ShapedArray</span><span style=\"font-weight: bold\">(</span>int32<span style=\"font-weight: bold\">[</span><span style=\"color: #008080; text-decoration-color: #008080; font-weight: bold\">3</span><span style=\"font-weight: bold\">]</span>, <span style=\"color: #808000; text-decoration-color: #808000\">weak_type</span>=<span style=\"color: #00ff00; text-decoration-color: #00ff00; font-style: italic\">True</span><span style=\"font-weight: bold\">)</span>,\n",
       "                <span style=\"color: #808000; text-decoration-color: #808000\">BATTERY_CAPACITY</span>=<span style=\"color: #800080; text-decoration-color: #800080; font-weight: bold\">ShapedArray</span><span style=\"font-weight: bold\">(</span>int32<span style=\"font-weight: bold\">[</span><span style=\"color: #008080; text-decoration-color: #008080; font-weight: bold\">3</span><span style=\"font-weight: bold\">]</span>, <span style=\"color: #808000; text-decoration-color: #808000\">weak_type</span>=<span style=\"color: #00ff00; text-decoration-color: #00ff00; font-style: italic\">True</span><span style=\"font-weight: bold\">)</span>,\n",
       "                <span style=\"color: #808000; text-decoration-color: #808000\">CHARGE</span>=<span style=\"color: #800080; text-decoration-color: #800080; font-weight: bold\">ShapedArray</span><span style=\"font-weight: bold\">(</span>int32<span style=\"font-weight: bold\">[</span><span style=\"color: #008080; text-decoration-color: #008080; font-weight: bold\">3</span><span style=\"font-weight: bold\">]</span>, <span style=\"color: #808000; text-decoration-color: #808000\">weak_type</span>=<span style=\"color: #00ff00; text-decoration-color: #00ff00; font-style: italic\">True</span><span style=\"font-weight: bold\">)</span>,\n",
       "                <span style=\"color: #808000; text-decoration-color: #808000\">INIT_POWER</span>=<span style=\"color: #800080; text-decoration-color: #800080; font-weight: bold\">ShapedArray</span><span style=\"font-weight: bold\">(</span>int32<span style=\"font-weight: bold\">[</span><span style=\"color: #008080; text-decoration-color: #008080; font-weight: bold\">3</span><span style=\"font-weight: bold\">]</span>, <span style=\"color: #808000; text-decoration-color: #808000\">weak_type</span>=<span style=\"color: #00ff00; text-decoration-color: #00ff00; font-style: italic\">True</span><span style=\"font-weight: bold\">)</span>,\n",
       "                <span style=\"color: #808000; text-decoration-color: #808000\">MOVE_COST</span>=<span style=\"color: #800080; text-decoration-color: #800080; font-weight: bold\">ShapedArray</span><span style=\"font-weight: bold\">(</span>int32<span style=\"font-weight: bold\">[</span><span style=\"color: #008080; text-decoration-color: #008080; font-weight: bold\">3</span><span style=\"font-weight: bold\">]</span>, <span style=\"color: #808000; text-decoration-color: #808000\">weak_type</span>=<span style=\"color: #00ff00; text-decoration-color: #00ff00; font-style: italic\">True</span><span style=\"font-weight: bold\">)</span>,\n",
       "                <span style=\"color: #808000; text-decoration-color: #808000\">RUBBLE_MOVEMENT_COST</span>=<span style=\"color: #800080; text-decoration-color: #800080; font-weight: bold\">ShapedArray</span><span style=\"font-weight: bold\">(</span>float32<span style=\"font-weight: bold\">[</span><span style=\"color: #008080; text-decoration-color: #008080; font-weight: bold\">3</span><span style=\"font-weight: bold\">]</span>, <span style=\"color: #808000; text-decoration-color: #808000\">weak_type</span>=<span style=\"color: #00ff00; text-decoration-color: #00ff00; font-style: italic\">True</span><span style=\"font-weight: bold\">)</span>,\n",
       "                <span style=\"color: #808000; text-decoration-color: #808000\">DIG_COST</span>=<span style=\"color: #800080; text-decoration-color: #800080; font-weight: bold\">ShapedArray</span><span style=\"font-weight: bold\">(</span>int32<span style=\"font-weight: bold\">[</span><span style=\"color: #008080; text-decoration-color: #008080; font-weight: bold\">3</span><span style=\"font-weight: bold\">]</span>, <span style=\"color: #808000; text-decoration-color: #808000\">weak_type</span>=<span style=\"color: #00ff00; text-decoration-color: #00ff00; font-style: italic\">True</span><span style=\"font-weight: bold\">)</span>,\n",
       "                <span style=\"color: #808000; text-decoration-color: #808000\">DIG_RUBBLE_REMOVED</span>=<span style=\"color: #800080; text-decoration-color: #800080; font-weight: bold\">ShapedArray</span><span style=\"font-weight: bold\">(</span>int32<span style=\"font-weight: bold\">[</span><span style=\"color: #008080; text-decoration-color: #008080; font-weight: bold\">3</span><span style=\"font-weight: bold\">]</span>, <span style=\"color: #808000; text-decoration-color: #808000\">weak_type</span>=<span style=\"color: #00ff00; text-decoration-color: #00ff00; font-style: italic\">True</span><span style=\"font-weight: bold\">)</span>,\n",
       "                <span style=\"color: #808000; text-decoration-color: #808000\">DIG_RESOURCE_GAIN</span>=<span style=\"color: #800080; text-decoration-color: #800080; font-weight: bold\">ShapedArray</span><span style=\"font-weight: bold\">(</span>int32<span style=\"font-weight: bold\">[</span><span style=\"color: #008080; text-decoration-color: #008080; font-weight: bold\">3</span><span style=\"font-weight: bold\">]</span>, <span style=\"color: #808000; text-decoration-color: #808000\">weak_type</span>=<span style=\"color: #00ff00; text-decoration-color: #00ff00; font-style: italic\">True</span><span style=\"font-weight: bold\">)</span>,\n",
       "                <span style=\"color: #808000; text-decoration-color: #808000\">DIG_LICHEN_REMOVED</span>=<span style=\"color: #800080; text-decoration-color: #800080; font-weight: bold\">ShapedArray</span><span style=\"font-weight: bold\">(</span>int32<span style=\"font-weight: bold\">[</span><span style=\"color: #008080; text-decoration-color: #008080; font-weight: bold\">3</span><span style=\"font-weight: bold\">]</span>, <span style=\"color: #808000; text-decoration-color: #808000\">weak_type</span>=<span style=\"color: #00ff00; text-decoration-color: #00ff00; font-style: italic\">True</span><span style=\"font-weight: bold\">)</span>,\n",
       "                <span style=\"color: #808000; text-decoration-color: #808000\">SELF_DESTRUCT_COST</span>=<span style=\"color: #800080; text-decoration-color: #800080; font-weight: bold\">ShapedArray</span><span style=\"font-weight: bold\">(</span>int32<span style=\"font-weight: bold\">[</span><span style=\"color: #008080; text-decoration-color: #008080; font-weight: bold\">3</span><span style=\"font-weight: bold\">]</span>, <span style=\"color: #808000; text-decoration-color: #808000\">weak_type</span>=<span style=\"color: #00ff00; text-decoration-color: #00ff00; font-style: italic\">True</span><span style=\"font-weight: bold\">)</span>,\n",
       "                <span style=\"color: #808000; text-decoration-color: #808000\">RUBBLE_AFTER_DESTRUCTION</span>=<span style=\"color: #800080; text-decoration-color: #800080; font-weight: bold\">ShapedArray</span><span style=\"font-weight: bold\">(</span>int32<span style=\"font-weight: bold\">[</span><span style=\"color: #008080; text-decoration-color: #008080; font-weight: bold\">3</span><span style=\"font-weight: bold\">]</span>, <span style=\"color: #808000; text-decoration-color: #808000\">weak_type</span>=<span style=\"color: #00ff00; text-decoration-color: #00ff00; font-style: italic\">True</span><span style=\"font-weight: bold\">)</span>,\n",
       "                <span style=\"color: #808000; text-decoration-color: #808000\">ACTION_QUEUE_POWER_COST</span>=<span style=\"color: #800080; text-decoration-color: #800080; font-weight: bold\">ShapedArray</span><span style=\"font-weight: bold\">(</span>int32<span style=\"font-weight: bold\">[</span><span style=\"color: #008080; text-decoration-color: #008080; font-weight: bold\">3</span><span style=\"font-weight: bold\">]</span>, <span style=\"color: #808000; text-decoration-color: #808000\">weak_type</span>=<span style=\"color: #00ff00; text-decoration-color: #00ff00; font-style: italic\">True</span><span style=\"font-weight: bold\">)</span>\n",
       "            <span style=\"font-weight: bold\">)</span>\n",
       "        <span style=\"font-weight: bold\">)</span>\n",
       "    <span style=\"font-weight: bold\">)</span>,\n",
       "    <span style=\"color: #808000; text-decoration-color: #808000\">seed</span>=<span style=\"color: #800080; text-decoration-color: #800080; font-weight: bold\">ShapedArray</span><span style=\"font-weight: bold\">(</span>uint32<span style=\"font-weight: bold\">[</span><span style=\"color: #008080; text-decoration-color: #008080; font-weight: bold\">3</span><span style=\"font-weight: bold\">])</span>,\n",
       "    <span style=\"color: #808000; text-decoration-color: #808000\">rng_state</span>=<span style=\"color: #800080; text-decoration-color: #800080; font-weight: bold\">ShapedArray</span><span style=\"font-weight: bold\">(</span>uint32<span style=\"font-weight: bold\">[</span><span style=\"color: #008080; text-decoration-color: #008080; font-weight: bold\">3</span>,<span style=\"color: #008080; text-decoration-color: #008080; font-weight: bold\">2</span><span style=\"font-weight: bold\">])</span>,\n",
       "    <span style=\"color: #808000; text-decoration-color: #808000\">env_steps</span>=<span style=\"color: #800080; text-decoration-color: #800080; font-weight: bold\">ShapedArray</span><span style=\"font-weight: bold\">(</span>int16<span style=\"font-weight: bold\">[</span><span style=\"color: #008080; text-decoration-color: #008080; font-weight: bold\">3</span><span style=\"font-weight: bold\">])</span>,\n",
       "    <span style=\"color: #808000; text-decoration-color: #808000\">board</span>=<span style=\"color: #800080; text-decoration-color: #800080; font-weight: bold\">Board</span><span style=\"font-weight: bold\">(</span>\n",
       "        <span style=\"color: #808000; text-decoration-color: #808000\">seed</span>=<span style=\"color: #800080; text-decoration-color: #800080; font-weight: bold\">ShapedArray</span><span style=\"font-weight: bold\">(</span>uint32<span style=\"font-weight: bold\">[</span><span style=\"color: #008080; text-decoration-color: #008080; font-weight: bold\">3</span><span style=\"font-weight: bold\">])</span>,\n",
       "        <span style=\"color: #808000; text-decoration-color: #808000\">factories_per_team</span>=<span style=\"color: #800080; text-decoration-color: #800080; font-weight: bold\">ShapedArray</span><span style=\"font-weight: bold\">(</span>int8<span style=\"font-weight: bold\">[</span><span style=\"color: #008080; text-decoration-color: #008080; font-weight: bold\">3</span><span style=\"font-weight: bold\">])</span>,\n",
       "        <span style=\"color: #808000; text-decoration-color: #808000\">map</span>=<span style=\"color: #800080; text-decoration-color: #800080; font-weight: bold\">GameMap</span><span style=\"font-weight: bold\">(</span>\n",
       "            <span style=\"color: #808000; text-decoration-color: #808000\">rubble</span>=<span style=\"color: #800080; text-decoration-color: #800080; font-weight: bold\">ShapedArray</span><span style=\"font-weight: bold\">(</span>int8<span style=\"font-weight: bold\">[</span><span style=\"color: #008080; text-decoration-color: #008080; font-weight: bold\">3</span>,<span style=\"color: #008080; text-decoration-color: #008080; font-weight: bold\">64</span>,<span style=\"color: #008080; text-decoration-color: #008080; font-weight: bold\">64</span><span style=\"font-weight: bold\">])</span>,\n",
       "            <span style=\"color: #808000; text-decoration-color: #808000\">ice</span>=<span style=\"color: #800080; text-decoration-color: #800080; font-weight: bold\">ShapedArray</span><span style=\"font-weight: bold\">(</span>bool<span style=\"font-weight: bold\">[</span><span style=\"color: #008080; text-decoration-color: #008080; font-weight: bold\">3</span>,<span style=\"color: #008080; text-decoration-color: #008080; font-weight: bold\">64</span>,<span style=\"color: #008080; text-decoration-color: #008080; font-weight: bold\">64</span><span style=\"font-weight: bold\">])</span>,\n",
       "            <span style=\"color: #808000; text-decoration-color: #808000\">ore</span>=<span style=\"color: #800080; text-decoration-color: #800080; font-weight: bold\">ShapedArray</span><span style=\"font-weight: bold\">(</span>bool<span style=\"font-weight: bold\">[</span><span style=\"color: #008080; text-decoration-color: #008080; font-weight: bold\">3</span>,<span style=\"color: #008080; text-decoration-color: #008080; font-weight: bold\">64</span>,<span style=\"color: #008080; text-decoration-color: #008080; font-weight: bold\">64</span><span style=\"font-weight: bold\">])</span>,\n",
       "            <span style=\"color: #808000; text-decoration-color: #808000\">symmetry</span>=<span style=\"color: #800080; text-decoration-color: #800080; font-weight: bold\">ShapedArray</span><span style=\"font-weight: bold\">(</span>int8<span style=\"font-weight: bold\">[</span><span style=\"color: #008080; text-decoration-color: #008080; font-weight: bold\">3</span><span style=\"font-weight: bold\">])</span>\n",
       "        <span style=\"font-weight: bold\">)</span>,\n",
       "        <span style=\"color: #808000; text-decoration-color: #808000\">lichen</span>=<span style=\"color: #800080; text-decoration-color: #800080; font-weight: bold\">ShapedArray</span><span style=\"font-weight: bold\">(</span>int32<span style=\"font-weight: bold\">[</span><span style=\"color: #008080; text-decoration-color: #008080; font-weight: bold\">3</span>,<span style=\"color: #008080; text-decoration-color: #008080; font-weight: bold\">64</span>,<span style=\"color: #008080; text-decoration-color: #008080; font-weight: bold\">64</span><span style=\"font-weight: bold\">])</span>,\n",
       "        <span style=\"color: #808000; text-decoration-color: #808000\">lichen_strains</span>=<span style=\"color: #800080; text-decoration-color: #800080; font-weight: bold\">ShapedArray</span><span style=\"font-weight: bold\">(</span>int8<span style=\"font-weight: bold\">[</span><span style=\"color: #008080; text-decoration-color: #008080; font-weight: bold\">3</span>,<span style=\"color: #008080; text-decoration-color: #008080; font-weight: bold\">64</span>,<span style=\"color: #008080; text-decoration-color: #008080; font-weight: bold\">64</span><span style=\"font-weight: bold\">])</span>,\n",
       "        <span style=\"color: #808000; text-decoration-color: #808000\">units_map</span>=<span style=\"color: #800080; text-decoration-color: #800080; font-weight: bold\">ShapedArray</span><span style=\"font-weight: bold\">(</span>int16<span style=\"font-weight: bold\">[</span><span style=\"color: #008080; text-decoration-color: #008080; font-weight: bold\">3</span>,<span style=\"color: #008080; text-decoration-color: #008080; font-weight: bold\">64</span>,<span style=\"color: #008080; text-decoration-color: #008080; font-weight: bold\">64</span><span style=\"font-weight: bold\">])</span>,\n",
       "        <span style=\"color: #808000; text-decoration-color: #808000\">factory_map</span>=<span style=\"color: #800080; text-decoration-color: #800080; font-weight: bold\">ShapedArray</span><span style=\"font-weight: bold\">(</span>int8<span style=\"font-weight: bold\">[</span><span style=\"color: #008080; text-decoration-color: #008080; font-weight: bold\">3</span>,<span style=\"color: #008080; text-decoration-color: #008080; font-weight: bold\">64</span>,<span style=\"color: #008080; text-decoration-color: #008080; font-weight: bold\">64</span><span style=\"font-weight: bold\">])</span>,\n",
       "        <span style=\"color: #808000; text-decoration-color: #808000\">factory_occupancy_map</span>=<span style=\"color: #800080; text-decoration-color: #800080; font-weight: bold\">ShapedArray</span><span style=\"font-weight: bold\">(</span>int8<span style=\"font-weight: bold\">[</span><span style=\"color: #008080; text-decoration-color: #008080; font-weight: bold\">3</span>,<span style=\"color: #008080; text-decoration-color: #008080; font-weight: bold\">64</span>,<span style=\"color: #008080; text-decoration-color: #008080; font-weight: bold\">64</span><span style=\"font-weight: bold\">])</span>,\n",
       "        <span style=\"color: #808000; text-decoration-color: #808000\">factory_pos</span>=<span style=\"color: #800080; text-decoration-color: #800080; font-weight: bold\">ShapedArray</span><span style=\"font-weight: bold\">(</span>int8<span style=\"font-weight: bold\">[</span><span style=\"color: #008080; text-decoration-color: #008080; font-weight: bold\">3</span>,<span style=\"color: #008080; text-decoration-color: #008080; font-weight: bold\">22</span>,<span style=\"color: #008080; text-decoration-color: #008080; font-weight: bold\">2</span><span style=\"font-weight: bold\">])</span>\n",
       "    <span style=\"font-weight: bold\">)</span>,\n",
       "    <span style=\"color: #808000; text-decoration-color: #808000\">units</span>=<span style=\"color: #800080; text-decoration-color: #800080; font-weight: bold\">Unit</span><span style=\"font-weight: bold\">(</span>\n",
       "        <span style=\"color: #808000; text-decoration-color: #808000\">unit_type</span>=<span style=\"color: #800080; text-decoration-color: #800080; font-weight: bold\">ShapedArray</span><span style=\"font-weight: bold\">(</span>int8<span style=\"font-weight: bold\">[</span><span style=\"color: #008080; text-decoration-color: #008080; font-weight: bold\">3</span>,<span style=\"color: #008080; text-decoration-color: #008080; font-weight: bold\">2</span>,<span style=\"color: #008080; text-decoration-color: #008080; font-weight: bold\">200</span><span style=\"font-weight: bold\">])</span>,\n",
       "        <span style=\"color: #808000; text-decoration-color: #808000\">action_queue</span>=<span style=\"color: #800080; text-decoration-color: #800080; font-weight: bold\">ActionQueue</span><span style=\"font-weight: bold\">(</span>\n",
       "            <span style=\"color: #808000; text-decoration-color: #808000\">data</span>=<span style=\"color: #800080; text-decoration-color: #800080; font-weight: bold\">UnitAction</span><span style=\"font-weight: bold\">(</span>\n",
       "                <span style=\"color: #808000; text-decoration-color: #808000\">action_type</span>=<span style=\"color: #800080; text-decoration-color: #800080; font-weight: bold\">ShapedArray</span><span style=\"font-weight: bold\">(</span>int8<span style=\"font-weight: bold\">[</span><span style=\"color: #008080; text-decoration-color: #008080; font-weight: bold\">3</span>,<span style=\"color: #008080; text-decoration-color: #008080; font-weight: bold\">2</span>,<span style=\"color: #008080; text-decoration-color: #008080; font-weight: bold\">200</span>,<span style=\"color: #008080; text-decoration-color: #008080; font-weight: bold\">20</span><span style=\"font-weight: bold\">])</span>,\n",
       "                <span style=\"color: #808000; text-decoration-color: #808000\">direction</span>=<span style=\"color: #800080; text-decoration-color: #800080; font-weight: bold\">ShapedArray</span><span style=\"font-weight: bold\">(</span>int8<span style=\"font-weight: bold\">[</span><span style=\"color: #008080; text-decoration-color: #008080; font-weight: bold\">3</span>,<span style=\"color: #008080; text-decoration-color: #008080; font-weight: bold\">2</span>,<span style=\"color: #008080; text-decoration-color: #008080; font-weight: bold\">200</span>,<span style=\"color: #008080; text-decoration-color: #008080; font-weight: bold\">20</span><span style=\"font-weight: bold\">])</span>,\n",
       "                <span style=\"color: #808000; text-decoration-color: #808000\">resource_type</span>=<span style=\"color: #800080; text-decoration-color: #800080; font-weight: bold\">ShapedArray</span><span style=\"font-weight: bold\">(</span>int8<span style=\"font-weight: bold\">[</span><span style=\"color: #008080; text-decoration-color: #008080; font-weight: bold\">3</span>,<span style=\"color: #008080; text-decoration-color: #008080; font-weight: bold\">2</span>,<span style=\"color: #008080; text-decoration-color: #008080; font-weight: bold\">200</span>,<span style=\"color: #008080; text-decoration-color: #008080; font-weight: bold\">20</span><span style=\"font-weight: bold\">])</span>,\n",
       "                <span style=\"color: #808000; text-decoration-color: #808000\">amount</span>=<span style=\"color: #800080; text-decoration-color: #800080; font-weight: bold\">ShapedArray</span><span style=\"font-weight: bold\">(</span>int16<span style=\"font-weight: bold\">[</span><span style=\"color: #008080; text-decoration-color: #008080; font-weight: bold\">3</span>,<span style=\"color: #008080; text-decoration-color: #008080; font-weight: bold\">2</span>,<span style=\"color: #008080; text-decoration-color: #008080; font-weight: bold\">200</span>,<span style=\"color: #008080; text-decoration-color: #008080; font-weight: bold\">20</span><span style=\"font-weight: bold\">])</span>,\n",
       "                <span style=\"color: #808000; text-decoration-color: #808000\">repeat</span>=<span style=\"color: #800080; text-decoration-color: #800080; font-weight: bold\">ShapedArray</span><span style=\"font-weight: bold\">(</span>int16<span style=\"font-weight: bold\">[</span><span style=\"color: #008080; text-decoration-color: #008080; font-weight: bold\">3</span>,<span style=\"color: #008080; text-decoration-color: #008080; font-weight: bold\">2</span>,<span style=\"color: #008080; text-decoration-color: #008080; font-weight: bold\">200</span>,<span style=\"color: #008080; text-decoration-color: #008080; font-weight: bold\">20</span><span style=\"font-weight: bold\">])</span>,\n",
       "                <span style=\"color: #808000; text-decoration-color: #808000\">n</span>=<span style=\"color: #800080; text-decoration-color: #800080; font-weight: bold\">ShapedArray</span><span style=\"font-weight: bold\">(</span>int16<span style=\"font-weight: bold\">[</span><span style=\"color: #008080; text-decoration-color: #008080; font-weight: bold\">3</span>,<span style=\"color: #008080; text-decoration-color: #008080; font-weight: bold\">2</span>,<span style=\"color: #008080; text-decoration-color: #008080; font-weight: bold\">200</span>,<span style=\"color: #008080; text-decoration-color: #008080; font-weight: bold\">20</span><span style=\"font-weight: bold\">])</span>\n",
       "            <span style=\"font-weight: bold\">)</span>,\n",
       "            <span style=\"color: #808000; text-decoration-color: #808000\">front</span>=<span style=\"color: #800080; text-decoration-color: #800080; font-weight: bold\">ShapedArray</span><span style=\"font-weight: bold\">(</span>int8<span style=\"font-weight: bold\">[</span><span style=\"color: #008080; text-decoration-color: #008080; font-weight: bold\">3</span>,<span style=\"color: #008080; text-decoration-color: #008080; font-weight: bold\">2</span>,<span style=\"color: #008080; text-decoration-color: #008080; font-weight: bold\">200</span><span style=\"font-weight: bold\">])</span>,\n",
       "            <span style=\"color: #808000; text-decoration-color: #808000\">rear</span>=<span style=\"color: #800080; text-decoration-color: #800080; font-weight: bold\">ShapedArray</span><span style=\"font-weight: bold\">(</span>int8<span style=\"font-weight: bold\">[</span><span style=\"color: #008080; text-decoration-color: #008080; font-weight: bold\">3</span>,<span style=\"color: #008080; text-decoration-color: #008080; font-weight: bold\">2</span>,<span style=\"color: #008080; text-decoration-color: #008080; font-weight: bold\">200</span><span style=\"font-weight: bold\">])</span>,\n",
       "            <span style=\"color: #808000; text-decoration-color: #808000\">count</span>=<span style=\"color: #800080; text-decoration-color: #800080; font-weight: bold\">ShapedArray</span><span style=\"font-weight: bold\">(</span>int8<span style=\"font-weight: bold\">[</span><span style=\"color: #008080; text-decoration-color: #008080; font-weight: bold\">3</span>,<span style=\"color: #008080; text-decoration-color: #008080; font-weight: bold\">2</span>,<span style=\"color: #008080; text-decoration-color: #008080; font-weight: bold\">200</span><span style=\"font-weight: bold\">])</span>\n",
       "        <span style=\"font-weight: bold\">)</span>,\n",
       "        <span style=\"color: #808000; text-decoration-color: #808000\">team_id</span>=<span style=\"color: #800080; text-decoration-color: #800080; font-weight: bold\">ShapedArray</span><span style=\"font-weight: bold\">(</span>int8<span style=\"font-weight: bold\">[</span><span style=\"color: #008080; text-decoration-color: #008080; font-weight: bold\">3</span>,<span style=\"color: #008080; text-decoration-color: #008080; font-weight: bold\">2</span>,<span style=\"color: #008080; text-decoration-color: #008080; font-weight: bold\">200</span><span style=\"font-weight: bold\">])</span>,\n",
       "        <span style=\"color: #808000; text-decoration-color: #808000\">unit_id</span>=<span style=\"color: #800080; text-decoration-color: #800080; font-weight: bold\">ShapedArray</span><span style=\"font-weight: bold\">(</span>int16<span style=\"font-weight: bold\">[</span><span style=\"color: #008080; text-decoration-color: #008080; font-weight: bold\">3</span>,<span style=\"color: #008080; text-decoration-color: #008080; font-weight: bold\">2</span>,<span style=\"color: #008080; text-decoration-color: #008080; font-weight: bold\">200</span><span style=\"font-weight: bold\">])</span>,\n",
       "        <span style=\"color: #808000; text-decoration-color: #808000\">pos</span>=<span style=\"color: #800080; text-decoration-color: #800080; font-weight: bold\">Position</span><span style=\"font-weight: bold\">(</span><span style=\"color: #808000; text-decoration-color: #808000\">pos</span>=<span style=\"color: #800080; text-decoration-color: #800080; font-weight: bold\">ShapedArray</span><span style=\"font-weight: bold\">(</span>int8<span style=\"font-weight: bold\">[</span><span style=\"color: #008080; text-decoration-color: #008080; font-weight: bold\">3</span>,<span style=\"color: #008080; text-decoration-color: #008080; font-weight: bold\">2</span>,<span style=\"color: #008080; text-decoration-color: #008080; font-weight: bold\">200</span>,<span style=\"color: #008080; text-decoration-color: #008080; font-weight: bold\">2</span><span style=\"font-weight: bold\">]))</span>,\n",
       "        <span style=\"color: #808000; text-decoration-color: #808000\">cargo</span>=<span style=\"color: #800080; text-decoration-color: #800080; font-weight: bold\">UnitCargo</span><span style=\"font-weight: bold\">(</span><span style=\"color: #808000; text-decoration-color: #808000\">stock</span>=<span style=\"color: #800080; text-decoration-color: #800080; font-weight: bold\">ShapedArray</span><span style=\"font-weight: bold\">(</span>int32<span style=\"font-weight: bold\">[</span><span style=\"color: #008080; text-decoration-color: #008080; font-weight: bold\">3</span>,<span style=\"color: #008080; text-decoration-color: #008080; font-weight: bold\">2</span>,<span style=\"color: #008080; text-decoration-color: #008080; font-weight: bold\">200</span>,<span style=\"color: #008080; text-decoration-color: #008080; font-weight: bold\">4</span><span style=\"font-weight: bold\">]))</span>,\n",
       "        <span style=\"color: #808000; text-decoration-color: #808000\">power</span>=<span style=\"color: #800080; text-decoration-color: #800080; font-weight: bold\">ShapedArray</span><span style=\"font-weight: bold\">(</span>int32<span style=\"font-weight: bold\">[</span><span style=\"color: #008080; text-decoration-color: #008080; font-weight: bold\">3</span>,<span style=\"color: #008080; text-decoration-color: #008080; font-weight: bold\">2</span>,<span style=\"color: #008080; text-decoration-color: #008080; font-weight: bold\">200</span><span style=\"font-weight: bold\">])</span>\n",
       "    <span style=\"font-weight: bold\">)</span>,\n",
       "    <span style=\"color: #808000; text-decoration-color: #808000\">unit_id2idx</span>=<span style=\"color: #800080; text-decoration-color: #800080; font-weight: bold\">ShapedArray</span><span style=\"font-weight: bold\">(</span>int16<span style=\"font-weight: bold\">[</span><span style=\"color: #008080; text-decoration-color: #008080; font-weight: bold\">3</span>,<span style=\"color: #008080; text-decoration-color: #008080; font-weight: bold\">2000</span>,<span style=\"color: #008080; text-decoration-color: #008080; font-weight: bold\">2</span><span style=\"font-weight: bold\">])</span>,\n",
       "    <span style=\"color: #808000; text-decoration-color: #808000\">n_units</span>=<span style=\"color: #800080; text-decoration-color: #800080; font-weight: bold\">ShapedArray</span><span style=\"font-weight: bold\">(</span>int16<span style=\"font-weight: bold\">[</span><span style=\"color: #008080; text-decoration-color: #008080; font-weight: bold\">3</span>,<span style=\"color: #008080; text-decoration-color: #008080; font-weight: bold\">2</span><span style=\"font-weight: bold\">])</span>,\n",
       "    <span style=\"color: #808000; text-decoration-color: #808000\">factories</span>=<span style=\"color: #800080; text-decoration-color: #800080; font-weight: bold\">Factory</span><span style=\"font-weight: bold\">(</span>\n",
       "        <span style=\"color: #808000; text-decoration-color: #808000\">team_id</span>=<span style=\"color: #800080; text-decoration-color: #800080; font-weight: bold\">ShapedArray</span><span style=\"font-weight: bold\">(</span>int8<span style=\"font-weight: bold\">[</span><span style=\"color: #008080; text-decoration-color: #008080; font-weight: bold\">3</span>,<span style=\"color: #008080; text-decoration-color: #008080; font-weight: bold\">2</span>,<span style=\"color: #008080; text-decoration-color: #008080; font-weight: bold\">11</span><span style=\"font-weight: bold\">])</span>,\n",
       "        <span style=\"color: #808000; text-decoration-color: #808000\">unit_id</span>=<span style=\"color: #800080; text-decoration-color: #800080; font-weight: bold\">ShapedArray</span><span style=\"font-weight: bold\">(</span>int8<span style=\"font-weight: bold\">[</span><span style=\"color: #008080; text-decoration-color: #008080; font-weight: bold\">3</span>,<span style=\"color: #008080; text-decoration-color: #008080; font-weight: bold\">2</span>,<span style=\"color: #008080; text-decoration-color: #008080; font-weight: bold\">11</span><span style=\"font-weight: bold\">])</span>,\n",
       "        <span style=\"color: #808000; text-decoration-color: #808000\">pos</span>=<span style=\"color: #800080; text-decoration-color: #800080; font-weight: bold\">Position</span><span style=\"font-weight: bold\">(</span><span style=\"color: #808000; text-decoration-color: #808000\">pos</span>=<span style=\"color: #800080; text-decoration-color: #800080; font-weight: bold\">ShapedArray</span><span style=\"font-weight: bold\">(</span>int8<span style=\"font-weight: bold\">[</span><span style=\"color: #008080; text-decoration-color: #008080; font-weight: bold\">3</span>,<span style=\"color: #008080; text-decoration-color: #008080; font-weight: bold\">2</span>,<span style=\"color: #008080; text-decoration-color: #008080; font-weight: bold\">11</span>,<span style=\"color: #008080; text-decoration-color: #008080; font-weight: bold\">2</span><span style=\"font-weight: bold\">]))</span>,\n",
       "        <span style=\"color: #808000; text-decoration-color: #808000\">power</span>=<span style=\"color: #800080; text-decoration-color: #800080; font-weight: bold\">ShapedArray</span><span style=\"font-weight: bold\">(</span>int32<span style=\"font-weight: bold\">[</span><span style=\"color: #008080; text-decoration-color: #008080; font-weight: bold\">3</span>,<span style=\"color: #008080; text-decoration-color: #008080; font-weight: bold\">2</span>,<span style=\"color: #008080; text-decoration-color: #008080; font-weight: bold\">11</span><span style=\"font-weight: bold\">])</span>,\n",
       "        <span style=\"color: #808000; text-decoration-color: #808000\">cargo</span>=<span style=\"color: #800080; text-decoration-color: #800080; font-weight: bold\">UnitCargo</span><span style=\"font-weight: bold\">(</span><span style=\"color: #808000; text-decoration-color: #808000\">stock</span>=<span style=\"color: #800080; text-decoration-color: #800080; font-weight: bold\">ShapedArray</span><span style=\"font-weight: bold\">(</span>int32<span style=\"font-weight: bold\">[</span><span style=\"color: #008080; text-decoration-color: #008080; font-weight: bold\">3</span>,<span style=\"color: #008080; text-decoration-color: #008080; font-weight: bold\">2</span>,<span style=\"color: #008080; text-decoration-color: #008080; font-weight: bold\">11</span>,<span style=\"color: #008080; text-decoration-color: #008080; font-weight: bold\">4</span><span style=\"font-weight: bold\">]))</span>\n",
       "    <span style=\"font-weight: bold\">)</span>,\n",
       "    <span style=\"color: #808000; text-decoration-color: #808000\">factory_id2idx</span>=<span style=\"color: #800080; text-decoration-color: #800080; font-weight: bold\">ShapedArray</span><span style=\"font-weight: bold\">(</span>int8<span style=\"font-weight: bold\">[</span><span style=\"color: #008080; text-decoration-color: #008080; font-weight: bold\">3</span>,<span style=\"color: #008080; text-decoration-color: #008080; font-weight: bold\">22</span>,<span style=\"color: #008080; text-decoration-color: #008080; font-weight: bold\">2</span><span style=\"font-weight: bold\">])</span>,\n",
       "    <span style=\"color: #808000; text-decoration-color: #808000\">n_factories</span>=<span style=\"color: #800080; text-decoration-color: #800080; font-weight: bold\">ShapedArray</span><span style=\"font-weight: bold\">(</span>int8<span style=\"font-weight: bold\">[</span><span style=\"color: #008080; text-decoration-color: #008080; font-weight: bold\">3</span>,<span style=\"color: #008080; text-decoration-color: #008080; font-weight: bold\">2</span><span style=\"font-weight: bold\">])</span>,\n",
       "    <span style=\"color: #808000; text-decoration-color: #808000\">teams</span>=<span style=\"color: #800080; text-decoration-color: #800080; font-weight: bold\">Team</span><span style=\"font-weight: bold\">(</span>\n",
       "        <span style=\"color: #808000; text-decoration-color: #808000\">team_id</span>=<span style=\"color: #800080; text-decoration-color: #800080; font-weight: bold\">ShapedArray</span><span style=\"font-weight: bold\">(</span>int8<span style=\"font-weight: bold\">[</span><span style=\"color: #008080; text-decoration-color: #008080; font-weight: bold\">3</span>,<span style=\"color: #008080; text-decoration-color: #008080; font-weight: bold\">2</span><span style=\"font-weight: bold\">])</span>,\n",
       "        <span style=\"color: #808000; text-decoration-color: #808000\">faction</span>=<span style=\"color: #800080; text-decoration-color: #800080; font-weight: bold\">ShapedArray</span><span style=\"font-weight: bold\">(</span>int8<span style=\"font-weight: bold\">[</span><span style=\"color: #008080; text-decoration-color: #008080; font-weight: bold\">3</span>,<span style=\"color: #008080; text-decoration-color: #008080; font-weight: bold\">2</span><span style=\"font-weight: bold\">])</span>,\n",
       "        <span style=\"color: #808000; text-decoration-color: #808000\">init_water</span>=<span style=\"color: #800080; text-decoration-color: #800080; font-weight: bold\">ShapedArray</span><span style=\"font-weight: bold\">(</span>int32<span style=\"font-weight: bold\">[</span><span style=\"color: #008080; text-decoration-color: #008080; font-weight: bold\">3</span>,<span style=\"color: #008080; text-decoration-color: #008080; font-weight: bold\">2</span><span style=\"font-weight: bold\">])</span>,\n",
       "        <span style=\"color: #808000; text-decoration-color: #808000\">init_metal</span>=<span style=\"color: #800080; text-decoration-color: #800080; font-weight: bold\">ShapedArray</span><span style=\"font-weight: bold\">(</span>int32<span style=\"font-weight: bold\">[</span><span style=\"color: #008080; text-decoration-color: #008080; font-weight: bold\">3</span>,<span style=\"color: #008080; text-decoration-color: #008080; font-weight: bold\">2</span><span style=\"font-weight: bold\">])</span>,\n",
       "        <span style=\"color: #808000; text-decoration-color: #808000\">factories_to_place</span>=<span style=\"color: #800080; text-decoration-color: #800080; font-weight: bold\">ShapedArray</span><span style=\"font-weight: bold\">(</span>int32<span style=\"font-weight: bold\">[</span><span style=\"color: #008080; text-decoration-color: #008080; font-weight: bold\">3</span>,<span style=\"color: #008080; text-decoration-color: #008080; font-weight: bold\">2</span><span style=\"font-weight: bold\">])</span>,\n",
       "        <span style=\"color: #808000; text-decoration-color: #808000\">factory_strains</span>=<span style=\"color: #800080; text-decoration-color: #800080; font-weight: bold\">ShapedArray</span><span style=\"font-weight: bold\">(</span>int8<span style=\"font-weight: bold\">[</span><span style=\"color: #008080; text-decoration-color: #008080; font-weight: bold\">3</span>,<span style=\"color: #008080; text-decoration-color: #008080; font-weight: bold\">2</span>,<span style=\"color: #008080; text-decoration-color: #008080; font-weight: bold\">11</span><span style=\"font-weight: bold\">])</span>,\n",
       "        <span style=\"color: #808000; text-decoration-color: #808000\">n_factory</span>=<span style=\"color: #800080; text-decoration-color: #800080; font-weight: bold\">ShapedArray</span><span style=\"font-weight: bold\">(</span>int8<span style=\"font-weight: bold\">[</span><span style=\"color: #008080; text-decoration-color: #008080; font-weight: bold\">3</span>,<span style=\"color: #008080; text-decoration-color: #008080; font-weight: bold\">2</span><span style=\"font-weight: bold\">])</span>,\n",
       "        <span style=\"color: #808000; text-decoration-color: #808000\">bid</span>=<span style=\"color: #800080; text-decoration-color: #800080; font-weight: bold\">ShapedArray</span><span style=\"font-weight: bold\">(</span>int32<span style=\"font-weight: bold\">[</span><span style=\"color: #008080; text-decoration-color: #008080; font-weight: bold\">3</span>,<span style=\"color: #008080; text-decoration-color: #008080; font-weight: bold\">2</span><span style=\"font-weight: bold\">])</span>\n",
       "    <span style=\"font-weight: bold\">)</span>,\n",
       "    <span style=\"color: #808000; text-decoration-color: #808000\">global_id</span>=<span style=\"color: #800080; text-decoration-color: #800080; font-weight: bold\">ShapedArray</span><span style=\"font-weight: bold\">(</span>int16<span style=\"font-weight: bold\">[</span><span style=\"color: #008080; text-decoration-color: #008080; font-weight: bold\">3</span><span style=\"font-weight: bold\">])</span>,\n",
       "    <span style=\"color: #808000; text-decoration-color: #808000\">place_first</span>=<span style=\"color: #800080; text-decoration-color: #800080; font-weight: bold\">ShapedArray</span><span style=\"font-weight: bold\">(</span>int8<span style=\"font-weight: bold\">[</span><span style=\"color: #008080; text-decoration-color: #008080; font-weight: bold\">3</span><span style=\"font-weight: bold\">])</span>\n",
       "<span style=\"font-weight: bold\">)</span>\n",
       "</pre>\n"
      ],
      "text/plain": [
       "\u001b[1;35mState\u001b[0m\u001b[1m(\u001b[0m\n",
       "    \u001b[33menv_cfg\u001b[0m=\u001b[1;35mEnvConfig\u001b[0m\u001b[1m(\u001b[0m\n",
       "        \u001b[33mmax_episode_length\u001b[0m=\u001b[1;35mShapedArray\u001b[0m\u001b[1m(\u001b[0mint32\u001b[1m[\u001b[0m\u001b[1;36m3\u001b[0m\u001b[1m]\u001b[0m, \u001b[33mweak_type\u001b[0m=\u001b[3;92mTrue\u001b[0m\u001b[1m)\u001b[0m,\n",
       "        \u001b[33mmap_size\u001b[0m=\u001b[1;35mShapedArray\u001b[0m\u001b[1m(\u001b[0mint32\u001b[1m[\u001b[0m\u001b[1;36m3\u001b[0m\u001b[1m]\u001b[0m, \u001b[33mweak_type\u001b[0m=\u001b[3;92mTrue\u001b[0m\u001b[1m)\u001b[0m,\n",
       "        \u001b[33mverbose\u001b[0m=\u001b[1;35mShapedArray\u001b[0m\u001b[1m(\u001b[0mint32\u001b[1m[\u001b[0m\u001b[1;36m3\u001b[0m\u001b[1m]\u001b[0m, \u001b[33mweak_type\u001b[0m=\u001b[3;92mTrue\u001b[0m\u001b[1m)\u001b[0m,\n",
       "        \u001b[33mvalidate_action_space\u001b[0m=\u001b[1;35mShapedArray\u001b[0m\u001b[1m(\u001b[0mbool\u001b[1m[\u001b[0m\u001b[1;36m3\u001b[0m\u001b[1m]\u001b[0m\u001b[1m)\u001b[0m,\n",
       "        \u001b[33mmax_transfer_amount\u001b[0m=\u001b[1;35mShapedArray\u001b[0m\u001b[1m(\u001b[0mint32\u001b[1m[\u001b[0m\u001b[1;36m3\u001b[0m\u001b[1m]\u001b[0m, \u001b[33mweak_type\u001b[0m=\u001b[3;92mTrue\u001b[0m\u001b[1m)\u001b[0m,\n",
       "        \u001b[33mMIN_FACTORIES\u001b[0m=\u001b[1;35mShapedArray\u001b[0m\u001b[1m(\u001b[0mint32\u001b[1m[\u001b[0m\u001b[1;36m3\u001b[0m\u001b[1m]\u001b[0m, \u001b[33mweak_type\u001b[0m=\u001b[3;92mTrue\u001b[0m\u001b[1m)\u001b[0m,\n",
       "        \u001b[33mMAX_FACTORIES\u001b[0m=\u001b[1;35mShapedArray\u001b[0m\u001b[1m(\u001b[0mint32\u001b[1m[\u001b[0m\u001b[1;36m3\u001b[0m\u001b[1m]\u001b[0m, \u001b[33mweak_type\u001b[0m=\u001b[3;92mTrue\u001b[0m\u001b[1m)\u001b[0m,\n",
       "        \u001b[33mCYCLE_LENGTH\u001b[0m=\u001b[1;35mShapedArray\u001b[0m\u001b[1m(\u001b[0mint32\u001b[1m[\u001b[0m\u001b[1;36m3\u001b[0m\u001b[1m]\u001b[0m, \u001b[33mweak_type\u001b[0m=\u001b[3;92mTrue\u001b[0m\u001b[1m)\u001b[0m,\n",
       "        \u001b[33mDAY_LENGTH\u001b[0m=\u001b[1;35mShapedArray\u001b[0m\u001b[1m(\u001b[0mint32\u001b[1m[\u001b[0m\u001b[1;36m3\u001b[0m\u001b[1m]\u001b[0m, \u001b[33mweak_type\u001b[0m=\u001b[3;92mTrue\u001b[0m\u001b[1m)\u001b[0m,\n",
       "        \u001b[33mUNIT_ACTION_QUEUE_SIZE\u001b[0m=\u001b[1;35mShapedArray\u001b[0m\u001b[1m(\u001b[0mint32\u001b[1m[\u001b[0m\u001b[1;36m3\u001b[0m\u001b[1m]\u001b[0m, \u001b[33mweak_type\u001b[0m=\u001b[3;92mTrue\u001b[0m\u001b[1m)\u001b[0m,\n",
       "        \u001b[33mMAX_RUBBLE\u001b[0m=\u001b[1;35mShapedArray\u001b[0m\u001b[1m(\u001b[0mint32\u001b[1m[\u001b[0m\u001b[1;36m3\u001b[0m\u001b[1m]\u001b[0m, \u001b[33mweak_type\u001b[0m=\u001b[3;92mTrue\u001b[0m\u001b[1m)\u001b[0m,\n",
       "        \u001b[33mFACTORY_RUBBLE_AFTER_DESTRUCTION\u001b[0m=\u001b[1;35mShapedArray\u001b[0m\u001b[1m(\u001b[0mint32\u001b[1m[\u001b[0m\u001b[1;36m3\u001b[0m\u001b[1m]\u001b[0m, \u001b[33mweak_type\u001b[0m=\u001b[3;92mTrue\u001b[0m\u001b[1m)\u001b[0m,\n",
       "        \u001b[33mINIT_WATER_METAL_PER_FACTORY\u001b[0m=\u001b[1;35mShapedArray\u001b[0m\u001b[1m(\u001b[0mint32\u001b[1m[\u001b[0m\u001b[1;36m3\u001b[0m\u001b[1m]\u001b[0m, \u001b[33mweak_type\u001b[0m=\u001b[3;92mTrue\u001b[0m\u001b[1m)\u001b[0m,\n",
       "        \u001b[33mINIT_POWER_PER_FACTORY\u001b[0m=\u001b[1;35mShapedArray\u001b[0m\u001b[1m(\u001b[0mint32\u001b[1m[\u001b[0m\u001b[1;36m3\u001b[0m\u001b[1m]\u001b[0m, \u001b[33mweak_type\u001b[0m=\u001b[3;92mTrue\u001b[0m\u001b[1m)\u001b[0m,\n",
       "        \u001b[33mMIN_LICHEN_TO_SPREAD\u001b[0m=\u001b[1;35mShapedArray\u001b[0m\u001b[1m(\u001b[0mint32\u001b[1m[\u001b[0m\u001b[1;36m3\u001b[0m\u001b[1m]\u001b[0m, \u001b[33mweak_type\u001b[0m=\u001b[3;92mTrue\u001b[0m\u001b[1m)\u001b[0m,\n",
       "        \u001b[33mLICHEN_LOST_WITHOUT_WATER\u001b[0m=\u001b[1;35mShapedArray\u001b[0m\u001b[1m(\u001b[0mint32\u001b[1m[\u001b[0m\u001b[1;36m3\u001b[0m\u001b[1m]\u001b[0m, \u001b[33mweak_type\u001b[0m=\u001b[3;92mTrue\u001b[0m\u001b[1m)\u001b[0m,\n",
       "        \u001b[33mLICHEN_GAINED_WITH_WATER\u001b[0m=\u001b[1;35mShapedArray\u001b[0m\u001b[1m(\u001b[0mint32\u001b[1m[\u001b[0m\u001b[1;36m3\u001b[0m\u001b[1m]\u001b[0m, \u001b[33mweak_type\u001b[0m=\u001b[3;92mTrue\u001b[0m\u001b[1m)\u001b[0m,\n",
       "        \u001b[33mMAX_LICHEN_PER_TILE\u001b[0m=\u001b[1;35mShapedArray\u001b[0m\u001b[1m(\u001b[0mint32\u001b[1m[\u001b[0m\u001b[1;36m3\u001b[0m\u001b[1m]\u001b[0m, \u001b[33mweak_type\u001b[0m=\u001b[3;92mTrue\u001b[0m\u001b[1m)\u001b[0m,\n",
       "        \u001b[33mPOWER_PER_CONNECTED_LICHEN_TILE\u001b[0m=\u001b[1;35mShapedArray\u001b[0m\u001b[1m(\u001b[0mint32\u001b[1m[\u001b[0m\u001b[1;36m3\u001b[0m\u001b[1m]\u001b[0m, \u001b[33mweak_type\u001b[0m=\u001b[3;92mTrue\u001b[0m\u001b[1m)\u001b[0m,\n",
       "        \u001b[33mLICHEN_WATERING_COST_FACTOR\u001b[0m=\u001b[1;35mShapedArray\u001b[0m\u001b[1m(\u001b[0mint32\u001b[1m[\u001b[0m\u001b[1;36m3\u001b[0m\u001b[1m]\u001b[0m, \u001b[33mweak_type\u001b[0m=\u001b[3;92mTrue\u001b[0m\u001b[1m)\u001b[0m,\n",
       "        \u001b[33mBIDDING_SYSTEM\u001b[0m=\u001b[1;35mShapedArray\u001b[0m\u001b[1m(\u001b[0mbool\u001b[1m[\u001b[0m\u001b[1;36m3\u001b[0m\u001b[1m]\u001b[0m\u001b[1m)\u001b[0m,\n",
       "        \u001b[33mFACTORY_PROCESSING_RATE_WATER\u001b[0m=\u001b[1;35mShapedArray\u001b[0m\u001b[1m(\u001b[0mint32\u001b[1m[\u001b[0m\u001b[1;36m3\u001b[0m\u001b[1m]\u001b[0m, \u001b[33mweak_type\u001b[0m=\u001b[3;92mTrue\u001b[0m\u001b[1m)\u001b[0m,\n",
       "        \u001b[33mICE_WATER_RATIO\u001b[0m=\u001b[1;35mShapedArray\u001b[0m\u001b[1m(\u001b[0mint32\u001b[1m[\u001b[0m\u001b[1;36m3\u001b[0m\u001b[1m]\u001b[0m, \u001b[33mweak_type\u001b[0m=\u001b[3;92mTrue\u001b[0m\u001b[1m)\u001b[0m,\n",
       "        \u001b[33mFACTORY_PROCESSING_RATE_METAL\u001b[0m=\u001b[1;35mShapedArray\u001b[0m\u001b[1m(\u001b[0mint32\u001b[1m[\u001b[0m\u001b[1;36m3\u001b[0m\u001b[1m]\u001b[0m, \u001b[33mweak_type\u001b[0m=\u001b[3;92mTrue\u001b[0m\u001b[1m)\u001b[0m,\n",
       "        \u001b[33mORE_METAL_RATIO\u001b[0m=\u001b[1;35mShapedArray\u001b[0m\u001b[1m(\u001b[0mint32\u001b[1m[\u001b[0m\u001b[1;36m3\u001b[0m\u001b[1m]\u001b[0m, \u001b[33mweak_type\u001b[0m=\u001b[3;92mTrue\u001b[0m\u001b[1m)\u001b[0m,\n",
       "        \u001b[33mFACTORY_CHARGE\u001b[0m=\u001b[1;35mShapedArray\u001b[0m\u001b[1m(\u001b[0mint32\u001b[1m[\u001b[0m\u001b[1;36m3\u001b[0m\u001b[1m]\u001b[0m, \u001b[33mweak_type\u001b[0m=\u001b[3;92mTrue\u001b[0m\u001b[1m)\u001b[0m,\n",
       "        \u001b[33mFACTORY_WATER_CONSUMPTION\u001b[0m=\u001b[1;35mShapedArray\u001b[0m\u001b[1m(\u001b[0mint32\u001b[1m[\u001b[0m\u001b[1;36m3\u001b[0m\u001b[1m]\u001b[0m, \u001b[33mweak_type\u001b[0m=\u001b[3;92mTrue\u001b[0m\u001b[1m)\u001b[0m,\n",
       "        \u001b[33mPOWER_LOSS_FACTOR\u001b[0m=\u001b[1;35mShapedArray\u001b[0m\u001b[1m(\u001b[0mfloat32\u001b[1m[\u001b[0m\u001b[1;36m3\u001b[0m\u001b[1m]\u001b[0m, \u001b[33mweak_type\u001b[0m=\u001b[3;92mTrue\u001b[0m\u001b[1m)\u001b[0m,\n",
       "        \u001b[33mROBOTS\u001b[0m=\u001b[1m(\u001b[0m\n",
       "            \u001b[1;35mUnitConfig\u001b[0m\u001b[1m(\u001b[0m\n",
       "                \u001b[33mMETAL_COST\u001b[0m=\u001b[1;35mShapedArray\u001b[0m\u001b[1m(\u001b[0mint32\u001b[1m[\u001b[0m\u001b[1;36m3\u001b[0m\u001b[1m]\u001b[0m, \u001b[33mweak_type\u001b[0m=\u001b[3;92mTrue\u001b[0m\u001b[1m)\u001b[0m,\n",
       "                \u001b[33mPOWER_COST\u001b[0m=\u001b[1;35mShapedArray\u001b[0m\u001b[1m(\u001b[0mint32\u001b[1m[\u001b[0m\u001b[1;36m3\u001b[0m\u001b[1m]\u001b[0m, \u001b[33mweak_type\u001b[0m=\u001b[3;92mTrue\u001b[0m\u001b[1m)\u001b[0m,\n",
       "                \u001b[33mCARGO_SPACE\u001b[0m=\u001b[1;35mShapedArray\u001b[0m\u001b[1m(\u001b[0mint32\u001b[1m[\u001b[0m\u001b[1;36m3\u001b[0m\u001b[1m]\u001b[0m, \u001b[33mweak_type\u001b[0m=\u001b[3;92mTrue\u001b[0m\u001b[1m)\u001b[0m,\n",
       "                \u001b[33mBATTERY_CAPACITY\u001b[0m=\u001b[1;35mShapedArray\u001b[0m\u001b[1m(\u001b[0mint32\u001b[1m[\u001b[0m\u001b[1;36m3\u001b[0m\u001b[1m]\u001b[0m, \u001b[33mweak_type\u001b[0m=\u001b[3;92mTrue\u001b[0m\u001b[1m)\u001b[0m,\n",
       "                \u001b[33mCHARGE\u001b[0m=\u001b[1;35mShapedArray\u001b[0m\u001b[1m(\u001b[0mint32\u001b[1m[\u001b[0m\u001b[1;36m3\u001b[0m\u001b[1m]\u001b[0m, \u001b[33mweak_type\u001b[0m=\u001b[3;92mTrue\u001b[0m\u001b[1m)\u001b[0m,\n",
       "                \u001b[33mINIT_POWER\u001b[0m=\u001b[1;35mShapedArray\u001b[0m\u001b[1m(\u001b[0mint32\u001b[1m[\u001b[0m\u001b[1;36m3\u001b[0m\u001b[1m]\u001b[0m, \u001b[33mweak_type\u001b[0m=\u001b[3;92mTrue\u001b[0m\u001b[1m)\u001b[0m,\n",
       "                \u001b[33mMOVE_COST\u001b[0m=\u001b[1;35mShapedArray\u001b[0m\u001b[1m(\u001b[0mint32\u001b[1m[\u001b[0m\u001b[1;36m3\u001b[0m\u001b[1m]\u001b[0m, \u001b[33mweak_type\u001b[0m=\u001b[3;92mTrue\u001b[0m\u001b[1m)\u001b[0m,\n",
       "                \u001b[33mRUBBLE_MOVEMENT_COST\u001b[0m=\u001b[1;35mShapedArray\u001b[0m\u001b[1m(\u001b[0mfloat32\u001b[1m[\u001b[0m\u001b[1;36m3\u001b[0m\u001b[1m]\u001b[0m, \u001b[33mweak_type\u001b[0m=\u001b[3;92mTrue\u001b[0m\u001b[1m)\u001b[0m,\n",
       "                \u001b[33mDIG_COST\u001b[0m=\u001b[1;35mShapedArray\u001b[0m\u001b[1m(\u001b[0mint32\u001b[1m[\u001b[0m\u001b[1;36m3\u001b[0m\u001b[1m]\u001b[0m, \u001b[33mweak_type\u001b[0m=\u001b[3;92mTrue\u001b[0m\u001b[1m)\u001b[0m,\n",
       "                \u001b[33mDIG_RUBBLE_REMOVED\u001b[0m=\u001b[1;35mShapedArray\u001b[0m\u001b[1m(\u001b[0mint32\u001b[1m[\u001b[0m\u001b[1;36m3\u001b[0m\u001b[1m]\u001b[0m, \u001b[33mweak_type\u001b[0m=\u001b[3;92mTrue\u001b[0m\u001b[1m)\u001b[0m,\n",
       "                \u001b[33mDIG_RESOURCE_GAIN\u001b[0m=\u001b[1;35mShapedArray\u001b[0m\u001b[1m(\u001b[0mint32\u001b[1m[\u001b[0m\u001b[1;36m3\u001b[0m\u001b[1m]\u001b[0m, \u001b[33mweak_type\u001b[0m=\u001b[3;92mTrue\u001b[0m\u001b[1m)\u001b[0m,\n",
       "                \u001b[33mDIG_LICHEN_REMOVED\u001b[0m=\u001b[1;35mShapedArray\u001b[0m\u001b[1m(\u001b[0mint32\u001b[1m[\u001b[0m\u001b[1;36m3\u001b[0m\u001b[1m]\u001b[0m, \u001b[33mweak_type\u001b[0m=\u001b[3;92mTrue\u001b[0m\u001b[1m)\u001b[0m,\n",
       "                \u001b[33mSELF_DESTRUCT_COST\u001b[0m=\u001b[1;35mShapedArray\u001b[0m\u001b[1m(\u001b[0mint32\u001b[1m[\u001b[0m\u001b[1;36m3\u001b[0m\u001b[1m]\u001b[0m, \u001b[33mweak_type\u001b[0m=\u001b[3;92mTrue\u001b[0m\u001b[1m)\u001b[0m,\n",
       "                \u001b[33mRUBBLE_AFTER_DESTRUCTION\u001b[0m=\u001b[1;35mShapedArray\u001b[0m\u001b[1m(\u001b[0mint32\u001b[1m[\u001b[0m\u001b[1;36m3\u001b[0m\u001b[1m]\u001b[0m, \u001b[33mweak_type\u001b[0m=\u001b[3;92mTrue\u001b[0m\u001b[1m)\u001b[0m,\n",
       "                \u001b[33mACTION_QUEUE_POWER_COST\u001b[0m=\u001b[1;35mShapedArray\u001b[0m\u001b[1m(\u001b[0mint32\u001b[1m[\u001b[0m\u001b[1;36m3\u001b[0m\u001b[1m]\u001b[0m, \u001b[33mweak_type\u001b[0m=\u001b[3;92mTrue\u001b[0m\u001b[1m)\u001b[0m\n",
       "            \u001b[1m)\u001b[0m,\n",
       "            \u001b[1;35mUnitConfig\u001b[0m\u001b[1m(\u001b[0m\n",
       "                \u001b[33mMETAL_COST\u001b[0m=\u001b[1;35mShapedArray\u001b[0m\u001b[1m(\u001b[0mint32\u001b[1m[\u001b[0m\u001b[1;36m3\u001b[0m\u001b[1m]\u001b[0m, \u001b[33mweak_type\u001b[0m=\u001b[3;92mTrue\u001b[0m\u001b[1m)\u001b[0m,\n",
       "                \u001b[33mPOWER_COST\u001b[0m=\u001b[1;35mShapedArray\u001b[0m\u001b[1m(\u001b[0mint32\u001b[1m[\u001b[0m\u001b[1;36m3\u001b[0m\u001b[1m]\u001b[0m, \u001b[33mweak_type\u001b[0m=\u001b[3;92mTrue\u001b[0m\u001b[1m)\u001b[0m,\n",
       "                \u001b[33mCARGO_SPACE\u001b[0m=\u001b[1;35mShapedArray\u001b[0m\u001b[1m(\u001b[0mint32\u001b[1m[\u001b[0m\u001b[1;36m3\u001b[0m\u001b[1m]\u001b[0m, \u001b[33mweak_type\u001b[0m=\u001b[3;92mTrue\u001b[0m\u001b[1m)\u001b[0m,\n",
       "                \u001b[33mBATTERY_CAPACITY\u001b[0m=\u001b[1;35mShapedArray\u001b[0m\u001b[1m(\u001b[0mint32\u001b[1m[\u001b[0m\u001b[1;36m3\u001b[0m\u001b[1m]\u001b[0m, \u001b[33mweak_type\u001b[0m=\u001b[3;92mTrue\u001b[0m\u001b[1m)\u001b[0m,\n",
       "                \u001b[33mCHARGE\u001b[0m=\u001b[1;35mShapedArray\u001b[0m\u001b[1m(\u001b[0mint32\u001b[1m[\u001b[0m\u001b[1;36m3\u001b[0m\u001b[1m]\u001b[0m, \u001b[33mweak_type\u001b[0m=\u001b[3;92mTrue\u001b[0m\u001b[1m)\u001b[0m,\n",
       "                \u001b[33mINIT_POWER\u001b[0m=\u001b[1;35mShapedArray\u001b[0m\u001b[1m(\u001b[0mint32\u001b[1m[\u001b[0m\u001b[1;36m3\u001b[0m\u001b[1m]\u001b[0m, \u001b[33mweak_type\u001b[0m=\u001b[3;92mTrue\u001b[0m\u001b[1m)\u001b[0m,\n",
       "                \u001b[33mMOVE_COST\u001b[0m=\u001b[1;35mShapedArray\u001b[0m\u001b[1m(\u001b[0mint32\u001b[1m[\u001b[0m\u001b[1;36m3\u001b[0m\u001b[1m]\u001b[0m, \u001b[33mweak_type\u001b[0m=\u001b[3;92mTrue\u001b[0m\u001b[1m)\u001b[0m,\n",
       "                \u001b[33mRUBBLE_MOVEMENT_COST\u001b[0m=\u001b[1;35mShapedArray\u001b[0m\u001b[1m(\u001b[0mfloat32\u001b[1m[\u001b[0m\u001b[1;36m3\u001b[0m\u001b[1m]\u001b[0m, \u001b[33mweak_type\u001b[0m=\u001b[3;92mTrue\u001b[0m\u001b[1m)\u001b[0m,\n",
       "                \u001b[33mDIG_COST\u001b[0m=\u001b[1;35mShapedArray\u001b[0m\u001b[1m(\u001b[0mint32\u001b[1m[\u001b[0m\u001b[1;36m3\u001b[0m\u001b[1m]\u001b[0m, \u001b[33mweak_type\u001b[0m=\u001b[3;92mTrue\u001b[0m\u001b[1m)\u001b[0m,\n",
       "                \u001b[33mDIG_RUBBLE_REMOVED\u001b[0m=\u001b[1;35mShapedArray\u001b[0m\u001b[1m(\u001b[0mint32\u001b[1m[\u001b[0m\u001b[1;36m3\u001b[0m\u001b[1m]\u001b[0m, \u001b[33mweak_type\u001b[0m=\u001b[3;92mTrue\u001b[0m\u001b[1m)\u001b[0m,\n",
       "                \u001b[33mDIG_RESOURCE_GAIN\u001b[0m=\u001b[1;35mShapedArray\u001b[0m\u001b[1m(\u001b[0mint32\u001b[1m[\u001b[0m\u001b[1;36m3\u001b[0m\u001b[1m]\u001b[0m, \u001b[33mweak_type\u001b[0m=\u001b[3;92mTrue\u001b[0m\u001b[1m)\u001b[0m,\n",
       "                \u001b[33mDIG_LICHEN_REMOVED\u001b[0m=\u001b[1;35mShapedArray\u001b[0m\u001b[1m(\u001b[0mint32\u001b[1m[\u001b[0m\u001b[1;36m3\u001b[0m\u001b[1m]\u001b[0m, \u001b[33mweak_type\u001b[0m=\u001b[3;92mTrue\u001b[0m\u001b[1m)\u001b[0m,\n",
       "                \u001b[33mSELF_DESTRUCT_COST\u001b[0m=\u001b[1;35mShapedArray\u001b[0m\u001b[1m(\u001b[0mint32\u001b[1m[\u001b[0m\u001b[1;36m3\u001b[0m\u001b[1m]\u001b[0m, \u001b[33mweak_type\u001b[0m=\u001b[3;92mTrue\u001b[0m\u001b[1m)\u001b[0m,\n",
       "                \u001b[33mRUBBLE_AFTER_DESTRUCTION\u001b[0m=\u001b[1;35mShapedArray\u001b[0m\u001b[1m(\u001b[0mint32\u001b[1m[\u001b[0m\u001b[1;36m3\u001b[0m\u001b[1m]\u001b[0m, \u001b[33mweak_type\u001b[0m=\u001b[3;92mTrue\u001b[0m\u001b[1m)\u001b[0m,\n",
       "                \u001b[33mACTION_QUEUE_POWER_COST\u001b[0m=\u001b[1;35mShapedArray\u001b[0m\u001b[1m(\u001b[0mint32\u001b[1m[\u001b[0m\u001b[1;36m3\u001b[0m\u001b[1m]\u001b[0m, \u001b[33mweak_type\u001b[0m=\u001b[3;92mTrue\u001b[0m\u001b[1m)\u001b[0m\n",
       "            \u001b[1m)\u001b[0m\n",
       "        \u001b[1m)\u001b[0m\n",
       "    \u001b[1m)\u001b[0m,\n",
       "    \u001b[33mseed\u001b[0m=\u001b[1;35mShapedArray\u001b[0m\u001b[1m(\u001b[0muint32\u001b[1m[\u001b[0m\u001b[1;36m3\u001b[0m\u001b[1m]\u001b[0m\u001b[1m)\u001b[0m,\n",
       "    \u001b[33mrng_state\u001b[0m=\u001b[1;35mShapedArray\u001b[0m\u001b[1m(\u001b[0muint32\u001b[1m[\u001b[0m\u001b[1;36m3\u001b[0m,\u001b[1;36m2\u001b[0m\u001b[1m]\u001b[0m\u001b[1m)\u001b[0m,\n",
       "    \u001b[33menv_steps\u001b[0m=\u001b[1;35mShapedArray\u001b[0m\u001b[1m(\u001b[0mint16\u001b[1m[\u001b[0m\u001b[1;36m3\u001b[0m\u001b[1m]\u001b[0m\u001b[1m)\u001b[0m,\n",
       "    \u001b[33mboard\u001b[0m=\u001b[1;35mBoard\u001b[0m\u001b[1m(\u001b[0m\n",
       "        \u001b[33mseed\u001b[0m=\u001b[1;35mShapedArray\u001b[0m\u001b[1m(\u001b[0muint32\u001b[1m[\u001b[0m\u001b[1;36m3\u001b[0m\u001b[1m]\u001b[0m\u001b[1m)\u001b[0m,\n",
       "        \u001b[33mfactories_per_team\u001b[0m=\u001b[1;35mShapedArray\u001b[0m\u001b[1m(\u001b[0mint8\u001b[1m[\u001b[0m\u001b[1;36m3\u001b[0m\u001b[1m]\u001b[0m\u001b[1m)\u001b[0m,\n",
       "        \u001b[33mmap\u001b[0m=\u001b[1;35mGameMap\u001b[0m\u001b[1m(\u001b[0m\n",
       "            \u001b[33mrubble\u001b[0m=\u001b[1;35mShapedArray\u001b[0m\u001b[1m(\u001b[0mint8\u001b[1m[\u001b[0m\u001b[1;36m3\u001b[0m,\u001b[1;36m64\u001b[0m,\u001b[1;36m64\u001b[0m\u001b[1m]\u001b[0m\u001b[1m)\u001b[0m,\n",
       "            \u001b[33mice\u001b[0m=\u001b[1;35mShapedArray\u001b[0m\u001b[1m(\u001b[0mbool\u001b[1m[\u001b[0m\u001b[1;36m3\u001b[0m,\u001b[1;36m64\u001b[0m,\u001b[1;36m64\u001b[0m\u001b[1m]\u001b[0m\u001b[1m)\u001b[0m,\n",
       "            \u001b[33more\u001b[0m=\u001b[1;35mShapedArray\u001b[0m\u001b[1m(\u001b[0mbool\u001b[1m[\u001b[0m\u001b[1;36m3\u001b[0m,\u001b[1;36m64\u001b[0m,\u001b[1;36m64\u001b[0m\u001b[1m]\u001b[0m\u001b[1m)\u001b[0m,\n",
       "            \u001b[33msymmetry\u001b[0m=\u001b[1;35mShapedArray\u001b[0m\u001b[1m(\u001b[0mint8\u001b[1m[\u001b[0m\u001b[1;36m3\u001b[0m\u001b[1m]\u001b[0m\u001b[1m)\u001b[0m\n",
       "        \u001b[1m)\u001b[0m,\n",
       "        \u001b[33mlichen\u001b[0m=\u001b[1;35mShapedArray\u001b[0m\u001b[1m(\u001b[0mint32\u001b[1m[\u001b[0m\u001b[1;36m3\u001b[0m,\u001b[1;36m64\u001b[0m,\u001b[1;36m64\u001b[0m\u001b[1m]\u001b[0m\u001b[1m)\u001b[0m,\n",
       "        \u001b[33mlichen_strains\u001b[0m=\u001b[1;35mShapedArray\u001b[0m\u001b[1m(\u001b[0mint8\u001b[1m[\u001b[0m\u001b[1;36m3\u001b[0m,\u001b[1;36m64\u001b[0m,\u001b[1;36m64\u001b[0m\u001b[1m]\u001b[0m\u001b[1m)\u001b[0m,\n",
       "        \u001b[33munits_map\u001b[0m=\u001b[1;35mShapedArray\u001b[0m\u001b[1m(\u001b[0mint16\u001b[1m[\u001b[0m\u001b[1;36m3\u001b[0m,\u001b[1;36m64\u001b[0m,\u001b[1;36m64\u001b[0m\u001b[1m]\u001b[0m\u001b[1m)\u001b[0m,\n",
       "        \u001b[33mfactory_map\u001b[0m=\u001b[1;35mShapedArray\u001b[0m\u001b[1m(\u001b[0mint8\u001b[1m[\u001b[0m\u001b[1;36m3\u001b[0m,\u001b[1;36m64\u001b[0m,\u001b[1;36m64\u001b[0m\u001b[1m]\u001b[0m\u001b[1m)\u001b[0m,\n",
       "        \u001b[33mfactory_occupancy_map\u001b[0m=\u001b[1;35mShapedArray\u001b[0m\u001b[1m(\u001b[0mint8\u001b[1m[\u001b[0m\u001b[1;36m3\u001b[0m,\u001b[1;36m64\u001b[0m,\u001b[1;36m64\u001b[0m\u001b[1m]\u001b[0m\u001b[1m)\u001b[0m,\n",
       "        \u001b[33mfactory_pos\u001b[0m=\u001b[1;35mShapedArray\u001b[0m\u001b[1m(\u001b[0mint8\u001b[1m[\u001b[0m\u001b[1;36m3\u001b[0m,\u001b[1;36m22\u001b[0m,\u001b[1;36m2\u001b[0m\u001b[1m]\u001b[0m\u001b[1m)\u001b[0m\n",
       "    \u001b[1m)\u001b[0m,\n",
       "    \u001b[33munits\u001b[0m=\u001b[1;35mUnit\u001b[0m\u001b[1m(\u001b[0m\n",
       "        \u001b[33munit_type\u001b[0m=\u001b[1;35mShapedArray\u001b[0m\u001b[1m(\u001b[0mint8\u001b[1m[\u001b[0m\u001b[1;36m3\u001b[0m,\u001b[1;36m2\u001b[0m,\u001b[1;36m200\u001b[0m\u001b[1m]\u001b[0m\u001b[1m)\u001b[0m,\n",
       "        \u001b[33maction_queue\u001b[0m=\u001b[1;35mActionQueue\u001b[0m\u001b[1m(\u001b[0m\n",
       "            \u001b[33mdata\u001b[0m=\u001b[1;35mUnitAction\u001b[0m\u001b[1m(\u001b[0m\n",
       "                \u001b[33maction_type\u001b[0m=\u001b[1;35mShapedArray\u001b[0m\u001b[1m(\u001b[0mint8\u001b[1m[\u001b[0m\u001b[1;36m3\u001b[0m,\u001b[1;36m2\u001b[0m,\u001b[1;36m200\u001b[0m,\u001b[1;36m20\u001b[0m\u001b[1m]\u001b[0m\u001b[1m)\u001b[0m,\n",
       "                \u001b[33mdirection\u001b[0m=\u001b[1;35mShapedArray\u001b[0m\u001b[1m(\u001b[0mint8\u001b[1m[\u001b[0m\u001b[1;36m3\u001b[0m,\u001b[1;36m2\u001b[0m,\u001b[1;36m200\u001b[0m,\u001b[1;36m20\u001b[0m\u001b[1m]\u001b[0m\u001b[1m)\u001b[0m,\n",
       "                \u001b[33mresource_type\u001b[0m=\u001b[1;35mShapedArray\u001b[0m\u001b[1m(\u001b[0mint8\u001b[1m[\u001b[0m\u001b[1;36m3\u001b[0m,\u001b[1;36m2\u001b[0m,\u001b[1;36m200\u001b[0m,\u001b[1;36m20\u001b[0m\u001b[1m]\u001b[0m\u001b[1m)\u001b[0m,\n",
       "                \u001b[33mamount\u001b[0m=\u001b[1;35mShapedArray\u001b[0m\u001b[1m(\u001b[0mint16\u001b[1m[\u001b[0m\u001b[1;36m3\u001b[0m,\u001b[1;36m2\u001b[0m,\u001b[1;36m200\u001b[0m,\u001b[1;36m20\u001b[0m\u001b[1m]\u001b[0m\u001b[1m)\u001b[0m,\n",
       "                \u001b[33mrepeat\u001b[0m=\u001b[1;35mShapedArray\u001b[0m\u001b[1m(\u001b[0mint16\u001b[1m[\u001b[0m\u001b[1;36m3\u001b[0m,\u001b[1;36m2\u001b[0m,\u001b[1;36m200\u001b[0m,\u001b[1;36m20\u001b[0m\u001b[1m]\u001b[0m\u001b[1m)\u001b[0m,\n",
       "                \u001b[33mn\u001b[0m=\u001b[1;35mShapedArray\u001b[0m\u001b[1m(\u001b[0mint16\u001b[1m[\u001b[0m\u001b[1;36m3\u001b[0m,\u001b[1;36m2\u001b[0m,\u001b[1;36m200\u001b[0m,\u001b[1;36m20\u001b[0m\u001b[1m]\u001b[0m\u001b[1m)\u001b[0m\n",
       "            \u001b[1m)\u001b[0m,\n",
       "            \u001b[33mfront\u001b[0m=\u001b[1;35mShapedArray\u001b[0m\u001b[1m(\u001b[0mint8\u001b[1m[\u001b[0m\u001b[1;36m3\u001b[0m,\u001b[1;36m2\u001b[0m,\u001b[1;36m200\u001b[0m\u001b[1m]\u001b[0m\u001b[1m)\u001b[0m,\n",
       "            \u001b[33mrear\u001b[0m=\u001b[1;35mShapedArray\u001b[0m\u001b[1m(\u001b[0mint8\u001b[1m[\u001b[0m\u001b[1;36m3\u001b[0m,\u001b[1;36m2\u001b[0m,\u001b[1;36m200\u001b[0m\u001b[1m]\u001b[0m\u001b[1m)\u001b[0m,\n",
       "            \u001b[33mcount\u001b[0m=\u001b[1;35mShapedArray\u001b[0m\u001b[1m(\u001b[0mint8\u001b[1m[\u001b[0m\u001b[1;36m3\u001b[0m,\u001b[1;36m2\u001b[0m,\u001b[1;36m200\u001b[0m\u001b[1m]\u001b[0m\u001b[1m)\u001b[0m\n",
       "        \u001b[1m)\u001b[0m,\n",
       "        \u001b[33mteam_id\u001b[0m=\u001b[1;35mShapedArray\u001b[0m\u001b[1m(\u001b[0mint8\u001b[1m[\u001b[0m\u001b[1;36m3\u001b[0m,\u001b[1;36m2\u001b[0m,\u001b[1;36m200\u001b[0m\u001b[1m]\u001b[0m\u001b[1m)\u001b[0m,\n",
       "        \u001b[33munit_id\u001b[0m=\u001b[1;35mShapedArray\u001b[0m\u001b[1m(\u001b[0mint16\u001b[1m[\u001b[0m\u001b[1;36m3\u001b[0m,\u001b[1;36m2\u001b[0m,\u001b[1;36m200\u001b[0m\u001b[1m]\u001b[0m\u001b[1m)\u001b[0m,\n",
       "        \u001b[33mpos\u001b[0m=\u001b[1;35mPosition\u001b[0m\u001b[1m(\u001b[0m\u001b[33mpos\u001b[0m=\u001b[1;35mShapedArray\u001b[0m\u001b[1m(\u001b[0mint8\u001b[1m[\u001b[0m\u001b[1;36m3\u001b[0m,\u001b[1;36m2\u001b[0m,\u001b[1;36m200\u001b[0m,\u001b[1;36m2\u001b[0m\u001b[1m]\u001b[0m\u001b[1m)\u001b[0m\u001b[1m)\u001b[0m,\n",
       "        \u001b[33mcargo\u001b[0m=\u001b[1;35mUnitCargo\u001b[0m\u001b[1m(\u001b[0m\u001b[33mstock\u001b[0m=\u001b[1;35mShapedArray\u001b[0m\u001b[1m(\u001b[0mint32\u001b[1m[\u001b[0m\u001b[1;36m3\u001b[0m,\u001b[1;36m2\u001b[0m,\u001b[1;36m200\u001b[0m,\u001b[1;36m4\u001b[0m\u001b[1m]\u001b[0m\u001b[1m)\u001b[0m\u001b[1m)\u001b[0m,\n",
       "        \u001b[33mpower\u001b[0m=\u001b[1;35mShapedArray\u001b[0m\u001b[1m(\u001b[0mint32\u001b[1m[\u001b[0m\u001b[1;36m3\u001b[0m,\u001b[1;36m2\u001b[0m,\u001b[1;36m200\u001b[0m\u001b[1m]\u001b[0m\u001b[1m)\u001b[0m\n",
       "    \u001b[1m)\u001b[0m,\n",
       "    \u001b[33munit_id2idx\u001b[0m=\u001b[1;35mShapedArray\u001b[0m\u001b[1m(\u001b[0mint16\u001b[1m[\u001b[0m\u001b[1;36m3\u001b[0m,\u001b[1;36m2000\u001b[0m,\u001b[1;36m2\u001b[0m\u001b[1m]\u001b[0m\u001b[1m)\u001b[0m,\n",
       "    \u001b[33mn_units\u001b[0m=\u001b[1;35mShapedArray\u001b[0m\u001b[1m(\u001b[0mint16\u001b[1m[\u001b[0m\u001b[1;36m3\u001b[0m,\u001b[1;36m2\u001b[0m\u001b[1m]\u001b[0m\u001b[1m)\u001b[0m,\n",
       "    \u001b[33mfactories\u001b[0m=\u001b[1;35mFactory\u001b[0m\u001b[1m(\u001b[0m\n",
       "        \u001b[33mteam_id\u001b[0m=\u001b[1;35mShapedArray\u001b[0m\u001b[1m(\u001b[0mint8\u001b[1m[\u001b[0m\u001b[1;36m3\u001b[0m,\u001b[1;36m2\u001b[0m,\u001b[1;36m11\u001b[0m\u001b[1m]\u001b[0m\u001b[1m)\u001b[0m,\n",
       "        \u001b[33munit_id\u001b[0m=\u001b[1;35mShapedArray\u001b[0m\u001b[1m(\u001b[0mint8\u001b[1m[\u001b[0m\u001b[1;36m3\u001b[0m,\u001b[1;36m2\u001b[0m,\u001b[1;36m11\u001b[0m\u001b[1m]\u001b[0m\u001b[1m)\u001b[0m,\n",
       "        \u001b[33mpos\u001b[0m=\u001b[1;35mPosition\u001b[0m\u001b[1m(\u001b[0m\u001b[33mpos\u001b[0m=\u001b[1;35mShapedArray\u001b[0m\u001b[1m(\u001b[0mint8\u001b[1m[\u001b[0m\u001b[1;36m3\u001b[0m,\u001b[1;36m2\u001b[0m,\u001b[1;36m11\u001b[0m,\u001b[1;36m2\u001b[0m\u001b[1m]\u001b[0m\u001b[1m)\u001b[0m\u001b[1m)\u001b[0m,\n",
       "        \u001b[33mpower\u001b[0m=\u001b[1;35mShapedArray\u001b[0m\u001b[1m(\u001b[0mint32\u001b[1m[\u001b[0m\u001b[1;36m3\u001b[0m,\u001b[1;36m2\u001b[0m,\u001b[1;36m11\u001b[0m\u001b[1m]\u001b[0m\u001b[1m)\u001b[0m,\n",
       "        \u001b[33mcargo\u001b[0m=\u001b[1;35mUnitCargo\u001b[0m\u001b[1m(\u001b[0m\u001b[33mstock\u001b[0m=\u001b[1;35mShapedArray\u001b[0m\u001b[1m(\u001b[0mint32\u001b[1m[\u001b[0m\u001b[1;36m3\u001b[0m,\u001b[1;36m2\u001b[0m,\u001b[1;36m11\u001b[0m,\u001b[1;36m4\u001b[0m\u001b[1m]\u001b[0m\u001b[1m)\u001b[0m\u001b[1m)\u001b[0m\n",
       "    \u001b[1m)\u001b[0m,\n",
       "    \u001b[33mfactory_id2idx\u001b[0m=\u001b[1;35mShapedArray\u001b[0m\u001b[1m(\u001b[0mint8\u001b[1m[\u001b[0m\u001b[1;36m3\u001b[0m,\u001b[1;36m22\u001b[0m,\u001b[1;36m2\u001b[0m\u001b[1m]\u001b[0m\u001b[1m)\u001b[0m,\n",
       "    \u001b[33mn_factories\u001b[0m=\u001b[1;35mShapedArray\u001b[0m\u001b[1m(\u001b[0mint8\u001b[1m[\u001b[0m\u001b[1;36m3\u001b[0m,\u001b[1;36m2\u001b[0m\u001b[1m]\u001b[0m\u001b[1m)\u001b[0m,\n",
       "    \u001b[33mteams\u001b[0m=\u001b[1;35mTeam\u001b[0m\u001b[1m(\u001b[0m\n",
       "        \u001b[33mteam_id\u001b[0m=\u001b[1;35mShapedArray\u001b[0m\u001b[1m(\u001b[0mint8\u001b[1m[\u001b[0m\u001b[1;36m3\u001b[0m,\u001b[1;36m2\u001b[0m\u001b[1m]\u001b[0m\u001b[1m)\u001b[0m,\n",
       "        \u001b[33mfaction\u001b[0m=\u001b[1;35mShapedArray\u001b[0m\u001b[1m(\u001b[0mint8\u001b[1m[\u001b[0m\u001b[1;36m3\u001b[0m,\u001b[1;36m2\u001b[0m\u001b[1m]\u001b[0m\u001b[1m)\u001b[0m,\n",
       "        \u001b[33minit_water\u001b[0m=\u001b[1;35mShapedArray\u001b[0m\u001b[1m(\u001b[0mint32\u001b[1m[\u001b[0m\u001b[1;36m3\u001b[0m,\u001b[1;36m2\u001b[0m\u001b[1m]\u001b[0m\u001b[1m)\u001b[0m,\n",
       "        \u001b[33minit_metal\u001b[0m=\u001b[1;35mShapedArray\u001b[0m\u001b[1m(\u001b[0mint32\u001b[1m[\u001b[0m\u001b[1;36m3\u001b[0m,\u001b[1;36m2\u001b[0m\u001b[1m]\u001b[0m\u001b[1m)\u001b[0m,\n",
       "        \u001b[33mfactories_to_place\u001b[0m=\u001b[1;35mShapedArray\u001b[0m\u001b[1m(\u001b[0mint32\u001b[1m[\u001b[0m\u001b[1;36m3\u001b[0m,\u001b[1;36m2\u001b[0m\u001b[1m]\u001b[0m\u001b[1m)\u001b[0m,\n",
       "        \u001b[33mfactory_strains\u001b[0m=\u001b[1;35mShapedArray\u001b[0m\u001b[1m(\u001b[0mint8\u001b[1m[\u001b[0m\u001b[1;36m3\u001b[0m,\u001b[1;36m2\u001b[0m,\u001b[1;36m11\u001b[0m\u001b[1m]\u001b[0m\u001b[1m)\u001b[0m,\n",
       "        \u001b[33mn_factory\u001b[0m=\u001b[1;35mShapedArray\u001b[0m\u001b[1m(\u001b[0mint8\u001b[1m[\u001b[0m\u001b[1;36m3\u001b[0m,\u001b[1;36m2\u001b[0m\u001b[1m]\u001b[0m\u001b[1m)\u001b[0m,\n",
       "        \u001b[33mbid\u001b[0m=\u001b[1;35mShapedArray\u001b[0m\u001b[1m(\u001b[0mint32\u001b[1m[\u001b[0m\u001b[1;36m3\u001b[0m,\u001b[1;36m2\u001b[0m\u001b[1m]\u001b[0m\u001b[1m)\u001b[0m\n",
       "    \u001b[1m)\u001b[0m,\n",
       "    \u001b[33mglobal_id\u001b[0m=\u001b[1;35mShapedArray\u001b[0m\u001b[1m(\u001b[0mint16\u001b[1m[\u001b[0m\u001b[1;36m3\u001b[0m\u001b[1m]\u001b[0m\u001b[1m)\u001b[0m,\n",
       "    \u001b[33mplace_first\u001b[0m=\u001b[1;35mShapedArray\u001b[0m\u001b[1m(\u001b[0mint8\u001b[1m[\u001b[0m\u001b[1;36m3\u001b[0m\u001b[1m]\u001b[0m\u001b[1m)\u001b[0m\n",
       "\u001b[1m)\u001b[0m\n"
      ]
     },
     "metadata": {},
     "output_type": "display_data"
    }
   ],
   "source": [
    "from rich import print as rprint\n",
    "rprint(tree_map(lambda t: t.aval, states))"
   ]
  },
  {
   "cell_type": "code",
   "execution_count": 6,
   "metadata": {},
   "outputs": [
    {
     "name": "stdout",
     "output_type": "stream",
     "text": [
      "[[[ 48  50]\n",
      "  [ 45  46]\n",
      "  [ 45  55]\n",
      "  [ 44  61]\n",
      "  [ 32  22]\n",
      "  [127 127]]\n",
      "\n",
      " [[ 16  38]\n",
      "  [  7  20]\n",
      "  [  2  50]\n",
      "  [ 41   6]\n",
      "  [ 10  29]\n",
      "  [127 127]]]\n",
      "[[[ 16  38]\n",
      "  [  7  20]\n",
      "  [  2  50]\n",
      "  [ 41   6]\n",
      "  [ 10  29]\n",
      "  [127 127]]\n",
      "\n",
      " [[ 48  50]\n",
      "  [ 45  46]\n",
      "  [ 45  55]\n",
      "  [ 44  61]\n",
      "  [ 32  22]\n",
      "  [127 127]]]\n"
     ]
    }
   ],
   "source": [
    "reload(ut)\n",
    "state = tree_map(lambda t: t[0], states)\n",
    "flipped_states = ut.flip_states(states)\n",
    "print(flipped_states.factories.pos.pos[0][:, :6])\n",
    "print(states.factories.pos.pos[0][:, :6])"
   ]
  },
  {
   "cell_type": "code",
   "execution_count": 7,
   "metadata": {},
   "outputs": [
    {
     "data": {
      "text/plain": [
       "(2,)"
      ]
     },
     "execution_count": 7,
     "metadata": {},
     "output_type": "execute_result"
    }
   ],
   "source": [
    "states.board.factories_per_team.shape"
   ]
  },
  {
   "cell_type": "code",
   "execution_count": 8,
   "metadata": {},
   "outputs": [],
   "source": [
    "import preprocess as pp\n"
   ]
  },
  {
   "cell_type": "code",
   "execution_count": 7,
   "metadata": {},
   "outputs": [
    {
     "name": "stdout",
     "output_type": "stream",
     "text": [
      "(3, 73)\n"
     ]
    }
   ],
   "source": [
    "reload(ut)\n",
    "reload(pp)\n",
    "print(pp.get_global_feature(states).shape)\n",
    "# pp.get_unit_feature(tree_map(lambda t: t[0], states)).shape"
   ]
  },
  {
   "cell_type": "code",
   "execution_count": 9,
   "metadata": {},
   "outputs": [
    {
     "data": {
      "text/plain": [
       "Array([[1., 0., 0., 0., 0., 0., 0., 0., 0., 0., 0., 0., 0., 0., 0., 0.,\n",
       "        0., 0., 0., 0., 1., 0., 0., 0., 0., 0., 0., 0., 0., 0., 0., 0.,\n",
       "        0., 0., 0., 0., 0., 0., 0., 0., 0., 0., 0., 0., 0., 0., 0., 0.,\n",
       "        0., 0., 0., 0., 0., 0., 0., 0., 0., 0., 0., 0., 0., 0., 0., 0.,\n",
       "        0., 0., 0., 0., 0., 0., 1., 0., 0.],\n",
       "       [1., 0., 0., 0., 0., 0., 0., 0., 0., 0., 0., 0., 0., 0., 0., 0.,\n",
       "        0., 0., 0., 0., 1., 0., 0., 0., 0., 0., 0., 0., 0., 0., 0., 0.,\n",
       "        0., 0., 0., 0., 0., 0., 0., 0., 0., 0., 0., 0., 0., 0., 0., 0.,\n",
       "        0., 0., 0., 0., 0., 0., 0., 0., 0., 0., 0., 0., 0., 0., 0., 0.,\n",
       "        0., 0., 0., 0., 0., 0., 1., 0., 0.],\n",
       "       [1., 0., 0., 0., 0., 0., 0., 0., 0., 0., 0., 0., 0., 0., 0., 0.,\n",
       "        0., 0., 0., 0., 1., 0., 0., 0., 0., 0., 0., 0., 0., 0., 0., 0.,\n",
       "        0., 0., 0., 0., 0., 0., 0., 0., 0., 0., 0., 0., 0., 0., 0., 0.,\n",
       "        0., 0., 0., 0., 0., 0., 0., 0., 0., 0., 0., 0., 0., 0., 0., 0.,\n",
       "        0., 0., 0., 0., 0., 0., 1., 0., 0.]], dtype=float32)"
      ]
     },
     "execution_count": 9,
     "metadata": {},
     "output_type": "execute_result"
    }
   ],
   "source": [
    "global_feature = pp.get_global_feature(states)\n",
    "global_feature"
   ]
  },
  {
   "cell_type": "code",
   "execution_count": 11,
   "metadata": {},
   "outputs": [
    {
     "data": {
      "text/plain": [
       "Array([[0, 1, 2, 3, 4],\n",
       "       [5, 6, 7, 8, 9]], dtype=int32)"
      ]
     },
     "execution_count": 11,
     "metadata": {},
     "output_type": "execute_result"
    }
   ],
   "source": [
    "a = jnp.arange(2*5).reshape(2, 5)\n",
    "a"
   ]
  },
  {
   "cell_type": "code",
   "execution_count": 12,
   "metadata": {},
   "outputs": [
    {
     "data": {
      "text/plain": [
       "Array([[0, 1, 2, 4, 3],\n",
       "       [5, 6, 7, 9, 8]], dtype=int32)"
      ]
     },
     "execution_count": 12,
     "metadata": {},
     "output_type": "execute_result"
    }
   ],
   "source": [
    "a.at[:, [-2, -1]].set(a[:, [-1, -2]])"
   ]
  },
  {
   "cell_type": "code",
   "execution_count": 14,
   "metadata": {},
   "outputs": [],
   "source": [
    "reload(pp)\n",
    "feature_1, feature_2 = pp.get_feature_teams(states)"
   ]
  },
  {
   "cell_type": "code",
   "execution_count": 33,
   "metadata": {},
   "outputs": [
    {
     "data": {
      "text/plain": [
       "Array([[[ 0.,  0.,  0., ..., 83.,  0.,  0.],\n",
       "        [ 0.,  0.,  0., ..., 80.,  0.,  0.],\n",
       "        [ 0.,  0.,  0., ..., 77.,  0.,  0.],\n",
       "        ...,\n",
       "        [ 0.,  0.,  0., ..., 77.,  0.,  0.],\n",
       "        [ 0.,  0.,  0., ..., 80.,  0.,  0.],\n",
       "        [ 0.,  0.,  0., ..., 83.,  0.,  0.]],\n",
       "\n",
       "       [[ 0.,  0.,  0., ..., 82.,  0.,  0.],\n",
       "        [ 0.,  0.,  0., ..., 79.,  0.,  0.],\n",
       "        [ 0.,  0.,  0., ..., 76.,  0.,  0.],\n",
       "        ...,\n",
       "        [ 0.,  0.,  0., ..., 76.,  0.,  0.],\n",
       "        [ 0.,  0.,  0., ..., 79.,  0.,  0.],\n",
       "        [ 0.,  0.,  0., ..., 82.,  0.,  0.]],\n",
       "\n",
       "       [[ 0.,  0.,  0., ..., 80.,  0.,  0.],\n",
       "        [ 0.,  0.,  0., ..., 77.,  0.,  0.],\n",
       "        [ 0.,  0.,  0., ..., 74.,  0.,  0.],\n",
       "        ...,\n",
       "        [ 0.,  0.,  0., ..., 14.,  0.,  0.],\n",
       "        [ 0.,  0.,  0., ..., 77.,  0.,  0.],\n",
       "        [ 0.,  0.,  0., ..., 80.,  0.,  0.]],\n",
       "\n",
       "       ...,\n",
       "\n",
       "       [[ 0.,  0.,  0., ..., 71.,  0.,  0.],\n",
       "        [ 0.,  0.,  0., ..., 71.,  0.,  0.],\n",
       "        [ 0.,  0.,  0., ..., 14.,  0.,  0.],\n",
       "        ...,\n",
       "        [ 0.,  0.,  0., ..., 14.,  0.,  0.],\n",
       "        [ 0.,  0.,  0., ..., 71.,  0.,  0.],\n",
       "        [ 0.,  0.,  0., ..., 71.,  0.,  0.]],\n",
       "\n",
       "       [[ 0.,  0.,  0., ..., 71.,  0.,  0.],\n",
       "        [ 0.,  0.,  0., ..., 70.,  0.,  0.],\n",
       "        [ 0.,  0.,  0., ..., 70.,  0.,  0.],\n",
       "        ...,\n",
       "        [ 0.,  0.,  0., ..., 70.,  0.,  0.],\n",
       "        [ 0.,  0.,  0., ..., 70.,  0.,  0.],\n",
       "        [ 0.,  0.,  0., ..., 71.,  0.,  0.]],\n",
       "\n",
       "       [[ 0.,  0.,  0., ..., 70.,  0.,  0.],\n",
       "        [ 0.,  0.,  0., ..., 70.,  0.,  0.],\n",
       "        [ 0.,  0.,  0., ..., 70.,  0.,  0.],\n",
       "        ...,\n",
       "        [ 0.,  0.,  0., ..., 70.,  0.,  0.],\n",
       "        [ 0.,  0.,  0., ..., 70.,  0.,  0.],\n",
       "        [ 0.,  0.,  0., ..., 70.,  0.,  0.]]], dtype=float32)"
      ]
     },
     "execution_count": 33,
     "metadata": {},
     "output_type": "execute_result"
    }
   ],
   "source": [
    "feature_1.local_feature[0]"
   ]
  },
  {
   "cell_type": "code",
   "execution_count": 45,
   "metadata": {},
   "outputs": [
    {
     "data": {
      "text/plain": [
       "{24, 27, 28, 29, 30, 31, 32, 35, 36, 37, 38, 39, 41, 42, 43}"
      ]
     },
     "execution_count": 45,
     "metadata": {},
     "output_type": "execute_result"
    }
   ],
   "source": [
    "import numpy as np\n",
    "set(np.array(feature_2.local_feature[0].nonzero()[2]))"
   ]
  },
  {
   "cell_type": "code",
   "execution_count": 55,
   "metadata": {},
   "outputs": [
    {
     "data": {
      "text/plain": [
       "<matplotlib.image.AxesImage at 0x7f22d2555ab0>"
      ]
     },
     "execution_count": 55,
     "metadata": {},
     "output_type": "execute_result"
    },
    {
     "data": {
      "image/png": "[encoded data removed]",
      "text/plain": [
       "<Figure size 640x480 with 1 Axes>"
      ]
     },
     "metadata": {},
     "output_type": "display_data"
    }
   ],
   "source": [
    "plt.imshow(feature_1.local_feature[0, ..., 32], cmap='gray')"
   ]
  },
  {
   "cell_type": "code",
   "execution_count": 54,
   "metadata": {},
   "outputs": [
    {
     "data": {
      "text/plain": [
       "<matplotlib.image.AxesImage at 0x7f22d24e5750>"
      ]
     },
     "execution_count": 54,
     "metadata": {},
     "output_type": "execute_result"
    },
    {
     "data": {
      "image/png": "[encoded data removed]",
      "text/plain": [
       "<Figure size 640x480 with 1 Axes>"
      ]
     },
     "metadata": {},
     "output_type": "display_data"
    }
   ],
   "source": [
    "plt.imshow(feature_2.local_feature[0, ..., 27], cmap='gray')"
   ]
  },
  {
   "cell_type": "code",
   "execution_count": 20,
   "metadata": {},
   "outputs": [
    {
     "data": {
      "text/plain": [
       "(3, 2, 11, 4)"
      ]
     },
     "execution_count": 20,
     "metadata": {},
     "output_type": "execute_result"
    }
   ],
   "source": [
    "states.factories.cargo.stock.shape"
   ]
  },
  {
   "cell_type": "code",
   "execution_count": 29,
   "metadata": {},
   "outputs": [
    {
     "data": {
      "text/plain": [
       "Array([[[False, False, False, False, False, False, False, False, False,\n",
       "         False, False],\n",
       "        [ True,  True,  True,  True,  True, False, False, False, False,\n",
       "         False, False]],\n",
       "\n",
       "       [[False, False, False, False, False, False, False, False, False,\n",
       "         False, False],\n",
       "        [ True,  True,  True,  True, False, False, False, False, False,\n",
       "         False, False]],\n",
       "\n",
       "       [[False, False, False, False, False, False, False, False, False,\n",
       "         False, False],\n",
       "        [ True,  True,  True,  True,  True, False, False, False, False,\n",
       "         False, False]]], dtype=bool)"
      ]
     },
     "execution_count": 29,
     "metadata": {},
     "output_type": "execute_result"
    }
   ],
   "source": []
  },
  {
   "cell_type": "code",
   "execution_count": 34,
   "metadata": {},
   "outputs": [
    {
     "data": {
      "text/plain": [
       "Array([150, 150, 150, 150, 150, 150, 150, 150, 150, 150, 150, 150, 150,\n",
       "       150], dtype=int32)"
      ]
     },
     "execution_count": 34,
     "metadata": {},
     "output_type": "execute_result"
    }
   ],
   "source": []
  },
  {
   "cell_type": "code",
   "execution_count": 42,
   "metadata": {},
   "outputs": [
    {
     "data": {
      "text/plain": [
       "Array([[[[  0,   0, 150, 150],\n",
       "         [  0,   0, 150, 150],\n",
       "         [  0,   0, 150, 150],\n",
       "         [  0,   0, 150, 150],\n",
       "         [  0,   0, 150, 150],\n",
       "         [  0,   0,   0,   0],\n",
       "         [  0,   0,   0,   0],\n",
       "         [  0,   0,   0,   0],\n",
       "         [  0,   0,   0,   0],\n",
       "         [  0,   0,   0,   0],\n",
       "         [  0,   0,   0,   0]],\n",
       "\n",
       "        [[  0,   0, 150,  50],\n",
       "         [  0,   0, 150,  50],\n",
       "         [  0,   0, 150,  50],\n",
       "         [  0,   0, 150,  50],\n",
       "         [  0,   0, 150,  50],\n",
       "         [  0,   0,   0,   0],\n",
       "         [  0,   0,   0,   0],\n",
       "         [  0,   0,   0,   0],\n",
       "         [  0,   0,   0,   0],\n",
       "         [  0,   0,   0,   0],\n",
       "         [  0,   0,   0,   0]]],\n",
       "\n",
       "\n",
       "       [[[  0,   0, 150, 150],\n",
       "         [  0,   0, 150, 150],\n",
       "         [  0,   0, 150, 150],\n",
       "         [  0,   0, 150, 150],\n",
       "         [  0,   0,   0,   0],\n",
       "         [  0,   0,   0,   0],\n",
       "         [  0,   0,   0,   0],\n",
       "         [  0,   0,   0,   0],\n",
       "         [  0,   0,   0,   0],\n",
       "         [  0,   0,   0,   0],\n",
       "         [  0,   0,   0,   0]],\n",
       "\n",
       "        [[  0,   0, 150,  50],\n",
       "         [  0,   0, 150,  50],\n",
       "         [  0,   0, 150,  50],\n",
       "         [  0,   0, 150,  50],\n",
       "         [  0,   0,   0,   0],\n",
       "         [  0,   0,   0,   0],\n",
       "         [  0,   0,   0,   0],\n",
       "         [  0,   0,   0,   0],\n",
       "         [  0,   0,   0,   0],\n",
       "         [  0,   0,   0,   0],\n",
       "         [  0,   0,   0,   0]]],\n",
       "\n",
       "\n",
       "       [[[  0,   0, 150, 150],\n",
       "         [  0,   0, 150, 150],\n",
       "         [  0,   0, 150, 150],\n",
       "         [  0,   0, 150, 150],\n",
       "         [  0,   0, 150, 150],\n",
       "         [  0,   0,   0,   0],\n",
       "         [  0,   0,   0,   0],\n",
       "         [  0,   0,   0,   0],\n",
       "         [  0,   0,   0,   0],\n",
       "         [  0,   0,   0,   0],\n",
       "         [  0,   0,   0,   0]],\n",
       "\n",
       "        [[  0,   0, 150,  50],\n",
       "         [  0,   0, 150,  50],\n",
       "         [  0,   0, 150,  50],\n",
       "         [  0,   0, 150,  50],\n",
       "         [  0,   0, 150,  50],\n",
       "         [  0,   0,   0,   0],\n",
       "         [  0,   0,   0,   0],\n",
       "         [  0,   0,   0,   0],\n",
       "         [  0,   0,   0,   0],\n",
       "         [  0,   0,   0,   0],\n",
       "         [  0,   0,   0,   0]]]], dtype=int32)"
      ]
     },
     "execution_count": 42,
     "metadata": {},
     "output_type": "execute_result"
    }
   ],
   "source": [
    "env_state = states\n",
    "env_state = env_state._replace(\n",
    "                    factories=env_state.factories._replace(\n",
    "                        cargo=env_state.factories.cargo._replace(\n",
    "                            stock=env_state.factories.cargo.stock.at[:, 1, :, 2].set(env_state.factory_mask[:, 1, :] * 50))))\n",
    "env_state.factories.cargo.stock"
   ]
  },
  {
   "cell_type": "code",
   "execution_count": 10,
   "metadata": {},
   "outputs": [
    {
     "data": {
      "text/plain": [
       "(2, 64, 64, 24)"
      ]
     },
     "execution_count": 10,
     "metadata": {},
     "output_type": "execute_result"
    }
   ],
   "source": [
    "reload(pp)\n",
    "pp.get_unit_feature(states).shape\n",
    "# pp.get_unit_feature(tree_map(lambda t: t[0], states)).shape"
   ]
  },
  {
   "cell_type": "code",
   "execution_count": 11,
   "metadata": {},
   "outputs": [
    {
     "data": {
      "text/plain": [
       "(2, 64, 64, 4)"
      ]
     },
     "execution_count": 11,
     "metadata": {},
     "output_type": "execute_result"
    }
   ],
   "source": [
    "reload(pp)\n",
    "pp.get_board_feature(states).shape\n",
    "#pp.get_board_feature(tree_map(lambda t: t[0], states)).shape"
   ]
  },
  {
   "cell_type": "code",
   "execution_count": 12,
   "metadata": {},
   "outputs": [
    {
     "data": {
      "text/plain": [
       "(2, 64, 64, 16)"
      ]
     },
     "execution_count": 12,
     "metadata": {},
     "output_type": "execute_result"
    }
   ],
   "source": [
    "reload(pp)\n",
    "pp.get_factory_feature(states).shape\n",
    "# pp.get_factory_feature(tree_map(lambda t: t[0], states)).shape"
   ]
  },
  {
   "cell_type": "code",
   "execution_count": 13,
   "metadata": {},
   "outputs": [
    {
     "data": {
      "text/plain": [
       "ObsSpace(local_feature=(2, 64, 64, 44), global_feature=(2, 73))"
      ]
     },
     "execution_count": 13,
     "metadata": {},
     "output_type": "execute_result"
    }
   ],
   "source": [
    "reload(pp)\n",
    "tree_map(lambda t: t.shape, pp.get_feature(states))"
   ]
  },
  {
   "cell_type": "code",
   "execution_count": 71,
   "metadata": {},
   "outputs": [
    {
     "name": "stdout",
     "output_type": "stream",
     "text": [
      "5.01 ms ± 503 µs per loop (mean ± std. dev. of 7 runs, 100 loops each)\n"
     ]
    }
   ],
   "source": [
    "%timeit pp.get_feature(states)"
   ]
  },
  {
   "cell_type": "code",
   "execution_count": 50,
   "metadata": {},
   "outputs": [
    {
     "name": "stdout",
     "output_type": "stream",
     "text": [
      "[[-9.36902  ]\n",
      " [-2.8293552]]\n"
     ]
    }
   ],
   "source": [
    "import models\n",
    "from jax.random import PRNGKey\n",
    "reload(models)\n",
    "model = models.NaiveActorCritic(tree_map(lambda t: t[0], states.env_cfg), jux_env_batch.buf_cfg)\n",
    "features = pp.get_feature(states)\n",
    "params = model.init(PRNGKey(0), features)\n",
    "action, value = model.apply(params, features)\n",
    "print(value)"
   ]
  },
  {
   "cell_type": "code",
   "execution_count": null,
   "metadata": {},
   "outputs": [],
   "source": []
  }
 ],
 "metadata": {
  "kernelspec": {
   "display_name": "Python 3 (ipykernel)",
   "language": "python",
   "name": "python3"
  },
  "language_info": {
   "codemirror_mode": {
    "name": "ipython",
    "version": 3
   },
   "file_extension": ".py",
   "mimetype": "text/x-python",
   "name": "python",
   "nbconvert_exporter": "python",
   "pygments_lexer": "ipython3",
   "version": "3.10.13"
  },
  "vscode": {
   "interpreter": {
    "hash": "d4d1e4263499bec80672ea0156c357c1ee493ec2b1c70f0acce89fc37c4a6abe"
   }
  }
 },
 "nbformat": 4,
 "nbformat_minor": 4
}
